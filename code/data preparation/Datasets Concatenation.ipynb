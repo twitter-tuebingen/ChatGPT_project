{
 "cells": [
  {
   "cell_type": "code",
   "execution_count": null,
   "metadata": {},
   "outputs": [],
   "source": [
    "import pandas as pd\n",
    "import json\n",
    "from tqdm import tqdm\n",
    "import os\n",
    "import matplotlib.pyplot as plt\n",
    "import plotly.express as px"
   ]
  },
  {
   "cell_type": "code",
   "execution_count": 7,
   "metadata": {},
   "outputs": [
    {
     "name": "stderr",
     "output_type": "stream",
     "text": [
      "100%|██████████| 4027/4027 [1:10:16<00:00,  1.05s/it]\n"
     ]
    }
   ],
   "source": [
    "# read all json files\n",
    "path='../data/'\n",
    "files = os.listdir(path)\n",
    "\n",
    "count=0\n",
    "for file in tqdm(files):\n",
    "    with open(path+file, 'r',encoding=\"utf-8\") as f:\n",
    "        temp = json.load(f)\n",
    "        if count==0:\n",
    "            data = pd.json_normalize(temp[\"data\"])\n",
    "            count+=1\n",
    "        else:\n",
    "            df = pd.json_normalize(temp[\"data\"])\n",
    "            data = pd.concat([data,df],axis=0)"
   ]
  },
  {
   "cell_type": "code",
   "execution_count": 126,
   "metadata": {},
   "outputs": [
    {
     "name": "stderr",
     "output_type": "stream",
     "text": [
      "100%|██████████| 51777/51777 [4:38:51<00:00,  3.09it/s]   \n"
     ]
    }
   ],
   "source": [
    "path='../data/conversations_31jan/'\n",
    "files = os.listdir(path)\n",
    "count=0\n",
    "n=2\n",
    "\n",
    "for file in tqdm(files[files.index(file):]):\n",
    "    with open(path+file, 'r',encoding=\"utf-8\") as f:\n",
    "        temp = json.load(f)\n",
    "        if count==0:\n",
    "            data = pd.json_normalize(temp[\"data\"])\n",
    "            count+=1\n",
    "        else:\n",
    "            df = pd.json_normalize(temp[\"data\"])\n",
    "            data = pd.concat([data,df],axis=0)\n",
    "            count+=1\n",
    "    if count % 10000==0:\n",
    "        data=data.reset_index(drop=True)\n",
    "        data.to_json(\"../data/for_analysis/conv31/data_conv31_\"+str(n)+\".json\")\n",
    "        count=0\n",
    "        n+=1\n",
    "\n",
    "data=data.reset_index(drop=True)\n",
    "data.to_json(\"../data/for_analysis/conv31/data_conv31_\"+str(n)+\".json\")"
   ]
  },
  {
   "cell_type": "code",
   "execution_count": 128,
   "metadata": {},
   "outputs": [],
   "source": [
    "path='../data/for_analysis/conv31/'\n",
    "files = os.listdir(path)\n",
    "count=0\n",
    "for file in files:\n",
    "    if count==0:\n",
    "        df = pd.read_json(path+file)\n",
    "        data = df\n",
    "        count+=1\n",
    "    else:\n",
    "        df = pd.read_json(path+file)\n",
    "        data = pd.concat([data,df],axis=0)\n"
   ]
  },
  {
   "cell_type": "code",
   "execution_count": 129,
   "metadata": {},
   "outputs": [],
   "source": [
    "data = data.reset_index(drop=True)\n",
    "data.to_json(\"../data/for_analysis/conv31_data.json\")"
   ]
  },
  {
   "cell_type": "code",
   "execution_count": 136,
   "metadata": {},
   "outputs": [],
   "source": [
    "with open(\"../data/conv_ids_extended_rest.txt\",'r') as f:\n",
    "    ext_rest = f.read().splitlines()\n",
    "path='../data/conv_ids_extended/'\n",
    "files = os.listdir(path)\n",
    "\n",
    "files_rest=[]\n",
    "for file in files:\n",
    "    if file[:-7] in ext_rest:\n",
    "        files_rest.append(file)"
   ]
  },
  {
   "cell_type": "code",
   "execution_count": 137,
   "metadata": {},
   "outputs": [
    {
     "data": {
      "text/plain": [
       "5000"
      ]
     },
     "execution_count": 137,
     "metadata": {},
     "output_type": "execute_result"
    }
   ],
   "source": [
    "len(files_rest)"
   ]
  },
  {
   "cell_type": "code",
   "execution_count": 139,
   "metadata": {},
   "outputs": [
    {
     "name": "stderr",
     "output_type": "stream",
     "text": [
      "100%|██████████| 5000/5000 [20:29<00:00,  4.07it/s]\n"
     ]
    }
   ],
   "source": [
    "count=0\n",
    "for file in tqdm(files_rest):\n",
    "    with open(path+file, 'r',encoding=\"utf-8\") as f:\n",
    "        temp = json.load(f)\n",
    "        if count==0:\n",
    "            data = pd.json_normalize(temp[\"data\"])\n",
    "            count+=1\n",
    "        else:\n",
    "            df = pd.json_normalize(temp[\"data\"])\n",
    "            data = pd.concat([data,df],axis=0)\n",
    "data = data.reset_index(drop=True)"
   ]
  },
  {
   "cell_type": "code",
   "execution_count": 140,
   "metadata": {},
   "outputs": [],
   "source": [
    "df=pd.read_json(\"../data/for_analysis/conv_extended_data.json\")\n",
    "data = pd.concat([df,data],axis=0)\n",
    "data = data.reset_index(drop=True)\n",
    "data.to_json(\"../data/for_analysis/conv_extended_data.json\")"
   ]
  },
  {
   "attachments": {},
   "cell_type": "markdown",
   "metadata": {},
   "source": [
    "#### Extract Conversations Ids"
   ]
  },
  {
   "cell_type": "code",
   "execution_count": null,
   "metadata": {},
   "outputs": [],
   "source": [
    "conversation_ids = data.loc[(data['public_metrics.reply_count']>0) & (data['id']==data['conversation_id']),\"conversation_id\"].to_list()\n",
    "with open(\"../data/conv_ids.txt\", 'w') as f:\n",
    "    for cid in conversation_ids:\n",
    "        f.write(f'{cid}\\n')"
   ]
  },
  {
   "cell_type": "code",
   "execution_count": 79,
   "metadata": {},
   "outputs": [
    {
     "name": "stderr",
     "output_type": "stream",
     "text": [
      "100%|██████████| 64542/64542 [4:51:45<00:00,  3.69it/s]  \n"
     ]
    },
    {
     "data": {
      "text/plain": [
       "(451482, 28)"
      ]
     },
     "execution_count": 79,
     "metadata": {},
     "output_type": "execute_result"
    }
   ],
   "source": [
    "path='../data/conversations/'\n",
    "files = os.listdir(path)\n",
    "\n",
    "count=0\n",
    "for file in tqdm(files):\n",
    "    with open(path+file, 'r',encoding=\"utf-8\") as f:\n",
    "        temp = json.load(f)\n",
    "        if count==0:\n",
    "            conv = pd.json_normalize(temp[\"data\"])\n",
    "            count+=1\n",
    "        else:\n",
    "            df = pd.json_normalize(temp[\"data\"])\n",
    "            conv = pd.concat([conv,df],axis=0)\n",
    "conv.shape"
   ]
  },
  {
   "cell_type": "code",
   "execution_count": 82,
   "metadata": {},
   "outputs": [],
   "source": [
    "conv = conv.reset_index(drop=True)\n",
    "conv.to_json(\"../data/for_analysis/conv_data.json\")"
   ]
  },
  {
   "attachments": {},
   "cell_type": "markdown",
   "metadata": {},
   "source": [
    "### Conversations extention"
   ]
  },
  {
   "cell_type": "code",
   "execution_count": 3,
   "metadata": {},
   "outputs": [
    {
     "name": "stderr",
     "output_type": "stream",
     "text": [
      "100%|██████████| 109382/109382 [5:00:41<00:00,  6.06it/s]  \n"
     ]
    }
   ],
   "source": [
    "path='../data/conv_ids_extended/'\n",
    "files = os.listdir(path)\n",
    "\n",
    "count=0\n",
    "n=1\n",
    "for file in tqdm(files):\n",
    "    with open(path+file, 'r',encoding=\"utf-8\") as f:\n",
    "        temp = json.load(f)\n",
    "        if count==0:\n",
    "            conv = pd.json_normalize(temp[\"data\"])\n",
    "            count+=1\n",
    "        else:\n",
    "            df = pd.json_normalize(temp[\"data\"])\n",
    "            conv = pd.concat([conv,df],axis=0)\n",
    "            count+=1\n",
    "        if count % 4000 == 0:\n",
    "            conv = conv.reset_index(drop = True)\n",
    "            conv.to_json(\"../data/for_analysis/conv_ext/conv_ext_\"+str(n)+\".json\")\n",
    "            count=0\n",
    "            n+=1\n",
    "\n",
    "conv = conv.reset_index(drop = True)\n",
    "conv.to_json(\"../data/for_analysis/conv_ext/conv_ext_\"+str(n)+\".json\")"
   ]
  },
  {
   "cell_type": "code",
   "execution_count": 5,
   "metadata": {},
   "outputs": [
    {
     "name": "stderr",
     "output_type": "stream",
     "text": [
      "100%|██████████| 28/28 [10:58<00:00, 23.51s/it]\n"
     ]
    }
   ],
   "source": [
    "path='../data/for_analysis/conv_ext/'\n",
    "files = os.listdir(path)\n",
    "\n",
    "count=0\n",
    "for file in tqdm(files):\n",
    "    if count==0:\n",
    "        conv = pd.read_json(path+file)\n",
    "        count+=1\n",
    "    else:\n",
    "        df = pd.read_json(path+file)\n",
    "        conv = pd.concat([conv,df],axis=0)\n",
    "        count+=1"
   ]
  },
  {
   "cell_type": "code",
   "execution_count": 6,
   "metadata": {},
   "outputs": [],
   "source": [
    "conv = conv.reset_index(drop=True)\n",
    "conv.to_json(\"../data/for_analysis/conv_extended_data.json\")"
   ]
  },
  {
   "cell_type": "code",
   "execution_count": 111,
   "metadata": {},
   "outputs": [],
   "source": [
    "with open(\"../data/conv_ids_extended.txt\",\"r\") as f:\n",
    "    ext_init = f.read().splitlines()\n",
    "with open(\"../data/conv_ids_extended_used.txt\",\"r\") as f:\n",
    "    ext_init_used = f.read().splitlines()"
   ]
  },
  {
   "cell_type": "code",
   "execution_count": null,
   "metadata": {},
   "outputs": [],
   "source": [
    "ext_load = set(conv.conversation_id.to_list())"
   ]
  },
  {
   "cell_type": "code",
   "execution_count": 113,
   "metadata": {},
   "outputs": [],
   "source": [
    "conv_ext_rest = []\n",
    "\n",
    "with open(\"../data/conv_ids_extended_rest.txt\",\"w\") as f:\n",
    "    for c in ext_init:\n",
    "        if c not in ext_init_used:\n",
    "            f.write(c+\"\\n\")\n",
    "            conv_ext_rest.append(c)\n"
   ]
  },
  {
   "cell_type": "code",
   "execution_count": null,
   "metadata": {},
   "outputs": [],
   "source": []
  }
 ],
 "metadata": {
  "kernelspec": {
   "display_name": "chatgpt",
   "language": "python",
   "name": "python3"
  },
  "language_info": {
   "codemirror_mode": {
    "name": "ipython",
    "version": 3
   },
   "file_extension": ".py",
   "mimetype": "text/x-python",
   "name": "python",
   "nbconvert_exporter": "python",
   "pygments_lexer": "ipython3",
   "version": "3.9.16"
  },
  "orig_nbformat": 4,
  "vscode": {
   "interpreter": {
    "hash": "c498fff0e646d7d7e47743c6b62b2b1749eb16b128d528401df01971235654c5"
   }
  }
 },
 "nbformat": 4,
 "nbformat_minor": 2
}

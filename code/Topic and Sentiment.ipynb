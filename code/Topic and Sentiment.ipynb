{
 "cells": [
  {
   "cell_type": "code",
   "execution_count": 1,
   "metadata": {},
   "outputs": [
    {
     "name": "stderr",
     "output_type": "stream",
     "text": [
      "c:\\Users\\aAlekseeva\\.conda\\envs\\chatgpt\\lib\\site-packages\\tqdm\\auto.py:22: TqdmWarning: IProgress not found. Please update jupyter and ipywidgets. See https://ipywidgets.readthedocs.io/en/stable/user_install.html\n",
      "  from .autonotebook import tqdm as notebook_tqdm\n"
     ]
    }
   ],
   "source": [
    "import pandas as pd\n",
    "from bertopic import BERTopic\n",
    "import plotly.express as px\n",
    "from vaderSentiment.vaderSentiment import SentimentIntensityAnalyzer\n",
    "import re"
   ]
  },
  {
   "cell_type": "code",
   "execution_count": 2,
   "metadata": {},
   "outputs": [],
   "source": [
    "bots=[]\n",
    "with open(\"../data/for_analysis/bot_fake_ids.txt\",\"r\") as f:\n",
    "    for line in f:\n",
    "        bots.append(int(line.strip()))"
   ]
  },
  {
   "cell_type": "code",
   "execution_count": 40,
   "metadata": {},
   "outputs": [],
   "source": [
    "data = pd.read_pickle(\"../data/for_analysis/data0.pkl\")\n",
    "data = data.loc[data.lang==\"en\"]"
   ]
  },
  {
   "cell_type": "code",
   "execution_count": 41,
   "metadata": {},
   "outputs": [
    {
     "data": {
      "text/plain": [
       "Index(['text', 'edit_history_tweet_ids', 'referenced_tweets',\n",
       "       'possibly_sensitive', 'reply_settings', 'lang', 'id', 'created_at',\n",
       "       'conversation_id', 'author_id', 'public_metrics.retweet_count',\n",
       "       'public_metrics.reply_count', 'public_metrics.like_count',\n",
       "       'public_metrics.quote_count', 'public_metrics.impression_count',\n",
       "       'entities.annotations', 'entities.mentions', 'entities.hashtags',\n",
       "       'entities.urls', 'geo.place_id', 'geo.coordinates.type',\n",
       "       'geo.coordinates.coordinates', 'in_reply_to_user_id',\n",
       "       'attachments.media_keys', 'entities.cashtags', 'attachments.poll_ids',\n",
       "       'withheld.copyright', 'withheld.country_codes', 'withheld.scope',\n",
       "       'date', 'text_rt', 'not_found'],\n",
       "      dtype='object')"
      ]
     },
     "execution_count": 41,
     "metadata": {},
     "output_type": "execute_result"
    }
   ],
   "source": [
    "data.columns"
   ]
  },
  {
   "cell_type": "code",
   "execution_count": 4,
   "metadata": {},
   "outputs": [],
   "source": [
    "def remove_mentions_and_links(text):\n",
    "    new_text = []\n",
    "    for t in text.split(\" \"):\n",
    "        t = \"\" if (t.startswith('@') or t.startswith('#') ) and len(t) > 1 else t\n",
    "        new_text.append(t)\n",
    "\n",
    "    new_text = re.sub(r'http\\S+', '', \" \".join(new_text))\n",
    "    return new_text\n",
    "\n",
    "data[\"prep\"] = data.text_rt.apply(remove_mentions_and_links)\n",
    "data = data.reset_index(drop=True)"
   ]
  },
  {
   "cell_type": "code",
   "execution_count": 5,
   "metadata": {},
   "outputs": [],
   "source": [
    "analyzer = SentimentIntensityAnalyzer()\n",
    "data[\"sentiment\"] = [analyzer.polarity_scores(text) for text in data.prep]\n",
    "\n",
    "def categorize(scores_dict):\n",
    "    compound=scores_dict['compound']\n",
    "    if compound>=0.05:\n",
    "        return \"positive\"\n",
    "    elif compound <=-0.05:\n",
    "        return \"negative\"\n",
    "    elif (compound > -0.05) and(compound < 0.05):\n",
    "        return \"neutral\"\n",
    "\n",
    "data[\"score\"] = data[\"sentiment\"].apply(categorize)\n",
    "data['compound'] = [i['compound'] for i in data[\"sentiment\"]]\n",
    "data.to_pickle(\"../data/for_analysis/data1.pkl\")"
   ]
  },
  {
   "cell_type": "code",
   "execution_count": 9,
   "metadata": {},
   "outputs": [
    {
     "data": {
      "application/vnd.plotly.v1+json": {
       "config": {
        "plotlyServerURL": "https://plot.ly"
       },
       "data": [
        {
         "hovertemplate": "Sentiment=negative<br>Date=%{x}<br>Percent=%{y}<extra></extra>",
         "legendgroup": "negative",
         "line": {
          "color": "red",
          "dash": "solid"
         },
         "marker": {
          "symbol": "circle"
         },
         "mode": "lines",
         "name": "negative",
         "orientation": "v",
         "showlegend": true,
         "type": "scatter",
         "x": [
          "2022-11-30",
          "2022-12-01",
          "2022-12-02",
          "2022-12-03",
          "2022-12-04",
          "2022-12-05",
          "2022-12-06",
          "2022-12-07",
          "2022-12-08",
          "2022-12-09",
          "2022-12-10",
          "2022-12-11",
          "2022-12-12",
          "2022-12-13",
          "2022-12-14",
          "2022-12-15",
          "2022-12-16",
          "2022-12-17",
          "2022-12-18",
          "2022-12-19",
          "2022-12-20",
          "2022-12-21",
          "2022-12-22",
          "2022-12-23",
          "2022-12-24",
          "2022-12-25",
          "2022-12-26",
          "2022-12-27",
          "2022-12-28",
          "2022-12-29",
          "2022-12-30",
          "2022-12-31",
          "2023-01-01",
          "2023-01-02",
          "2023-01-03",
          "2023-01-04",
          "2023-01-05",
          "2023-01-06",
          "2023-01-07",
          "2023-01-08",
          "2023-01-09",
          "2023-01-10",
          "2023-01-11",
          "2023-01-12",
          "2023-01-13",
          "2023-01-14",
          "2023-01-15",
          "2023-01-16",
          "2023-01-17",
          "2023-01-18",
          "2023-01-19",
          "2023-01-20",
          "2023-01-21",
          "2023-01-22",
          "2023-01-23",
          "2023-01-24",
          "2023-01-25",
          "2023-01-26",
          "2023-01-27",
          "2023-01-28",
          "2023-01-29",
          "2023-01-30",
          "2023-01-31"
         ],
         "xaxis": "x",
         "y": [
          0.14717348927875243,
          0.2091076209886904,
          0.2531786941580756,
          0.2653308299883465,
          0.22937723173757793,
          0.23869278427220306,
          0.2340992186485032,
          0.2511925180246167,
          0.2551962207538101,
          0.282522540374517,
          0.2762248257164988,
          0.2944008372579801,
          0.30573593073593075,
          0.2730014926071739,
          0.28232651643006057,
          0.268644908779259,
          0.2977530743674125,
          0.2812761135086253,
          0.27366420250513607,
          0.2596401310410299,
          0.28341650914285993,
          0.2930035812872775,
          0.2841550753000428,
          0.26595716621828347,
          0.22828596228784606,
          0.25537726590121673,
          0.22068407377433233,
          0.24023117398430088,
          0.22727374828724814,
          0.2564804488154382,
          0.27651695732674036,
          0.2551016111237441,
          0.26978249369885177,
          0.2795742202887629,
          0.2976972749824834,
          0.26717333887746697,
          0.25767205227398327,
          0.24979623441193252,
          0.24896755595003192,
          0.225590578943657,
          0.2174990019235655,
          0.26105817189058644,
          0.271731439071885,
          0.3182986516195903,
          0.3137279289488352,
          0.29144621376138563,
          0.26347146326654525,
          0.2999645820684072,
          0.2720361773410856,
          0.26775805988711376,
          0.276696236975422,
          0.26263587945721023,
          0.28708084806552786,
          0.3121414511034753,
          0.29573483367286946,
          0.30406051172824333,
          0.2906330855844556,
          0.305908413100107,
          0.30140646778076563,
          0.3097196575457445,
          0.31007347635866406,
          0.2864318850217747,
          0.27307781362394457
         ],
         "yaxis": "y"
        },
        {
         "hovertemplate": "Sentiment=neutral<br>Date=%{x}<br>Percent=%{y}<extra></extra>",
         "legendgroup": "neutral",
         "line": {
          "color": "grey",
          "dash": "solid"
         },
         "marker": {
          "symbol": "circle"
         },
         "mode": "lines",
         "name": "neutral",
         "orientation": "v",
         "showlegend": true,
         "type": "scatter",
         "x": [
          "2022-11-30",
          "2022-12-01",
          "2022-12-02",
          "2022-12-03",
          "2022-12-04",
          "2022-12-05",
          "2022-12-06",
          "2022-12-07",
          "2022-12-08",
          "2022-12-09",
          "2022-12-10",
          "2022-12-11",
          "2022-12-12",
          "2022-12-13",
          "2022-12-14",
          "2022-12-15",
          "2022-12-16",
          "2022-12-17",
          "2022-12-18",
          "2022-12-19",
          "2022-12-20",
          "2022-12-21",
          "2022-12-22",
          "2022-12-23",
          "2022-12-24",
          "2022-12-25",
          "2022-12-26",
          "2022-12-27",
          "2022-12-28",
          "2022-12-29",
          "2022-12-30",
          "2022-12-31",
          "2023-01-01",
          "2023-01-02",
          "2023-01-03",
          "2023-01-04",
          "2023-01-05",
          "2023-01-06",
          "2023-01-07",
          "2023-01-08",
          "2023-01-09",
          "2023-01-10",
          "2023-01-11",
          "2023-01-12",
          "2023-01-13",
          "2023-01-14",
          "2023-01-15",
          "2023-01-16",
          "2023-01-17",
          "2023-01-18",
          "2023-01-19",
          "2023-01-20",
          "2023-01-21",
          "2023-01-22",
          "2023-01-23",
          "2023-01-24",
          "2023-01-25",
          "2023-01-26",
          "2023-01-27",
          "2023-01-28",
          "2023-01-29",
          "2023-01-30",
          "2023-01-31"
         ],
         "xaxis": "x",
         "y": [
          0.20248538011695907,
          0.2366023258602086,
          0.2732731958762887,
          0.27576718891622426,
          0.2756339647763723,
          0.2962936465919768,
          0.3179460292125239,
          0.3100286204325908,
          0.31105468351726245,
          0.30819627464579413,
          0.2905790085205267,
          0.2855089964980075,
          0.2868903318903319,
          0.2975280968998497,
          0.28737301035772195,
          0.28434223218437066,
          0.28844730668094287,
          0.2938964502798796,
          0.2950904569227005,
          0.3141637354375991,
          0.30126488782199246,
          0.2974454366721169,
          0.28982274503202093,
          0.2868795168011816,
          0.25254092255034133,
          0.2716480034055032,
          0.26802828300038334,
          0.29710816872250495,
          0.279341404793459,
          0.29445908952651323,
          0.287221304477976,
          0.29955279314788147,
          0.28260260758627126,
          0.28609964546902567,
          0.2809665385270892,
          0.2975582711543348,
          0.2884984233282403,
          0.2966759040399924,
          0.30632963389497314,
          0.3278541710739722,
          0.32204297172721663,
          0.28963878826061845,
          0.30292641452510904,
          0.28570698173806747,
          0.3038330960968846,
          0.2946425139958237,
          0.28947518214936246,
          0.2856709168184578,
          0.30441249380267726,
          0.30592294078255045,
          0.30269008694113225,
          0.29316920457663853,
          0.30656991451820464,
          0.29264531611802796,
          0.28758254829844543,
          0.30776398787580894,
          0.31232484966636326,
          0.303458175810713,
          0.3058018555801152,
          0.3038125433531504,
          0.3037365119942927,
          0.3067280469261984,
          0.30700646774616797
         ],
         "yaxis": "y"
        },
        {
         "hovertemplate": "Sentiment=positive<br>Date=%{x}<br>Percent=%{y}<extra></extra>",
         "legendgroup": "positive",
         "line": {
          "color": "green",
          "dash": "solid"
         },
         "marker": {
          "symbol": "circle"
         },
         "mode": "lines",
         "name": "positive",
         "orientation": "v",
         "showlegend": true,
         "type": "scatter",
         "x": [
          "2022-11-30",
          "2022-12-01",
          "2022-12-02",
          "2022-12-03",
          "2022-12-04",
          "2022-12-05",
          "2022-12-06",
          "2022-12-07",
          "2022-12-08",
          "2022-12-09",
          "2022-12-10",
          "2022-12-11",
          "2022-12-12",
          "2022-12-13",
          "2022-12-14",
          "2022-12-15",
          "2022-12-16",
          "2022-12-17",
          "2022-12-18",
          "2022-12-19",
          "2022-12-20",
          "2022-12-21",
          "2022-12-22",
          "2022-12-23",
          "2022-12-24",
          "2022-12-25",
          "2022-12-26",
          "2022-12-27",
          "2022-12-28",
          "2022-12-29",
          "2022-12-30",
          "2022-12-31",
          "2023-01-01",
          "2023-01-02",
          "2023-01-03",
          "2023-01-04",
          "2023-01-05",
          "2023-01-06",
          "2023-01-07",
          "2023-01-08",
          "2023-01-09",
          "2023-01-10",
          "2023-01-11",
          "2023-01-12",
          "2023-01-13",
          "2023-01-14",
          "2023-01-15",
          "2023-01-16",
          "2023-01-17",
          "2023-01-18",
          "2023-01-19",
          "2023-01-20",
          "2023-01-21",
          "2023-01-22",
          "2023-01-23",
          "2023-01-24",
          "2023-01-25",
          "2023-01-26",
          "2023-01-27",
          "2023-01-28",
          "2023-01-29",
          "2023-01-30",
          "2023-01-31"
         ],
         "xaxis": "x",
         "y": [
          0.6503411306042886,
          0.554290053151101,
          0.47354810996563573,
          0.45890198109542923,
          0.49498880348604973,
          0.46501356913582015,
          0.4479547521389729,
          0.4387788615427925,
          0.43374909572892745,
          0.4092811849796889,
          0.43319616576297443,
          0.4200901662440124,
          0.4073737373737374,
          0.4294704104929764,
          0.4303004732122175,
          0.44701285903637034,
          0.41379961895164463,
          0.4248274362114951,
          0.4312453405721635,
          0.426196133521371,
          0.41531860303514767,
          0.4095509820406056,
          0.42602217966793626,
          0.4471633169805349,
          0.5191731151618126,
          0.47297473069328005,
          0.5112876432252843,
          0.46266065729319417,
          0.4933848469192929,
          0.4490604616580486,
          0.43626173819528363,
          0.44534559572837445,
          0.4476148987148769,
          0.43432613424221145,
          0.4213361864904274,
          0.4352683899681982,
          0.4538295243977764,
          0.4535278615480751,
          0.44470281015499497,
          0.4465552499823708,
          0.4604580263492179,
          0.4493030398487951,
          0.42534214640300594,
          0.3959943666423422,
          0.38243897495428014,
          0.41391127224279073,
          0.4470533545840923,
          0.414364501113135,
          0.42355132885623714,
          0.4263189993303358,
          0.4206136760834458,
          0.44419491596615124,
          0.4063492374162675,
          0.39521323277849674,
          0.4166826180286851,
          0.38817550039594767,
          0.39704206474918113,
          0.39063341108918,
          0.39279167663911924,
          0.38646779910110507,
          0.38619001164704325,
          0.4068400680520269,
          0.41991571862988747
         ],
         "yaxis": "y"
        }
       ],
       "layout": {
        "height": 600,
        "legend": {
         "title": {
          "text": "Sentiment"
         },
         "tracegroupgap": 0
        },
        "template": {
         "data": {
          "bar": [
           {
            "error_x": {
             "color": "#2a3f5f"
            },
            "error_y": {
             "color": "#2a3f5f"
            },
            "marker": {
             "line": {
              "color": "white",
              "width": 0.5
             },
             "pattern": {
              "fillmode": "overlay",
              "size": 10,
              "solidity": 0.2
             }
            },
            "type": "bar"
           }
          ],
          "barpolar": [
           {
            "marker": {
             "line": {
              "color": "white",
              "width": 0.5
             },
             "pattern": {
              "fillmode": "overlay",
              "size": 10,
              "solidity": 0.2
             }
            },
            "type": "barpolar"
           }
          ],
          "carpet": [
           {
            "aaxis": {
             "endlinecolor": "#2a3f5f",
             "gridcolor": "#C8D4E3",
             "linecolor": "#C8D4E3",
             "minorgridcolor": "#C8D4E3",
             "startlinecolor": "#2a3f5f"
            },
            "baxis": {
             "endlinecolor": "#2a3f5f",
             "gridcolor": "#C8D4E3",
             "linecolor": "#C8D4E3",
             "minorgridcolor": "#C8D4E3",
             "startlinecolor": "#2a3f5f"
            },
            "type": "carpet"
           }
          ],
          "choropleth": [
           {
            "colorbar": {
             "outlinewidth": 0,
             "ticks": ""
            },
            "type": "choropleth"
           }
          ],
          "contour": [
           {
            "colorbar": {
             "outlinewidth": 0,
             "ticks": ""
            },
            "colorscale": [
             [
              0,
              "#0d0887"
             ],
             [
              0.1111111111111111,
              "#46039f"
             ],
             [
              0.2222222222222222,
              "#7201a8"
             ],
             [
              0.3333333333333333,
              "#9c179e"
             ],
             [
              0.4444444444444444,
              "#bd3786"
             ],
             [
              0.5555555555555556,
              "#d8576b"
             ],
             [
              0.6666666666666666,
              "#ed7953"
             ],
             [
              0.7777777777777778,
              "#fb9f3a"
             ],
             [
              0.8888888888888888,
              "#fdca26"
             ],
             [
              1,
              "#f0f921"
             ]
            ],
            "type": "contour"
           }
          ],
          "contourcarpet": [
           {
            "colorbar": {
             "outlinewidth": 0,
             "ticks": ""
            },
            "type": "contourcarpet"
           }
          ],
          "heatmap": [
           {
            "colorbar": {
             "outlinewidth": 0,
             "ticks": ""
            },
            "colorscale": [
             [
              0,
              "#0d0887"
             ],
             [
              0.1111111111111111,
              "#46039f"
             ],
             [
              0.2222222222222222,
              "#7201a8"
             ],
             [
              0.3333333333333333,
              "#9c179e"
             ],
             [
              0.4444444444444444,
              "#bd3786"
             ],
             [
              0.5555555555555556,
              "#d8576b"
             ],
             [
              0.6666666666666666,
              "#ed7953"
             ],
             [
              0.7777777777777778,
              "#fb9f3a"
             ],
             [
              0.8888888888888888,
              "#fdca26"
             ],
             [
              1,
              "#f0f921"
             ]
            ],
            "type": "heatmap"
           }
          ],
          "heatmapgl": [
           {
            "colorbar": {
             "outlinewidth": 0,
             "ticks": ""
            },
            "colorscale": [
             [
              0,
              "#0d0887"
             ],
             [
              0.1111111111111111,
              "#46039f"
             ],
             [
              0.2222222222222222,
              "#7201a8"
             ],
             [
              0.3333333333333333,
              "#9c179e"
             ],
             [
              0.4444444444444444,
              "#bd3786"
             ],
             [
              0.5555555555555556,
              "#d8576b"
             ],
             [
              0.6666666666666666,
              "#ed7953"
             ],
             [
              0.7777777777777778,
              "#fb9f3a"
             ],
             [
              0.8888888888888888,
              "#fdca26"
             ],
             [
              1,
              "#f0f921"
             ]
            ],
            "type": "heatmapgl"
           }
          ],
          "histogram": [
           {
            "marker": {
             "pattern": {
              "fillmode": "overlay",
              "size": 10,
              "solidity": 0.2
             }
            },
            "type": "histogram"
           }
          ],
          "histogram2d": [
           {
            "colorbar": {
             "outlinewidth": 0,
             "ticks": ""
            },
            "colorscale": [
             [
              0,
              "#0d0887"
             ],
             [
              0.1111111111111111,
              "#46039f"
             ],
             [
              0.2222222222222222,
              "#7201a8"
             ],
             [
              0.3333333333333333,
              "#9c179e"
             ],
             [
              0.4444444444444444,
              "#bd3786"
             ],
             [
              0.5555555555555556,
              "#d8576b"
             ],
             [
              0.6666666666666666,
              "#ed7953"
             ],
             [
              0.7777777777777778,
              "#fb9f3a"
             ],
             [
              0.8888888888888888,
              "#fdca26"
             ],
             [
              1,
              "#f0f921"
             ]
            ],
            "type": "histogram2d"
           }
          ],
          "histogram2dcontour": [
           {
            "colorbar": {
             "outlinewidth": 0,
             "ticks": ""
            },
            "colorscale": [
             [
              0,
              "#0d0887"
             ],
             [
              0.1111111111111111,
              "#46039f"
             ],
             [
              0.2222222222222222,
              "#7201a8"
             ],
             [
              0.3333333333333333,
              "#9c179e"
             ],
             [
              0.4444444444444444,
              "#bd3786"
             ],
             [
              0.5555555555555556,
              "#d8576b"
             ],
             [
              0.6666666666666666,
              "#ed7953"
             ],
             [
              0.7777777777777778,
              "#fb9f3a"
             ],
             [
              0.8888888888888888,
              "#fdca26"
             ],
             [
              1,
              "#f0f921"
             ]
            ],
            "type": "histogram2dcontour"
           }
          ],
          "mesh3d": [
           {
            "colorbar": {
             "outlinewidth": 0,
             "ticks": ""
            },
            "type": "mesh3d"
           }
          ],
          "parcoords": [
           {
            "line": {
             "colorbar": {
              "outlinewidth": 0,
              "ticks": ""
             }
            },
            "type": "parcoords"
           }
          ],
          "pie": [
           {
            "automargin": true,
            "type": "pie"
           }
          ],
          "scatter": [
           {
            "fillpattern": {
             "fillmode": "overlay",
             "size": 10,
             "solidity": 0.2
            },
            "type": "scatter"
           }
          ],
          "scatter3d": [
           {
            "line": {
             "colorbar": {
              "outlinewidth": 0,
              "ticks": ""
             }
            },
            "marker": {
             "colorbar": {
              "outlinewidth": 0,
              "ticks": ""
             }
            },
            "type": "scatter3d"
           }
          ],
          "scattercarpet": [
           {
            "marker": {
             "colorbar": {
              "outlinewidth": 0,
              "ticks": ""
             }
            },
            "type": "scattercarpet"
           }
          ],
          "scattergeo": [
           {
            "marker": {
             "colorbar": {
              "outlinewidth": 0,
              "ticks": ""
             }
            },
            "type": "scattergeo"
           }
          ],
          "scattergl": [
           {
            "marker": {
             "colorbar": {
              "outlinewidth": 0,
              "ticks": ""
             }
            },
            "type": "scattergl"
           }
          ],
          "scattermapbox": [
           {
            "marker": {
             "colorbar": {
              "outlinewidth": 0,
              "ticks": ""
             }
            },
            "type": "scattermapbox"
           }
          ],
          "scatterpolar": [
           {
            "marker": {
             "colorbar": {
              "outlinewidth": 0,
              "ticks": ""
             }
            },
            "type": "scatterpolar"
           }
          ],
          "scatterpolargl": [
           {
            "marker": {
             "colorbar": {
              "outlinewidth": 0,
              "ticks": ""
             }
            },
            "type": "scatterpolargl"
           }
          ],
          "scatterternary": [
           {
            "marker": {
             "colorbar": {
              "outlinewidth": 0,
              "ticks": ""
             }
            },
            "type": "scatterternary"
           }
          ],
          "surface": [
           {
            "colorbar": {
             "outlinewidth": 0,
             "ticks": ""
            },
            "colorscale": [
             [
              0,
              "#0d0887"
             ],
             [
              0.1111111111111111,
              "#46039f"
             ],
             [
              0.2222222222222222,
              "#7201a8"
             ],
             [
              0.3333333333333333,
              "#9c179e"
             ],
             [
              0.4444444444444444,
              "#bd3786"
             ],
             [
              0.5555555555555556,
              "#d8576b"
             ],
             [
              0.6666666666666666,
              "#ed7953"
             ],
             [
              0.7777777777777778,
              "#fb9f3a"
             ],
             [
              0.8888888888888888,
              "#fdca26"
             ],
             [
              1,
              "#f0f921"
             ]
            ],
            "type": "surface"
           }
          ],
          "table": [
           {
            "cells": {
             "fill": {
              "color": "#EBF0F8"
             },
             "line": {
              "color": "white"
             }
            },
            "header": {
             "fill": {
              "color": "#C8D4E3"
             },
             "line": {
              "color": "white"
             }
            },
            "type": "table"
           }
          ]
         },
         "layout": {
          "annotationdefaults": {
           "arrowcolor": "#2a3f5f",
           "arrowhead": 0,
           "arrowwidth": 1
          },
          "autotypenumbers": "strict",
          "coloraxis": {
           "colorbar": {
            "outlinewidth": 0,
            "ticks": ""
           }
          },
          "colorscale": {
           "diverging": [
            [
             0,
             "#8e0152"
            ],
            [
             0.1,
             "#c51b7d"
            ],
            [
             0.2,
             "#de77ae"
            ],
            [
             0.3,
             "#f1b6da"
            ],
            [
             0.4,
             "#fde0ef"
            ],
            [
             0.5,
             "#f7f7f7"
            ],
            [
             0.6,
             "#e6f5d0"
            ],
            [
             0.7,
             "#b8e186"
            ],
            [
             0.8,
             "#7fbc41"
            ],
            [
             0.9,
             "#4d9221"
            ],
            [
             1,
             "#276419"
            ]
           ],
           "sequential": [
            [
             0,
             "#0d0887"
            ],
            [
             0.1111111111111111,
             "#46039f"
            ],
            [
             0.2222222222222222,
             "#7201a8"
            ],
            [
             0.3333333333333333,
             "#9c179e"
            ],
            [
             0.4444444444444444,
             "#bd3786"
            ],
            [
             0.5555555555555556,
             "#d8576b"
            ],
            [
             0.6666666666666666,
             "#ed7953"
            ],
            [
             0.7777777777777778,
             "#fb9f3a"
            ],
            [
             0.8888888888888888,
             "#fdca26"
            ],
            [
             1,
             "#f0f921"
            ]
           ],
           "sequentialminus": [
            [
             0,
             "#0d0887"
            ],
            [
             0.1111111111111111,
             "#46039f"
            ],
            [
             0.2222222222222222,
             "#7201a8"
            ],
            [
             0.3333333333333333,
             "#9c179e"
            ],
            [
             0.4444444444444444,
             "#bd3786"
            ],
            [
             0.5555555555555556,
             "#d8576b"
            ],
            [
             0.6666666666666666,
             "#ed7953"
            ],
            [
             0.7777777777777778,
             "#fb9f3a"
            ],
            [
             0.8888888888888888,
             "#fdca26"
            ],
            [
             1,
             "#f0f921"
            ]
           ]
          },
          "colorway": [
           "#636efa",
           "#EF553B",
           "#00cc96",
           "#ab63fa",
           "#FFA15A",
           "#19d3f3",
           "#FF6692",
           "#B6E880",
           "#FF97FF",
           "#FECB52"
          ],
          "font": {
           "color": "#2a3f5f"
          },
          "geo": {
           "bgcolor": "white",
           "lakecolor": "white",
           "landcolor": "white",
           "showlakes": true,
           "showland": true,
           "subunitcolor": "#C8D4E3"
          },
          "hoverlabel": {
           "align": "left"
          },
          "hovermode": "closest",
          "mapbox": {
           "style": "light"
          },
          "paper_bgcolor": "white",
          "plot_bgcolor": "white",
          "polar": {
           "angularaxis": {
            "gridcolor": "#EBF0F8",
            "linecolor": "#EBF0F8",
            "ticks": ""
           },
           "bgcolor": "white",
           "radialaxis": {
            "gridcolor": "#EBF0F8",
            "linecolor": "#EBF0F8",
            "ticks": ""
           }
          },
          "scene": {
           "xaxis": {
            "backgroundcolor": "white",
            "gridcolor": "#DFE8F3",
            "gridwidth": 2,
            "linecolor": "#EBF0F8",
            "showbackground": true,
            "ticks": "",
            "zerolinecolor": "#EBF0F8"
           },
           "yaxis": {
            "backgroundcolor": "white",
            "gridcolor": "#DFE8F3",
            "gridwidth": 2,
            "linecolor": "#EBF0F8",
            "showbackground": true,
            "ticks": "",
            "zerolinecolor": "#EBF0F8"
           },
           "zaxis": {
            "backgroundcolor": "white",
            "gridcolor": "#DFE8F3",
            "gridwidth": 2,
            "linecolor": "#EBF0F8",
            "showbackground": true,
            "ticks": "",
            "zerolinecolor": "#EBF0F8"
           }
          },
          "shapedefaults": {
           "line": {
            "color": "#2a3f5f"
           }
          },
          "ternary": {
           "aaxis": {
            "gridcolor": "#DFE8F3",
            "linecolor": "#A2B1C6",
            "ticks": ""
           },
           "baxis": {
            "gridcolor": "#DFE8F3",
            "linecolor": "#A2B1C6",
            "ticks": ""
           },
           "bgcolor": "white",
           "caxis": {
            "gridcolor": "#DFE8F3",
            "linecolor": "#A2B1C6",
            "ticks": ""
           }
          },
          "title": {
           "x": 0.05
          },
          "xaxis": {
           "automargin": true,
           "gridcolor": "#EBF0F8",
           "linecolor": "#EBF0F8",
           "ticks": "",
           "title": {
            "standoff": 15
           },
           "zerolinecolor": "#EBF0F8",
           "zerolinewidth": 2
          },
          "yaxis": {
           "automargin": true,
           "gridcolor": "#EBF0F8",
           "linecolor": "#EBF0F8",
           "ticks": "",
           "title": {
            "standoff": 15
           },
           "zerolinecolor": "#EBF0F8",
           "zerolinewidth": 2
          }
         }
        },
        "title": {
         "text": "Dynamics of sentiment"
        },
        "width": 800,
        "xaxis": {
         "anchor": "y",
         "domain": [
          0,
          1
         ],
         "title": {
          "text": "Date"
         }
        },
        "yaxis": {
         "anchor": "x",
         "domain": [
          0,
          1
         ],
         "title": {
          "text": "Percent"
         }
        }
       }
      }
     },
     "metadata": {},
     "output_type": "display_data"
    }
   ],
   "source": [
    "data = data.loc[data.text_rt != \"\"]\n",
    "data[\"total\"]=1\n",
    "sent_df = data.loc[:,[\"date\",\"total\",\"score\"]].groupby([\"date\",\"score\"]).sum().reset_index()\n",
    "sent_df[\"perc\"] = sent_df['total'] / sent_df.groupby('date')['total'].transform('sum')\n",
    "sent_df.columns = [\"Date\",\"Sentiment\",\"Tweets per Day\",\"Percent\"]\n",
    "sent_df.to_excel(\"../analysis/ALL_sentiment_graph.xlsx\")\n",
    "fig = px.line(sent_df, x=\"Date\", y=\"Percent\", title='Dynamics of sentiment',color=\"Sentiment\",\n",
    "                template=\"plotly_white\", color_discrete_sequence=[ 'red','grey',\"green\"],\n",
    "                 width=800, height=600)\n",
    "fig.show()"
   ]
  },
  {
   "attachments": {},
   "cell_type": "markdown",
   "metadata": {},
   "source": [
    "# Topic Modelling"
   ]
  },
  {
   "cell_type": "code",
   "execution_count": 3,
   "metadata": {},
   "outputs": [],
   "source": [
    "data = pd.read_pickle(\"../data/for_analysis/data1.pkl\")"
   ]
  },
  {
   "cell_type": "code",
   "execution_count": 4,
   "metadata": {},
   "outputs": [],
   "source": [
    "def words_only(text):\n",
    "    regex=u\"[a-zA-Z\\.\\?!:;\\-']+\"\n",
    "    regex = re.compile(regex)\n",
    "    return \" \".join(regex.findall(text))\n",
    "\n",
    "def basic_preprocessing(texts):\n",
    "    texts = texts.str.replace(\"t.co\",\"\")\n",
    "    # remove tel and email\n",
    "    texts = texts.str.replace(\"<email>\",\"\")\n",
    "    texts = texts.str.replace(\"<tel>\",\"\")\n",
    "    texts = texts.str.replace(\"<link>\",\"\")\n",
    "    texts = [re.sub(r'anon\\d*',\"\",t) for t in texts]\n",
    "    # Remove new line characters\n",
    "    texts = [re.sub('\\s+', ' ', t) for t in texts]\n",
    "    # Remove single quotes\n",
    "    texts = [re.sub(\"\\'\", \"\", sent) for sent in texts]\n",
    "    # remove some punctuation and numbers, emoji\n",
    "    texts = [words_only(t.lower()).strip() for t in texts]\n",
    "\n",
    "    return texts"
   ]
  },
  {
   "cell_type": "code",
   "execution_count": 5,
   "metadata": {},
   "outputs": [],
   "source": [
    "data.prep = basic_preprocessing(data.prep)\n",
    "data.prep = data.prep.str.replace(\"chatgpt\",\"\")"
   ]
  },
  {
   "cell_type": "code",
   "execution_count": 12,
   "metadata": {},
   "outputs": [
    {
     "name": "stdout",
     "output_type": "stream",
     "text": [
      "Non-empty tweets in English:  11447333\n",
      "Non-conversation tweets:  1061695\n",
      "Conversation tweets:  10385638\n",
      "Non-conversation non-retweets:  528817\n",
      "Non-conversation retweets:  532878\n"
     ]
    }
   ],
   "source": [
    "data = data.loc[data.prep !=\"\"]\n",
    "print(\"Non-empty tweets in English: \", data.shape[0])\n",
    "\n",
    "sparking = data.loc[data.conversation_id == data.id]\n",
    "print(\"Non-conversation tweets: \", sparking.shape[0])\n",
    "\n",
    "convs = data.loc[data.conversation_id != data.id]\n",
    "print(\"Conversation tweets: \", convs.shape[0])\n",
    "\n",
    "data_no_retweets = sparking.loc[~sparking.text.str.startswith(\"RT \")]\n",
    "#print(\"Non-conversational non-retweets: \", data_no_retweets.loc[~data_no_retweets.author_id.isin(bots)].shape[0])\n",
    "print(\"Non-conversation non-retweets: \", data_no_retweets.shape[0])\n",
    "\n",
    "retweets = sparking.loc[sparking.text.str.startswith(\"RT \")]\n",
    "#print(\"Non-conversational retweets: \", retweets.loc[~retweets.author_id.isin(bots)].shape[0])\n",
    "print(\"Non-conversation retweets: \", retweets.shape[0])"
   ]
  },
  {
   "cell_type": "code",
   "execution_count": 5,
   "metadata": {},
   "outputs": [],
   "source": [
    "from bertopic.vectorizers import ClassTfidfTransformer\n",
    "from flair.embeddings import TransformerDocumentEmbeddings\n",
    "\n",
    "\n",
    "def topic_modelling(text_prep):\n",
    "    docs=list(text_prep)\n",
    "    ctfidf_model = ClassTfidfTransformer(reduce_frequent_words=True)\n",
    "    #roberta = TransformerDocumentEmbeddings(\"cardiffnlp/twitter-roberta-base-sep2022\")\n",
    "    #model=BERTopic(embedding_model=roberta,ctfidf_model=ctfidf_model,n_gram_range = (1,2),verbose=True,language='English',low_memory=True,min_topic_size=100)\n",
    "    model=BERTopic(ctfidf_model=ctfidf_model,n_gram_range = (1,2),verbose=True,language='English',low_memory=True,min_topic_size=500)\n",
    "    topics=model.fit_transform(docs)\n",
    "    new_topics = model.reduce_outliers(docs,topics[0])\n",
    "    model.update_topics(docs, topics=new_topics)\n",
    "    topic_info=model.get_topic_info()\n",
    "    return model.topics_, topic_info,model"
   ]
  },
  {
   "cell_type": "code",
   "execution_count": 7,
   "metadata": {},
   "outputs": [
    {
     "name": "stderr",
     "output_type": "stream",
     "text": [
      "Batches: 100%|██████████| 16552/16552 [1:11:25<00:00,  3.86it/s]\n",
      "2023-03-10 00:19:19,416 - BERTopic - Transformed documents to Embeddings\n",
      "2023-03-10 00:28:41,534 - BERTopic - Reduced dimensionality\n",
      "2023-03-10 00:38:18,536 - BERTopic - Clustered reduced embeddings\n",
      "100%|██████████| 254/254 [03:55<00:00,  1.08it/s]\n"
     ]
    }
   ],
   "source": [
    "data_no_retweets[\"topics\"],topic_info,model = topic_modelling(data_no_retweets[\"prep\"])"
   ]
  },
  {
   "cell_type": "code",
   "execution_count": null,
   "metadata": {},
   "outputs": [],
   "source": [
    "data_no_retweets.to_pickle(\"../data/for_analysis/topics.pkl\")\n",
    "topic_info.to_excel(\"../data/for_analysis/topic_info_bert_sparking.xlsx\")\n",
    "data_no_retweets.loc[:,[\"text_rt\",\"text\",\"date\",\"topics\",\"sentiment\"]].sample(10000).to_excel(\"../data/for_analysis/sample_topic_bert_sparking.xlsx\")\n",
    "model.save(\"../data/for_analysis/model_bertopic_sparking_2\")"
   ]
  },
  {
   "cell_type": "code",
   "execution_count": 5,
   "metadata": {},
   "outputs": [],
   "source": [
    "from sklearn.metrics.pairwise import cosine_similarity\n",
    "\n",
    "topic_labels = model.topic_labels_.values()\n",
    "sim_matrix = cosine_similarity(model.topic_embeddings_)\n",
    "sim_df = pd.DataFrame(data=sim_matrix,   \n",
    "             index=topic_labels,    \n",
    "               columns=topic_labels)\n",
    "\n",
    "sim_df.to_excel(\"../analysis/topics_cosine_sim.xlsx\")"
   ]
  },
  {
   "attachments": {},
   "cell_type": "markdown",
   "metadata": {},
   "source": [
    "### Extrapolation on the non-conversational retweets only"
   ]
  },
  {
   "cell_type": "code",
   "execution_count": 62,
   "metadata": {},
   "outputs": [],
   "source": [
    "data_no_retweets = pd.read_pickle(\"../data/for_analysis/topics.pkl\")"
   ]
  },
  {
   "cell_type": "code",
   "execution_count": 64,
   "metadata": {},
   "outputs": [
    {
     "name": "stdout",
     "output_type": "stream",
     "text": [
      "(520566, 37)\n"
     ]
    }
   ],
   "source": [
    "data_no_retweets = data_no_retweets.loc[~data_no_retweets.author_id.isin(bots)]\n",
    "data_no_retweets=data_no_retweets.reset_index(drop=True)\n",
    "print(data_no_retweets.shape)\n",
    "data_no_retweets = data_no_retweets.drop_duplicates(subset = [\"text_rt\"])"
   ]
  },
  {
   "cell_type": "code",
   "execution_count": 60,
   "metadata": {},
   "outputs": [
    {
     "data": {
      "text/plain": [
       "(526780, 36)"
      ]
     },
     "execution_count": 60,
     "metadata": {},
     "output_type": "execute_result"
    }
   ],
   "source": [
    "retweets = retweets.loc[~retweets.author_id.isin(bots)]\n",
    "retweets=retweets.reset_index(drop=True)\n",
    "retweets.shape"
   ]
  },
  {
   "cell_type": "code",
   "execution_count": 65,
   "metadata": {},
   "outputs": [
    {
     "data": {
      "text/plain": [
       "(526780, 37)"
      ]
     },
     "execution_count": 65,
     "metadata": {},
     "output_type": "execute_result"
    }
   ],
   "source": [
    "merged = pd.merge(retweets,data_no_retweets.loc[:,[\"text_rt\",\"topics\"]],left_on=\"text_rt\",right_on = \"text_rt\",how='left')\n",
    "merged.shape"
   ]
  },
  {
   "cell_type": "code",
   "execution_count": 66,
   "metadata": {},
   "outputs": [
    {
     "data": {
      "text/plain": [
       "28635"
      ]
     },
     "execution_count": 66,
     "metadata": {},
     "output_type": "execute_result"
    }
   ],
   "source": [
    "sum(merged.topics.isnull())"
   ]
  },
  {
   "cell_type": "code",
   "execution_count": 67,
   "metadata": {},
   "outputs": [],
   "source": [
    "retweets_found = merged.loc[~merged.topics.isnull()].copy()\n",
    "retweets_not_found = merged.loc[merged.topics.isnull()].copy()"
   ]
  },
  {
   "cell_type": "code",
   "execution_count": 68,
   "metadata": {},
   "outputs": [
    {
     "name": "stderr",
     "output_type": "stream",
     "text": [
      "Batches: 100%|██████████| 895/895 [04:10<00:00,  3.57it/s]\n"
     ]
    }
   ],
   "source": [
    "topics,_ = model.transform(retweets_not_found.prep.to_list())"
   ]
  },
  {
   "cell_type": "code",
   "execution_count": 69,
   "metadata": {},
   "outputs": [
    {
     "data": {
      "text/plain": [
       "(526780, 37)"
      ]
     },
     "execution_count": 69,
     "metadata": {},
     "output_type": "execute_result"
    }
   ],
   "source": [
    "retweets_not_found[\"topics\"] = topics\n",
    "retweets = pd.concat([retweets_found,retweets_not_found],axis=0)\n",
    "retweets.shape"
   ]
  },
  {
   "attachments": {},
   "cell_type": "markdown",
   "metadata": {},
   "source": [
    "## Merging topics and datasets"
   ]
  },
  {
   "cell_type": "code",
   "execution_count": 71,
   "metadata": {},
   "outputs": [
    {
     "data": {
      "text/plain": [
       "(1047346, 37)"
      ]
     },
     "execution_count": 71,
     "metadata": {},
     "output_type": "execute_result"
    }
   ],
   "source": [
    "data_no_retweets = pd.read_pickle(\"../data/for_analysis/topics.pkl\")\n",
    "data_no_retweets = data_no_retweets.loc[~data_no_retweets.author_id.isin(bots)]\n",
    "data_all = pd.concat([retweets,data_no_retweets],axis=0)\n",
    "data_all.shape"
   ]
  },
  {
   "cell_type": "code",
   "execution_count": 76,
   "metadata": {},
   "outputs": [],
   "source": [
    "topics ={\n",
    "    \"AI in general\":[1,7,15,22,74,78,84],\n",
    "    \"Impact on search engines\":\t[2,25,60,63,70,75,87,119],\n",
    "    \"Education\":[4,6,31,34,44,45,73,77,82,102,122],\n",
    "    \"Impact on art (poems and lyrics, movies,books)\":\t[94,80,9,10,19,37],\n",
    "    \"Openai and its Investors and products (Microsoft, Musk)\":\t[127,114,97,90,59,3,17,40,50],\n",
    "    \"Cybersecurity (writing malware)\":\t[12,30],\n",
    "    \"Programming\":\t[16,57,67,111,128],\n",
    "    \"Digital content generation(podcasts,youtube scripts,quizzes)\":[85,81,38,39,43,54],\n",
    "    \"Access and price\":\t[14,23,55,65,66,104,108,110,117],\n",
    "    \"Business routine\":\t[18,79,89,103,115],\n",
    "    \"Social events on ChatGPT, discussion on media\": [56,64],\n",
    "    \"Politics\":\t[5],\n",
    "    \"Recipes\":\t[20],\n",
    "    \"Legal issues\":\t[35,72],\n",
    "    \"Calculator, math\":\t[32],\n",
    "    \"Job loss\":\t[29],\n",
    "    \"ChatGPT's competitors\":[126],\n",
    "    \"LLM technology\":\t[21,24,51,52,58,76,95,105,125],\n",
    "    \"Text to audio/voice\":[62,71],\n",
    "    \"Translation\":\t[100],\n",
    "    \"Healthcare\":\t[26,69,96],\n",
    "    \"Criticism in terms of ethics\":[68,116],\n",
    "    \"Q&A platforms\":\t[107],\n",
    "    \"Questions examples, prompt engineering\":[0,27,33,41,101,112],\n",
    "    \"Entertainment\":[42,109,113,120,123],\n",
    "    \"Robots\":[53],\n",
    "    \"Christmas\":[47],\n",
    "    \"Finance\":\t[11,13,36],\n",
    "    \"Climate change\":[86],\n",
    "    \"Religion, sermons\":[49],\n",
    "    \"Terrifying, insane\":\t[48,61,93],\n",
    "    \"Gender\"\t:[91],\t\n",
    "    \"ChatGPT on social media\": [8,106,118,121,124],\n",
    "    \"Real estate\":\t[99],\n",
    "    \"Sport\":[28],\n",
    "    \"Quantum computing\":[98],\n",
    "    \"Spam\":[13],\n",
    "    \"Making money with ChatGPT\":[88]\n",
    "}"
   ]
  },
  {
   "cell_type": "code",
   "execution_count": 77,
   "metadata": {},
   "outputs": [],
   "source": [
    "topics_flipped = {}\n",
    "for key,item in topics.items():\n",
    "    for i in item:\n",
    "        topics_flipped[i] = key\n",
    "        \n",
    "data_all[\"topics_general\"] = data_all['topics'].replace(topics_flipped)\n",
    "data_all.loc[~data_all.topics_general.isin(topics.keys()),\"topics_general\"]=-1"
   ]
  },
  {
   "cell_type": "code",
   "execution_count": 78,
   "metadata": {},
   "outputs": [
    {
     "data": {
      "text/html": [
       "<div>\n",
       "<style scoped>\n",
       "    .dataframe tbody tr th:only-of-type {\n",
       "        vertical-align: middle;\n",
       "    }\n",
       "\n",
       "    .dataframe tbody tr th {\n",
       "        vertical-align: top;\n",
       "    }\n",
       "\n",
       "    .dataframe thead th {\n",
       "        text-align: right;\n",
       "    }\n",
       "</style>\n",
       "<table border=\"1\" class=\"dataframe\">\n",
       "  <thead>\n",
       "    <tr style=\"text-align: right;\">\n",
       "      <th></th>\n",
       "      <th>topics_general</th>\n",
       "      <th>total</th>\n",
       "      <th>precent</th>\n",
       "    </tr>\n",
       "  </thead>\n",
       "  <tbody>\n",
       "    <tr>\n",
       "      <th>0</th>\n",
       "      <td>AI in general</td>\n",
       "      <td>114830</td>\n",
       "      <td>10.963903</td>\n",
       "    </tr>\n",
       "    <tr>\n",
       "      <th>1</th>\n",
       "      <td>Questions examples, prompt engineering</td>\n",
       "      <td>104529</td>\n",
       "      <td>9.980369</td>\n",
       "    </tr>\n",
       "    <tr>\n",
       "      <th>2</th>\n",
       "      <td>Education</td>\n",
       "      <td>86934</td>\n",
       "      <td>8.300409</td>\n",
       "    </tr>\n",
       "    <tr>\n",
       "      <th>3</th>\n",
       "      <td>Openai and its Investors and products (Microso...</td>\n",
       "      <td>80077</td>\n",
       "      <td>7.645706</td>\n",
       "    </tr>\n",
       "    <tr>\n",
       "      <th>4</th>\n",
       "      <td>Access and price</td>\n",
       "      <td>77795</td>\n",
       "      <td>7.427822</td>\n",
       "    </tr>\n",
       "    <tr>\n",
       "      <th>5</th>\n",
       "      <td>LLM technology</td>\n",
       "      <td>70433</td>\n",
       "      <td>6.724903</td>\n",
       "    </tr>\n",
       "    <tr>\n",
       "      <th>6</th>\n",
       "      <td>Impact on search engines</td>\n",
       "      <td>53557</td>\n",
       "      <td>5.113592</td>\n",
       "    </tr>\n",
       "    <tr>\n",
       "      <th>7</th>\n",
       "      <td>Impact on art (poems and lyrics, movies,books)</td>\n",
       "      <td>47672</td>\n",
       "      <td>4.551695</td>\n",
       "    </tr>\n",
       "    <tr>\n",
       "      <th>8</th>\n",
       "      <td>Digital content generation(podcasts,youtube sc...</td>\n",
       "      <td>41671</td>\n",
       "      <td>3.978723</td>\n",
       "    </tr>\n",
       "    <tr>\n",
       "      <th>9</th>\n",
       "      <td>-1</td>\n",
       "      <td>39092</td>\n",
       "      <td>3.732482</td>\n",
       "    </tr>\n",
       "    <tr>\n",
       "      <th>10</th>\n",
       "      <td>Programming</td>\n",
       "      <td>35648</td>\n",
       "      <td>3.403651</td>\n",
       "    </tr>\n",
       "    <tr>\n",
       "      <th>11</th>\n",
       "      <td>Business routine</td>\n",
       "      <td>34425</td>\n",
       "      <td>3.286879</td>\n",
       "    </tr>\n",
       "    <tr>\n",
       "      <th>12</th>\n",
       "      <td>Entertainment</td>\n",
       "      <td>26144</td>\n",
       "      <td>2.496214</td>\n",
       "    </tr>\n",
       "    <tr>\n",
       "      <th>13</th>\n",
       "      <td>Cybersecurity (writing malware)</td>\n",
       "      <td>24869</td>\n",
       "      <td>2.374478</td>\n",
       "    </tr>\n",
       "    <tr>\n",
       "      <th>14</th>\n",
       "      <td>ChatGPT on social media</td>\n",
       "      <td>22707</td>\n",
       "      <td>2.168051</td>\n",
       "    </tr>\n",
       "    <tr>\n",
       "      <th>15</th>\n",
       "      <td>Finance</td>\n",
       "      <td>22076</td>\n",
       "      <td>2.107804</td>\n",
       "    </tr>\n",
       "    <tr>\n",
       "      <th>16</th>\n",
       "      <td>Healthcare</td>\n",
       "      <td>19199</td>\n",
       "      <td>1.833110</td>\n",
       "    </tr>\n",
       "    <tr>\n",
       "      <th>17</th>\n",
       "      <td>Terrifying, insane</td>\n",
       "      <td>16375</td>\n",
       "      <td>1.563476</td>\n",
       "    </tr>\n",
       "    <tr>\n",
       "      <th>18</th>\n",
       "      <td>Politics</td>\n",
       "      <td>13931</td>\n",
       "      <td>1.330124</td>\n",
       "    </tr>\n",
       "    <tr>\n",
       "      <th>19</th>\n",
       "      <td>Legal issues</td>\n",
       "      <td>11377</td>\n",
       "      <td>1.086269</td>\n",
       "    </tr>\n",
       "    <tr>\n",
       "      <th>20</th>\n",
       "      <td>Making money with ChatGPT</td>\n",
       "      <td>10981</td>\n",
       "      <td>1.048460</td>\n",
       "    </tr>\n",
       "    <tr>\n",
       "      <th>21</th>\n",
       "      <td>Social events on ChatGPT, discussion on media</td>\n",
       "      <td>9178</td>\n",
       "      <td>0.876310</td>\n",
       "    </tr>\n",
       "    <tr>\n",
       "      <th>22</th>\n",
       "      <td>Recipes</td>\n",
       "      <td>8015</td>\n",
       "      <td>0.765268</td>\n",
       "    </tr>\n",
       "    <tr>\n",
       "      <th>23</th>\n",
       "      <td>Calculator, math</td>\n",
       "      <td>7843</td>\n",
       "      <td>0.748845</td>\n",
       "    </tr>\n",
       "    <tr>\n",
       "      <th>24</th>\n",
       "      <td>Climate change</td>\n",
       "      <td>7807</td>\n",
       "      <td>0.745408</td>\n",
       "    </tr>\n",
       "    <tr>\n",
       "      <th>25</th>\n",
       "      <td>Job loss</td>\n",
       "      <td>7802</td>\n",
       "      <td>0.744931</td>\n",
       "    </tr>\n",
       "    <tr>\n",
       "      <th>26</th>\n",
       "      <td>Criticism in terms of ethics</td>\n",
       "      <td>7769</td>\n",
       "      <td>0.741780</td>\n",
       "    </tr>\n",
       "    <tr>\n",
       "      <th>27</th>\n",
       "      <td>Text to audio/voice</td>\n",
       "      <td>7143</td>\n",
       "      <td>0.682010</td>\n",
       "    </tr>\n",
       "    <tr>\n",
       "      <th>28</th>\n",
       "      <td>Spam</td>\n",
       "      <td>6219</td>\n",
       "      <td>0.593787</td>\n",
       "    </tr>\n",
       "    <tr>\n",
       "      <th>29</th>\n",
       "      <td>Sport</td>\n",
       "      <td>4828</td>\n",
       "      <td>0.460975</td>\n",
       "    </tr>\n",
       "    <tr>\n",
       "      <th>30</th>\n",
       "      <td>Robots</td>\n",
       "      <td>4028</td>\n",
       "      <td>0.384591</td>\n",
       "    </tr>\n",
       "    <tr>\n",
       "      <th>31</th>\n",
       "      <td>Religion, sermons</td>\n",
       "      <td>3821</td>\n",
       "      <td>0.364827</td>\n",
       "    </tr>\n",
       "    <tr>\n",
       "      <th>32</th>\n",
       "      <td>Q&amp;A platforms</td>\n",
       "      <td>3776</td>\n",
       "      <td>0.360530</td>\n",
       "    </tr>\n",
       "    <tr>\n",
       "      <th>33</th>\n",
       "      <td>Christmas</td>\n",
       "      <td>3406</td>\n",
       "      <td>0.325203</td>\n",
       "    </tr>\n",
       "    <tr>\n",
       "      <th>34</th>\n",
       "      <td>Translation</td>\n",
       "      <td>2787</td>\n",
       "      <td>0.266101</td>\n",
       "    </tr>\n",
       "    <tr>\n",
       "      <th>35</th>\n",
       "      <td>Gender</td>\n",
       "      <td>2337</td>\n",
       "      <td>0.223135</td>\n",
       "    </tr>\n",
       "    <tr>\n",
       "      <th>36</th>\n",
       "      <td>Real estate</td>\n",
       "      <td>2242</td>\n",
       "      <td>0.214065</td>\n",
       "    </tr>\n",
       "    <tr>\n",
       "      <th>37</th>\n",
       "      <td>ChatGPT's competitors</td>\n",
       "      <td>2170</td>\n",
       "      <td>0.207190</td>\n",
       "    </tr>\n",
       "    <tr>\n",
       "      <th>38</th>\n",
       "      <td>Quantum computing</td>\n",
       "      <td>1853</td>\n",
       "      <td>0.176923</td>\n",
       "    </tr>\n",
       "  </tbody>\n",
       "</table>\n",
       "</div>"
      ],
      "text/plain": [
       "                                       topics_general   total    precent\n",
       "0                                       AI in general  114830  10.963903\n",
       "1              Questions examples, prompt engineering  104529   9.980369\n",
       "2                                           Education   86934   8.300409\n",
       "3   Openai and its Investors and products (Microso...   80077   7.645706\n",
       "4                                    Access and price   77795   7.427822\n",
       "5                                      LLM technology   70433   6.724903\n",
       "6                            Impact on search engines   53557   5.113592\n",
       "7      Impact on art (poems and lyrics, movies,books)   47672   4.551695\n",
       "8   Digital content generation(podcasts,youtube sc...   41671   3.978723\n",
       "9                                                  -1   39092   3.732482\n",
       "10                                        Programming   35648   3.403651\n",
       "11                                   Business routine   34425   3.286879\n",
       "12                                      Entertainment   26144   2.496214\n",
       "13                    Cybersecurity (writing malware)   24869   2.374478\n",
       "14                            ChatGPT on social media   22707   2.168051\n",
       "15                                            Finance   22076   2.107804\n",
       "16                                         Healthcare   19199   1.833110\n",
       "17                                 Terrifying, insane   16375   1.563476\n",
       "18                                           Politics   13931   1.330124\n",
       "19                                       Legal issues   11377   1.086269\n",
       "20                          Making money with ChatGPT   10981   1.048460\n",
       "21      Social events on ChatGPT, discussion on media    9178   0.876310\n",
       "22                                            Recipes    8015   0.765268\n",
       "23                                   Calculator, math    7843   0.748845\n",
       "24                                     Climate change    7807   0.745408\n",
       "25                                           Job loss    7802   0.744931\n",
       "26                       Criticism in terms of ethics    7769   0.741780\n",
       "27                                Text to audio/voice    7143   0.682010\n",
       "28                                               Spam    6219   0.593787\n",
       "29                                              Sport    4828   0.460975\n",
       "30                                             Robots    4028   0.384591\n",
       "31                                  Religion, sermons    3821   0.364827\n",
       "32                                      Q&A platforms    3776   0.360530\n",
       "33                                          Christmas    3406   0.325203\n",
       "34                                        Translation    2787   0.266101\n",
       "35                                             Gender    2337   0.223135\n",
       "36                                        Real estate    2242   0.214065\n",
       "37                              ChatGPT's competitors    2170   0.207190\n",
       "38                                  Quantum computing    1853   0.176923"
      ]
     },
     "execution_count": 78,
     "metadata": {},
     "output_type": "execute_result"
    }
   ],
   "source": [
    "data_all['total']=1\n",
    "volumes = data_all.loc[:,[\"topics_general\",\"total\"]].groupby(\"topics_general\").sum()\n",
    "volumes = volumes.sort_values(\"total\",ascending=False).reset_index()\n",
    "volumes[\"precent\"] = volumes[\"total\"]/sum(volumes[\"total\"])*100\n",
    "volumes"
   ]
  },
  {
   "cell_type": "code",
   "execution_count": 79,
   "metadata": {},
   "outputs": [],
   "source": [
    "volumes.to_excel(\"../analysis/topics_volume_final_no_bots.xlsx\")\n",
    "data_all = data_all.reset_index(drop=True)\n",
    "#data_all.to_pickle(\"../data/for_analysis/data2.pkl\")\n",
    "data_all.to_pickle(\"../data/for_analysis/data2_no_bots.pkl\")"
   ]
  },
  {
   "cell_type": "code",
   "execution_count": 11,
   "metadata": {},
   "outputs": [
    {
     "data": {
      "application/vnd.plotly.v1+json": {
       "config": {
        "plotlyServerURL": "https://plot.ly"
       },
       "data": [
        {
         "hovertemplate": "Sentiment=negative<br>Date=%{x}<br>Percent=%{y}<extra></extra>",
         "legendgroup": "negative",
         "line": {
          "color": "red",
          "dash": "solid"
         },
         "marker": {
          "symbol": "circle"
         },
         "mode": "lines",
         "name": "negative",
         "orientation": "v",
         "showlegend": true,
         "type": "scatter",
         "x": [
          "2022-11-30",
          "2022-12-01",
          "2022-12-02",
          "2022-12-03",
          "2022-12-04",
          "2022-12-05",
          "2022-12-06",
          "2022-12-07",
          "2022-12-08",
          "2022-12-09",
          "2022-12-10",
          "2022-12-11",
          "2022-12-12",
          "2022-12-13",
          "2022-12-14",
          "2022-12-15",
          "2022-12-16",
          "2022-12-17",
          "2022-12-18",
          "2022-12-19",
          "2022-12-20",
          "2022-12-21",
          "2022-12-22",
          "2022-12-23",
          "2022-12-24",
          "2022-12-25",
          "2022-12-26",
          "2022-12-27",
          "2022-12-28",
          "2022-12-29",
          "2022-12-30",
          "2022-12-31",
          "2023-01-01",
          "2023-01-02",
          "2023-01-03",
          "2023-01-04",
          "2023-01-05",
          "2023-01-06",
          "2023-01-07",
          "2023-01-08",
          "2023-01-09",
          "2023-01-10",
          "2023-01-11",
          "2023-01-12",
          "2023-01-13",
          "2023-01-14",
          "2023-01-15",
          "2023-01-16",
          "2023-01-17",
          "2023-01-18",
          "2023-01-19",
          "2023-01-20",
          "2023-01-21",
          "2023-01-22",
          "2023-01-23",
          "2023-01-24",
          "2023-01-25",
          "2023-01-26",
          "2023-01-27",
          "2023-01-28",
          "2023-01-29",
          "2023-01-30",
          "2023-01-31"
         ],
         "xaxis": "x",
         "y": [
          0.11567164179104478,
          0.1696074670758215,
          0.14884738690142996,
          0.15067800040477636,
          0.1295227563327228,
          0.13817929710415444,
          0.16537163730922824,
          0.16588725448516284,
          0.17494419642857142,
          0.1610190700235247,
          0.17887725975261656,
          0.1568929767664416,
          0.18545881378167506,
          0.2371228284059738,
          0.26633776633776635,
          0.2563455544010687,
          0.17948960302457467,
          0.16542988741044012,
          0.1861654135338346,
          0.15256718602948866,
          0.16703146374829,
          0.13938789088489686,
          0.16657963446475196,
          0.22684807256235828,
          0.3548805534536807,
          0.319754639823844,
          0.21732439265691986,
          0.17594631435461885,
          0.11422393532010905,
          0.1302363678914112,
          0.13619134753626977,
          0.11733479773018488,
          0.11760752688172044,
          0.1223074653290056,
          0.22426018719863855,
          0.32902397652775867,
          0.2395594038993933,
          0.25128274372130704,
          0.24809282646323483,
          0.1573959320551141,
          0.15596796745900599,
          0.14006696428571427,
          0.15379310344827588,
          0.15399852588907315,
          0.1732412559618442,
          0.18287307143783224,
          0.11883594499520307,
          0.19123173277661795,
          0.120498940927277,
          0.154275196608846,
          0.14799309226019153,
          0.14918312606681297,
          0.16245186136071887,
          0.14973404255319148,
          0.14667023063998777,
          0.23433580078669433,
          0.1808291930786363,
          0.17453261321146657,
          0.21790130820310946,
          0.22230234354880246,
          0.15941757572920082,
          0.1320969393560132,
          0.13676341248900617
         ],
         "yaxis": "y"
        },
        {
         "hovertemplate": "Sentiment=neutral<br>Date=%{x}<br>Percent=%{y}<extra></extra>",
         "legendgroup": "neutral",
         "line": {
          "color": "grey",
          "dash": "solid"
         },
         "marker": {
          "symbol": "circle"
         },
         "mode": "lines",
         "name": "neutral",
         "orientation": "v",
         "showlegend": true,
         "type": "scatter",
         "x": [
          "2022-11-30",
          "2022-12-01",
          "2022-12-02",
          "2022-12-03",
          "2022-12-04",
          "2022-12-05",
          "2022-12-06",
          "2022-12-07",
          "2022-12-08",
          "2022-12-09",
          "2022-12-10",
          "2022-12-11",
          "2022-12-12",
          "2022-12-13",
          "2022-12-14",
          "2022-12-15",
          "2022-12-16",
          "2022-12-17",
          "2022-12-18",
          "2022-12-19",
          "2022-12-20",
          "2022-12-21",
          "2022-12-22",
          "2022-12-23",
          "2022-12-24",
          "2022-12-25",
          "2022-12-26",
          "2022-12-27",
          "2022-12-28",
          "2022-12-29",
          "2022-12-30",
          "2022-12-31",
          "2023-01-01",
          "2023-01-02",
          "2023-01-03",
          "2023-01-04",
          "2023-01-05",
          "2023-01-06",
          "2023-01-07",
          "2023-01-08",
          "2023-01-09",
          "2023-01-10",
          "2023-01-11",
          "2023-01-12",
          "2023-01-13",
          "2023-01-14",
          "2023-01-15",
          "2023-01-16",
          "2023-01-17",
          "2023-01-18",
          "2023-01-19",
          "2023-01-20",
          "2023-01-21",
          "2023-01-22",
          "2023-01-23",
          "2023-01-24",
          "2023-01-25",
          "2023-01-26",
          "2023-01-27",
          "2023-01-28",
          "2023-01-29",
          "2023-01-30",
          "2023-01-31"
         ],
         "xaxis": "x",
         "y": [
          0.08333333333333333,
          0.12178749520521673,
          0.23774871507811307,
          0.19768265533292856,
          0.18650862217921693,
          0.23724068049704017,
          0.2914589976163205,
          0.2280418331774509,
          0.2922247023809524,
          0.28655087842234345,
          0.2521408182683159,
          0.28725610080280717,
          0.2624456259062349,
          0.23933252057299603,
          0.22572572572572572,
          0.20899510167730445,
          0.2763705103969754,
          0.28620777891504606,
          0.293984962406015,
          0.40562584962877757,
          0.340218878248974,
          0.2725659791528055,
          0.2498172323759791,
          0.2178684807256236,
          0.20257269484380067,
          0.25810003145643284,
          0.30812355721666485,
          0.2348746985425186,
          0.24734417598947073,
          0.24256962321553943,
          0.42268984446477587,
          0.39099395936298736,
          0.3272849462365591,
          0.33151372086161107,
          0.24241278245249126,
          0.22426993077522578,
          0.2437415326618366,
          0.22488522819335674,
          0.2187319699980768,
          0.2760807756798134,
          0.2579763569340282,
          0.3042309253246753,
          0.2620229885057471,
          0.24332043486272342,
          0.29431637519872816,
          0.2476986905224945,
          0.22168212344099777,
          0.2507008648971071,
          0.33247038518867184,
          0.31055831334709133,
          0.2639070595007588,
          0.25608388198000487,
          0.3086007702182285,
          0.27420212765957447,
          0.28413777302581333,
          0.27450676742961566,
          0.28327908172006167,
          0.2860407145824678,
          0.26669052447413416,
          0.3212979654906,
          0.38831405964698723,
          0.3394394508286874,
          0.34540964752046543
         ],
         "yaxis": "y"
        },
        {
         "hovertemplate": "Sentiment=positive<br>Date=%{x}<br>Percent=%{y}<extra></extra>",
         "legendgroup": "positive",
         "line": {
          "color": "green",
          "dash": "solid"
         },
         "marker": {
          "symbol": "circle"
         },
         "mode": "lines",
         "name": "positive",
         "orientation": "v",
         "showlegend": true,
         "type": "scatter",
         "x": [
          "2022-11-30",
          "2022-12-01",
          "2022-12-02",
          "2022-12-03",
          "2022-12-04",
          "2022-12-05",
          "2022-12-06",
          "2022-12-07",
          "2022-12-08",
          "2022-12-09",
          "2022-12-10",
          "2022-12-11",
          "2022-12-12",
          "2022-12-13",
          "2022-12-14",
          "2022-12-15",
          "2022-12-16",
          "2022-12-17",
          "2022-12-18",
          "2022-12-19",
          "2022-12-20",
          "2022-12-21",
          "2022-12-22",
          "2022-12-23",
          "2022-12-24",
          "2022-12-25",
          "2022-12-26",
          "2022-12-27",
          "2022-12-28",
          "2022-12-29",
          "2022-12-30",
          "2022-12-31",
          "2023-01-01",
          "2023-01-02",
          "2023-01-03",
          "2023-01-04",
          "2023-01-05",
          "2023-01-06",
          "2023-01-07",
          "2023-01-08",
          "2023-01-09",
          "2023-01-10",
          "2023-01-11",
          "2023-01-12",
          "2023-01-13",
          "2023-01-14",
          "2023-01-15",
          "2023-01-16",
          "2023-01-17",
          "2023-01-18",
          "2023-01-19",
          "2023-01-20",
          "2023-01-21",
          "2023-01-22",
          "2023-01-23",
          "2023-01-24",
          "2023-01-25",
          "2023-01-26",
          "2023-01-27",
          "2023-01-28",
          "2023-01-29",
          "2023-01-30",
          "2023-01-31"
         ],
         "xaxis": "x",
         "y": [
          0.8009950248756219,
          0.7086050377189618,
          0.613403898020457,
          0.6516393442622951,
          0.6839686214880603,
          0.6245800223988054,
          0.5431693650744512,
          0.6060709123373863,
          0.5328311011904762,
          0.5524300515541318,
          0.5689819219790676,
          0.5558509224307512,
          0.5520955603120901,
          0.5235446510210302,
          0.5079365079365079,
          0.5346593439216268,
          0.5441398865784499,
          0.5483623336745138,
          0.5198496240601503,
          0.4418069643417338,
          0.49274965800273596,
          0.5880461299622977,
          0.5836031331592689,
          0.5552834467120181,
          0.44254675170251867,
          0.42214532871972316,
          0.4745520501264153,
          0.5891789871028625,
          0.6384318886904202,
          0.6271940088930493,
          0.44111880799895437,
          0.49167124290682773,
          0.5551075268817204,
          0.5461788138093833,
          0.5333270303488702,
          0.44670609269701556,
          0.5166990634387701,
          0.5238320280853362,
          0.5331752035386884,
          0.5665232922650726,
          0.5860556756069658,
          0.5557021103896104,
          0.584183908045977,
          0.6026810392482034,
          0.5324423688394276,
          0.5694282380396732,
          0.6594819315637992,
          0.5580674023262749,
          0.5470306738840511,
          0.5351664900440627,
          0.5880998482390497,
          0.5947329919531822,
          0.5289473684210526,
          0.576063829787234,
          0.5691919963341989,
          0.49115743178369003,
          0.535891725201302,
          0.5394266722060657,
          0.5154081673227564,
          0.45639969096059746,
          0.452268364623812,
          0.5284636098152994,
          0.5178269399905284
         ],
         "yaxis": "y"
        }
       ],
       "layout": {
        "height": 600,
        "legend": {
         "title": {
          "text": "Sentiment"
         },
         "tracegroupgap": 0
        },
        "template": {
         "data": {
          "bar": [
           {
            "error_x": {
             "color": "#2a3f5f"
            },
            "error_y": {
             "color": "#2a3f5f"
            },
            "marker": {
             "line": {
              "color": "white",
              "width": 0.5
             },
             "pattern": {
              "fillmode": "overlay",
              "size": 10,
              "solidity": 0.2
             }
            },
            "type": "bar"
           }
          ],
          "barpolar": [
           {
            "marker": {
             "line": {
              "color": "white",
              "width": 0.5
             },
             "pattern": {
              "fillmode": "overlay",
              "size": 10,
              "solidity": 0.2
             }
            },
            "type": "barpolar"
           }
          ],
          "carpet": [
           {
            "aaxis": {
             "endlinecolor": "#2a3f5f",
             "gridcolor": "#C8D4E3",
             "linecolor": "#C8D4E3",
             "minorgridcolor": "#C8D4E3",
             "startlinecolor": "#2a3f5f"
            },
            "baxis": {
             "endlinecolor": "#2a3f5f",
             "gridcolor": "#C8D4E3",
             "linecolor": "#C8D4E3",
             "minorgridcolor": "#C8D4E3",
             "startlinecolor": "#2a3f5f"
            },
            "type": "carpet"
           }
          ],
          "choropleth": [
           {
            "colorbar": {
             "outlinewidth": 0,
             "ticks": ""
            },
            "type": "choropleth"
           }
          ],
          "contour": [
           {
            "colorbar": {
             "outlinewidth": 0,
             "ticks": ""
            },
            "colorscale": [
             [
              0,
              "#0d0887"
             ],
             [
              0.1111111111111111,
              "#46039f"
             ],
             [
              0.2222222222222222,
              "#7201a8"
             ],
             [
              0.3333333333333333,
              "#9c179e"
             ],
             [
              0.4444444444444444,
              "#bd3786"
             ],
             [
              0.5555555555555556,
              "#d8576b"
             ],
             [
              0.6666666666666666,
              "#ed7953"
             ],
             [
              0.7777777777777778,
              "#fb9f3a"
             ],
             [
              0.8888888888888888,
              "#fdca26"
             ],
             [
              1,
              "#f0f921"
             ]
            ],
            "type": "contour"
           }
          ],
          "contourcarpet": [
           {
            "colorbar": {
             "outlinewidth": 0,
             "ticks": ""
            },
            "type": "contourcarpet"
           }
          ],
          "heatmap": [
           {
            "colorbar": {
             "outlinewidth": 0,
             "ticks": ""
            },
            "colorscale": [
             [
              0,
              "#0d0887"
             ],
             [
              0.1111111111111111,
              "#46039f"
             ],
             [
              0.2222222222222222,
              "#7201a8"
             ],
             [
              0.3333333333333333,
              "#9c179e"
             ],
             [
              0.4444444444444444,
              "#bd3786"
             ],
             [
              0.5555555555555556,
              "#d8576b"
             ],
             [
              0.6666666666666666,
              "#ed7953"
             ],
             [
              0.7777777777777778,
              "#fb9f3a"
             ],
             [
              0.8888888888888888,
              "#fdca26"
             ],
             [
              1,
              "#f0f921"
             ]
            ],
            "type": "heatmap"
           }
          ],
          "heatmapgl": [
           {
            "colorbar": {
             "outlinewidth": 0,
             "ticks": ""
            },
            "colorscale": [
             [
              0,
              "#0d0887"
             ],
             [
              0.1111111111111111,
              "#46039f"
             ],
             [
              0.2222222222222222,
              "#7201a8"
             ],
             [
              0.3333333333333333,
              "#9c179e"
             ],
             [
              0.4444444444444444,
              "#bd3786"
             ],
             [
              0.5555555555555556,
              "#d8576b"
             ],
             [
              0.6666666666666666,
              "#ed7953"
             ],
             [
              0.7777777777777778,
              "#fb9f3a"
             ],
             [
              0.8888888888888888,
              "#fdca26"
             ],
             [
              1,
              "#f0f921"
             ]
            ],
            "type": "heatmapgl"
           }
          ],
          "histogram": [
           {
            "marker": {
             "pattern": {
              "fillmode": "overlay",
              "size": 10,
              "solidity": 0.2
             }
            },
            "type": "histogram"
           }
          ],
          "histogram2d": [
           {
            "colorbar": {
             "outlinewidth": 0,
             "ticks": ""
            },
            "colorscale": [
             [
              0,
              "#0d0887"
             ],
             [
              0.1111111111111111,
              "#46039f"
             ],
             [
              0.2222222222222222,
              "#7201a8"
             ],
             [
              0.3333333333333333,
              "#9c179e"
             ],
             [
              0.4444444444444444,
              "#bd3786"
             ],
             [
              0.5555555555555556,
              "#d8576b"
             ],
             [
              0.6666666666666666,
              "#ed7953"
             ],
             [
              0.7777777777777778,
              "#fb9f3a"
             ],
             [
              0.8888888888888888,
              "#fdca26"
             ],
             [
              1,
              "#f0f921"
             ]
            ],
            "type": "histogram2d"
           }
          ],
          "histogram2dcontour": [
           {
            "colorbar": {
             "outlinewidth": 0,
             "ticks": ""
            },
            "colorscale": [
             [
              0,
              "#0d0887"
             ],
             [
              0.1111111111111111,
              "#46039f"
             ],
             [
              0.2222222222222222,
              "#7201a8"
             ],
             [
              0.3333333333333333,
              "#9c179e"
             ],
             [
              0.4444444444444444,
              "#bd3786"
             ],
             [
              0.5555555555555556,
              "#d8576b"
             ],
             [
              0.6666666666666666,
              "#ed7953"
             ],
             [
              0.7777777777777778,
              "#fb9f3a"
             ],
             [
              0.8888888888888888,
              "#fdca26"
             ],
             [
              1,
              "#f0f921"
             ]
            ],
            "type": "histogram2dcontour"
           }
          ],
          "mesh3d": [
           {
            "colorbar": {
             "outlinewidth": 0,
             "ticks": ""
            },
            "type": "mesh3d"
           }
          ],
          "parcoords": [
           {
            "line": {
             "colorbar": {
              "outlinewidth": 0,
              "ticks": ""
             }
            },
            "type": "parcoords"
           }
          ],
          "pie": [
           {
            "automargin": true,
            "type": "pie"
           }
          ],
          "scatter": [
           {
            "fillpattern": {
             "fillmode": "overlay",
             "size": 10,
             "solidity": 0.2
            },
            "type": "scatter"
           }
          ],
          "scatter3d": [
           {
            "line": {
             "colorbar": {
              "outlinewidth": 0,
              "ticks": ""
             }
            },
            "marker": {
             "colorbar": {
              "outlinewidth": 0,
              "ticks": ""
             }
            },
            "type": "scatter3d"
           }
          ],
          "scattercarpet": [
           {
            "marker": {
             "colorbar": {
              "outlinewidth": 0,
              "ticks": ""
             }
            },
            "type": "scattercarpet"
           }
          ],
          "scattergeo": [
           {
            "marker": {
             "colorbar": {
              "outlinewidth": 0,
              "ticks": ""
             }
            },
            "type": "scattergeo"
           }
          ],
          "scattergl": [
           {
            "marker": {
             "colorbar": {
              "outlinewidth": 0,
              "ticks": ""
             }
            },
            "type": "scattergl"
           }
          ],
          "scattermapbox": [
           {
            "marker": {
             "colorbar": {
              "outlinewidth": 0,
              "ticks": ""
             }
            },
            "type": "scattermapbox"
           }
          ],
          "scatterpolar": [
           {
            "marker": {
             "colorbar": {
              "outlinewidth": 0,
              "ticks": ""
             }
            },
            "type": "scatterpolar"
           }
          ],
          "scatterpolargl": [
           {
            "marker": {
             "colorbar": {
              "outlinewidth": 0,
              "ticks": ""
             }
            },
            "type": "scatterpolargl"
           }
          ],
          "scatterternary": [
           {
            "marker": {
             "colorbar": {
              "outlinewidth": 0,
              "ticks": ""
             }
            },
            "type": "scatterternary"
           }
          ],
          "surface": [
           {
            "colorbar": {
             "outlinewidth": 0,
             "ticks": ""
            },
            "colorscale": [
             [
              0,
              "#0d0887"
             ],
             [
              0.1111111111111111,
              "#46039f"
             ],
             [
              0.2222222222222222,
              "#7201a8"
             ],
             [
              0.3333333333333333,
              "#9c179e"
             ],
             [
              0.4444444444444444,
              "#bd3786"
             ],
             [
              0.5555555555555556,
              "#d8576b"
             ],
             [
              0.6666666666666666,
              "#ed7953"
             ],
             [
              0.7777777777777778,
              "#fb9f3a"
             ],
             [
              0.8888888888888888,
              "#fdca26"
             ],
             [
              1,
              "#f0f921"
             ]
            ],
            "type": "surface"
           }
          ],
          "table": [
           {
            "cells": {
             "fill": {
              "color": "#EBF0F8"
             },
             "line": {
              "color": "white"
             }
            },
            "header": {
             "fill": {
              "color": "#C8D4E3"
             },
             "line": {
              "color": "white"
             }
            },
            "type": "table"
           }
          ]
         },
         "layout": {
          "annotationdefaults": {
           "arrowcolor": "#2a3f5f",
           "arrowhead": 0,
           "arrowwidth": 1
          },
          "autotypenumbers": "strict",
          "coloraxis": {
           "colorbar": {
            "outlinewidth": 0,
            "ticks": ""
           }
          },
          "colorscale": {
           "diverging": [
            [
             0,
             "#8e0152"
            ],
            [
             0.1,
             "#c51b7d"
            ],
            [
             0.2,
             "#de77ae"
            ],
            [
             0.3,
             "#f1b6da"
            ],
            [
             0.4,
             "#fde0ef"
            ],
            [
             0.5,
             "#f7f7f7"
            ],
            [
             0.6,
             "#e6f5d0"
            ],
            [
             0.7,
             "#b8e186"
            ],
            [
             0.8,
             "#7fbc41"
            ],
            [
             0.9,
             "#4d9221"
            ],
            [
             1,
             "#276419"
            ]
           ],
           "sequential": [
            [
             0,
             "#0d0887"
            ],
            [
             0.1111111111111111,
             "#46039f"
            ],
            [
             0.2222222222222222,
             "#7201a8"
            ],
            [
             0.3333333333333333,
             "#9c179e"
            ],
            [
             0.4444444444444444,
             "#bd3786"
            ],
            [
             0.5555555555555556,
             "#d8576b"
            ],
            [
             0.6666666666666666,
             "#ed7953"
            ],
            [
             0.7777777777777778,
             "#fb9f3a"
            ],
            [
             0.8888888888888888,
             "#fdca26"
            ],
            [
             1,
             "#f0f921"
            ]
           ],
           "sequentialminus": [
            [
             0,
             "#0d0887"
            ],
            [
             0.1111111111111111,
             "#46039f"
            ],
            [
             0.2222222222222222,
             "#7201a8"
            ],
            [
             0.3333333333333333,
             "#9c179e"
            ],
            [
             0.4444444444444444,
             "#bd3786"
            ],
            [
             0.5555555555555556,
             "#d8576b"
            ],
            [
             0.6666666666666666,
             "#ed7953"
            ],
            [
             0.7777777777777778,
             "#fb9f3a"
            ],
            [
             0.8888888888888888,
             "#fdca26"
            ],
            [
             1,
             "#f0f921"
            ]
           ]
          },
          "colorway": [
           "#636efa",
           "#EF553B",
           "#00cc96",
           "#ab63fa",
           "#FFA15A",
           "#19d3f3",
           "#FF6692",
           "#B6E880",
           "#FF97FF",
           "#FECB52"
          ],
          "font": {
           "color": "#2a3f5f"
          },
          "geo": {
           "bgcolor": "white",
           "lakecolor": "white",
           "landcolor": "white",
           "showlakes": true,
           "showland": true,
           "subunitcolor": "#C8D4E3"
          },
          "hoverlabel": {
           "align": "left"
          },
          "hovermode": "closest",
          "mapbox": {
           "style": "light"
          },
          "paper_bgcolor": "white",
          "plot_bgcolor": "white",
          "polar": {
           "angularaxis": {
            "gridcolor": "#EBF0F8",
            "linecolor": "#EBF0F8",
            "ticks": ""
           },
           "bgcolor": "white",
           "radialaxis": {
            "gridcolor": "#EBF0F8",
            "linecolor": "#EBF0F8",
            "ticks": ""
           }
          },
          "scene": {
           "xaxis": {
            "backgroundcolor": "white",
            "gridcolor": "#DFE8F3",
            "gridwidth": 2,
            "linecolor": "#EBF0F8",
            "showbackground": true,
            "ticks": "",
            "zerolinecolor": "#EBF0F8"
           },
           "yaxis": {
            "backgroundcolor": "white",
            "gridcolor": "#DFE8F3",
            "gridwidth": 2,
            "linecolor": "#EBF0F8",
            "showbackground": true,
            "ticks": "",
            "zerolinecolor": "#EBF0F8"
           },
           "zaxis": {
            "backgroundcolor": "white",
            "gridcolor": "#DFE8F3",
            "gridwidth": 2,
            "linecolor": "#EBF0F8",
            "showbackground": true,
            "ticks": "",
            "zerolinecolor": "#EBF0F8"
           }
          },
          "shapedefaults": {
           "line": {
            "color": "#2a3f5f"
           }
          },
          "ternary": {
           "aaxis": {
            "gridcolor": "#DFE8F3",
            "linecolor": "#A2B1C6",
            "ticks": ""
           },
           "baxis": {
            "gridcolor": "#DFE8F3",
            "linecolor": "#A2B1C6",
            "ticks": ""
           },
           "bgcolor": "white",
           "caxis": {
            "gridcolor": "#DFE8F3",
            "linecolor": "#A2B1C6",
            "ticks": ""
           }
          },
          "title": {
           "x": 0.05
          },
          "xaxis": {
           "automargin": true,
           "gridcolor": "#EBF0F8",
           "linecolor": "#EBF0F8",
           "ticks": "",
           "title": {
            "standoff": 15
           },
           "zerolinecolor": "#EBF0F8",
           "zerolinewidth": 2
          },
          "yaxis": {
           "automargin": true,
           "gridcolor": "#EBF0F8",
           "linecolor": "#EBF0F8",
           "ticks": "",
           "title": {
            "standoff": 15
           },
           "zerolinecolor": "#EBF0F8",
           "zerolinewidth": 2
          }
         }
        },
        "title": {
         "text": "Dynamics of sentiment"
        },
        "width": 800,
        "xaxis": {
         "anchor": "y",
         "domain": [
          0,
          1
         ],
         "title": {
          "text": "Date"
         }
        },
        "yaxis": {
         "anchor": "x",
         "domain": [
          0,
          1
         ],
         "title": {
          "text": "Percent"
         }
        }
       }
      }
     },
     "metadata": {},
     "output_type": "display_data"
    }
   ],
   "source": [
    "data[\"total\"]=1\n",
    "sent_df = data.loc[(data.topics_general !=\"Outliers\")&(data.topics_general !=\"Spam\"),[\"date\",\"total\",\"score\"]].groupby([\"date\",\"score\"]).sum().reset_index()\n",
    "sent_df[\"perc\"] = sent_df['total'] / sent_df.groupby('date')['total'].transform('sum')\n",
    "sent_df.columns = [\"Date\",\"Sentiment\",\"Tweets per Day\",\"Percent\"]\n",
    "sent_df.to_excel(\"../analysis/ALL_sentiment_graph_no_outliers.xlsx\")\n",
    "fig = px.line(sent_df, x=\"Date\", y=\"Percent\", title='Dynamics of sentiment',color=\"Sentiment\",\n",
    "                template=\"plotly_white\", color_discrete_sequence=[ 'red','grey',\"green\"],\n",
    "                 width=800, height=600)\n",
    "fig.show()"
   ]
  },
  {
   "attachments": {},
   "cell_type": "markdown",
   "metadata": {},
   "source": [
    "## + Conversations"
   ]
  },
  {
   "cell_type": "code",
   "execution_count": 80,
   "metadata": {},
   "outputs": [
    {
     "data": {
      "text/plain": [
       "(10361371, 36)"
      ]
     },
     "execution_count": 80,
     "metadata": {},
     "output_type": "execute_result"
    }
   ],
   "source": [
    "conv = pd.read_pickle(\"../data/for_analysis/data1.pkl\")\n",
    "conv = conv.loc[conv.conversation_id != conv.id]\n",
    "conv = conv.loc[~conv.author_id.isin(bots)]\n",
    "conv.shape"
   ]
  },
  {
   "cell_type": "code",
   "execution_count": 81,
   "metadata": {},
   "outputs": [],
   "source": [
    "conv['prep'] = basic_preprocessing(conv['prep'])"
   ]
  },
  {
   "cell_type": "code",
   "execution_count": 82,
   "metadata": {},
   "outputs": [
    {
     "name": "stdout",
     "output_type": "stream",
     "text": [
      "(10361371, 37)\n",
      "(10361371, 37)\n"
     ]
    }
   ],
   "source": [
    "from collections import Counter\n",
    "import numpy as np\n",
    "\n",
    "dict_conv_avg = {}\n",
    "conv[\"topics_general\"] = -1\n",
    "\n",
    "print(conv.shape)\n",
    "conv = conv.loc[~conv.author_id.isin(bots)]\n",
    "print(conv.shape)\n",
    "\n",
    "for topic_name in data_all.topics_general.unique():\n",
    "    conv_ids_unique = list(data_all.loc[data_all.topics_general == topic_name]['conversation_id'].unique())\n",
    "    conv.loc[conv.conversation_id.isin(conv_ids_unique) , \"topics_general\"] = topic_name\n",
    "    conv_ids_topic = conv.loc[conv.conversation_id.isin(conv_ids_unique)][\"conversation_id\"].to_list()\n",
    "    dict_conv_avg[topic_name] =np.mean(list(Counter(conv_ids_topic).values()))"
   ]
  },
  {
   "cell_type": "code",
   "execution_count": 83,
   "metadata": {},
   "outputs": [
    {
     "data": {
      "text/html": [
       "<div>\n",
       "<style scoped>\n",
       "    .dataframe tbody tr th:only-of-type {\n",
       "        vertical-align: middle;\n",
       "    }\n",
       "\n",
       "    .dataframe tbody tr th {\n",
       "        vertical-align: top;\n",
       "    }\n",
       "\n",
       "    .dataframe thead th {\n",
       "        text-align: right;\n",
       "    }\n",
       "</style>\n",
       "<table border=\"1\" class=\"dataframe\">\n",
       "  <thead>\n",
       "    <tr style=\"text-align: right;\">\n",
       "      <th></th>\n",
       "      <th>topics_general</th>\n",
       "      <th>total</th>\n",
       "      <th>precent</th>\n",
       "      <th>average_conv</th>\n",
       "    </tr>\n",
       "  </thead>\n",
       "  <tbody>\n",
       "    <tr>\n",
       "      <th>0</th>\n",
       "      <td>AI in general</td>\n",
       "      <td>114830</td>\n",
       "      <td>10.963903</td>\n",
       "      <td>6.312132</td>\n",
       "    </tr>\n",
       "    <tr>\n",
       "      <th>1</th>\n",
       "      <td>Questions examples, prompt engineering</td>\n",
       "      <td>104529</td>\n",
       "      <td>9.980369</td>\n",
       "      <td>5.709664</td>\n",
       "    </tr>\n",
       "    <tr>\n",
       "      <th>2</th>\n",
       "      <td>Education</td>\n",
       "      <td>86934</td>\n",
       "      <td>8.300409</td>\n",
       "      <td>5.185428</td>\n",
       "    </tr>\n",
       "    <tr>\n",
       "      <th>3</th>\n",
       "      <td>Openai and its Investors and products (Microso...</td>\n",
       "      <td>80077</td>\n",
       "      <td>7.645706</td>\n",
       "      <td>5.575000</td>\n",
       "    </tr>\n",
       "    <tr>\n",
       "      <th>4</th>\n",
       "      <td>Access and price</td>\n",
       "      <td>77795</td>\n",
       "      <td>7.427822</td>\n",
       "      <td>9.549610</td>\n",
       "    </tr>\n",
       "  </tbody>\n",
       "</table>\n",
       "</div>"
      ],
      "text/plain": [
       "                                      topics_general   total    precent  \\\n",
       "0                                      AI in general  114830  10.963903   \n",
       "1             Questions examples, prompt engineering  104529   9.980369   \n",
       "2                                          Education   86934   8.300409   \n",
       "3  Openai and its Investors and products (Microso...   80077   7.645706   \n",
       "4                                   Access and price   77795   7.427822   \n",
       "\n",
       "   average_conv  \n",
       "0      6.312132  \n",
       "1      5.709664  \n",
       "2      5.185428  \n",
       "3      5.575000  \n",
       "4      9.549610  "
      ]
     },
     "execution_count": 83,
     "metadata": {},
     "output_type": "execute_result"
    }
   ],
   "source": [
    "volumes[\"average_conv\"] = volumes.topics_general.replace(dict_conv_avg)\n",
    "volumes.head()"
   ]
  },
  {
   "cell_type": "code",
   "execution_count": 84,
   "metadata": {},
   "outputs": [],
   "source": [
    "volumes.to_excel(\"../analysis/topics_volume_final_no_bots.xlsx\")"
   ]
  },
  {
   "attachments": {},
   "cell_type": "markdown",
   "metadata": {},
   "source": [
    "## Subset on Education"
   ]
  },
  {
   "cell_type": "code",
   "execution_count": 85,
   "metadata": {},
   "outputs": [
    {
     "name": "stdout",
     "output_type": "stream",
     "text": [
      "(34732, 38)\n"
     ]
    },
    {
     "data": {
      "text/plain": [
       "(121666, 38)"
      ]
     },
     "execution_count": 85,
     "metadata": {},
     "output_type": "execute_result"
    }
   ],
   "source": [
    "edu = data_all.loc[data_all.topics_general == \"Education\"]\n",
    "edu = edu.drop([\"topics\",\"total\"],axis=1)\n",
    "\n",
    "edu[\"spark\"] = 1\n",
    "conv_edu = conv.loc[conv.topics_general == \"Education\"]\n",
    "conv_edu[\"spark\"]=0\n",
    "print(conv_edu.shape)\n",
    "edu = pd.concat([edu,conv_edu],axis=0)\n",
    "edu = edu.reset_index(drop=True)\n",
    "edu.shape"
   ]
  },
  {
   "cell_type": "code",
   "execution_count": 86,
   "metadata": {},
   "outputs": [
    {
     "data": {
      "text/plain": [
       "Index(['text', 'edit_history_tweet_ids', 'referenced_tweets',\n",
       "       'possibly_sensitive', 'reply_settings', 'lang', 'id', 'created_at',\n",
       "       'conversation_id', 'author_id', 'public_metrics.retweet_count',\n",
       "       'public_metrics.reply_count', 'public_metrics.like_count',\n",
       "       'public_metrics.quote_count', 'public_metrics.impression_count',\n",
       "       'entities.annotations', 'entities.mentions', 'entities.hashtags',\n",
       "       'entities.urls', 'geo.place_id', 'geo.coordinates.type',\n",
       "       'geo.coordinates.coordinates', 'in_reply_to_user_id',\n",
       "       'attachments.media_keys', 'entities.cashtags', 'attachments.poll_ids',\n",
       "       'withheld.copyright', 'withheld.country_codes', 'withheld.scope',\n",
       "       'date', 'text_rt', 'not_found', 'prep', 'sentiment', 'score',\n",
       "       'compound', 'topics_general', 'spark'],\n",
       "      dtype='object')"
      ]
     },
     "execution_count": 86,
     "metadata": {},
     "output_type": "execute_result"
    }
   ],
   "source": [
    "edu.columns"
   ]
  },
  {
   "cell_type": "code",
   "execution_count": 87,
   "metadata": {},
   "outputs": [],
   "source": [
    "edu.to_pickle(\"../data/for_analysis/edu_no_bots.pkl\")"
   ]
  }
 ],
 "metadata": {
  "kernelspec": {
   "display_name": "chatgpt",
   "language": "python",
   "name": "python3"
  },
  "language_info": {
   "codemirror_mode": {
    "name": "ipython",
    "version": 3
   },
   "file_extension": ".py",
   "mimetype": "text/x-python",
   "name": "python",
   "nbconvert_exporter": "python",
   "pygments_lexer": "ipython3",
   "version": "3.9.16"
  },
  "orig_nbformat": 4,
  "vscode": {
   "interpreter": {
    "hash": "c498fff0e646d7d7e47743c6b62b2b1749eb16b128d528401df01971235654c5"
   }
  }
 },
 "nbformat": 4,
 "nbformat_minor": 2
}

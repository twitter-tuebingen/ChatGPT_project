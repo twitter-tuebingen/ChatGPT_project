{
 "cells": [
  {
   "attachments": {},
   "cell_type": "markdown",
   "metadata": {},
   "source": [
    "In this notebook, exploratory analysis of the data was done:\n",
    "\n",
    "1. Descriptive statistics for all tweets and sparking tweets only. Dynamics of the number of posts per day. Dynamics of the number of unique users.\n",
    "2. Geolocation of tweets.\n",
    "3. Language of tweets distribution."
   ]
  },
  {
   "cell_type": "code",
   "execution_count": null,
   "metadata": {},
   "outputs": [],
   "source": [
    "import pandas as pd\n",
    "import re\n",
    "import matplotlib.pyplot as plt\n",
    "import os\n",
    "import json\n",
    "import plotly.express as px\n",
    "\n",
    "data = pd.read_pickle(\"../data/for_analysis/data0.pkl\")\n",
    "data.shape"
   ]
  },
  {
   "cell_type": "code",
   "execution_count": null,
   "metadata": {},
   "outputs": [],
   "source": [
    "bots=[]\n",
    "with open(\"../data/for_analysis/bot_fake_ids_2.txt\",\"r\") as f:\n",
    "    for line in f:\n",
    "        bots.append(int(line.strip()))\n",
    "\n",
    "data = data.loc[~data.author_id.isin(bots)]\n",
    "data.shape\n"
   ]
  },
  {
   "cell_type": "code",
   "execution_count": null,
   "metadata": {},
   "outputs": [],
   "source": [
    "spam=[]\n",
    "with open(\"../data/spam_fake_conv_ids.txt\",\"r\") as f:\n",
    "    for line in f:\n",
    "        spam.append(int(line.strip()))\n",
    "\n",
    "data = data.loc[~data.conversation_id.isin(spam)]\n",
    "data.shape"
   ]
  },
  {
   "cell_type": "code",
   "execution_count": null,
   "metadata": {},
   "outputs": [],
   "source": [
    "print(\"Number of unique users: \",len(data.author_id.unique()))"
   ]
  },
  {
   "attachments": {},
   "cell_type": "markdown",
   "metadata": {},
   "source": [
    "### 1. Descriptive Statistics"
   ]
  },
  {
   "cell_type": "code",
   "execution_count": null,
   "metadata": {},
   "outputs": [],
   "source": [
    "pub_metrics = data.loc[:,[\"public_metrics.retweet_count\",\"public_metrics.reply_count\",\"public_metrics.like_count\",\n",
    "                        \"public_metrics.quote_count\"]]\n",
    "print(pub_metrics.shape[0])                       \n",
    "round(pub_metrics.describe().iloc[1:,:],3)"
   ]
  },
  {
   "cell_type": "code",
   "execution_count": null,
   "metadata": {},
   "outputs": [],
   "source": [
    "data.loc[:,[\"public_metrics.retweet_count\",\"public_metrics.reply_count\",\"public_metrics.like_count\",\n",
    "                        \"public_metrics.quote_count\"]].median(axis=0)"
   ]
  },
  {
   "cell_type": "code",
   "execution_count": null,
   "metadata": {},
   "outputs": [],
   "source": [
    "conversations = data.groupby([\"conversation_id\"])[\"author_id\"].count()\n",
    "print(sum(conversations>1))\n",
    "conversations = conversations[conversations>1].index.to_list()"
   ]
  },
  {
   "cell_type": "code",
   "execution_count": null,
   "metadata": {},
   "outputs": [],
   "source": [
    "sparking = data.loc[data.conversation_id.isin(conversations)]\n",
    "sparking = sparking.loc[(sparking.id == sparking.conversation_id)&(sparking[\"public_metrics.reply_count\"]>0)]\n",
    "sparking = sparking.loc[:,[\"public_metrics.retweet_count\",\"public_metrics.reply_count\",\"public_metrics.like_count\",\n",
    "                        \"public_metrics.quote_count\"]]\n",
    "print(sparking.shape)\n",
    "round(sparking.describe(),3)"
   ]
  },
  {
   "cell_type": "code",
   "execution_count": null,
   "metadata": {},
   "outputs": [],
   "source": [
    "sparking.median(axis=0)"
   ]
  },
  {
   "cell_type": "code",
   "execution_count": null,
   "metadata": {},
   "outputs": [],
   "source": [
    "data[\"total\"] = 1\n",
    "tweets_day = data.loc[:,[\"date\",\"total\"]].groupby(\"date\").sum().reset_index()\n",
    "tweets_day.to_excel(\"../analysis/all_tweets_posts_dynamics.xlsx\")\n",
    "\n",
    "fig = px.line(tweets_day, x=\"date\", y=\"total\", title='Dynamics of the number of Tweets that mention ChatGPT and converstions',\n",
    "                labels=dict(date=\"Date\", total=\"Number of Tweets per day\"),template=\"plotly_white\",\n",
    "                 width=800, height=600)\n",
    "\n",
    "fig.show()"
   ]
  },
  {
   "cell_type": "code",
   "execution_count": null,
   "metadata": {},
   "outputs": [],
   "source": [
    "data = data.sort_values(\"date\",ascending=True)\n",
    "unique_users = data.loc[:,[\"author_id\",\"date\"]].groupby([\"author_id\"]).first().reset_index()\n",
    "\n",
    "print(unique_users.shape)\n",
    "unique_users['total'] = 1\n",
    "unique_users = unique_users.loc[:,[\"total\",\"date\"]].groupby(\"date\").sum().reset_index()\n",
    "len(data.author_id.unique())"
   ]
  },
  {
   "cell_type": "code",
   "execution_count": null,
   "metadata": {},
   "outputs": [],
   "source": [
    "unique_users[\"Line color\"] = \"Unique users\" \n",
    "tweets_day['Line color'] = \"Tweets\"\n",
    "df = pd.concat([unique_users,tweets_day],axis=0)\n",
    "df.to_excel(\"../analysis/unique_users_tweets.xlsx\")"
   ]
  },
  {
   "cell_type": "code",
   "execution_count": null,
   "metadata": {},
   "outputs": [],
   "source": [
    "fig = px.line(df, x=\"date\", y=\"total\", title='Dynamics of the number of unique users/ Tweets',color=\"Line color\",\n",
    "                labels=dict(date=\"Date\", total=\"Number of unique users/Tweets per day\"),template=\"plotly_white\",\n",
    "                 width=800, height=600)\n",
    "\n",
    "fig.show()"
   ]
  },
  {
   "attachments": {},
   "cell_type": "markdown",
   "metadata": {},
   "source": [
    "### 2. Geolocation"
   ]
  },
  {
   "cell_type": "code",
   "execution_count": null,
   "metadata": {},
   "outputs": [],
   "source": [
    "geo = data.loc[~data['geo.place_id'].isnull(),['created_at','id','lang','geo.place_id', 'geo.coordinates.type','geo.coordinates.coordinates']]\n",
    "geo.shape"
   ]
  },
  {
   "cell_type": "code",
   "execution_count": null,
   "metadata": {},
   "outputs": [],
   "source": [
    "place_ids = geo[\"geo.place_id\"].unique()\n",
    "len(place_ids)"
   ]
  },
  {
   "cell_type": "code",
   "execution_count": null,
   "metadata": {},
   "outputs": [],
   "source": [
    "with open(\"../data/place_ids.txt\",\"w\") as f:\n",
    "    for place_id in place_ids:\n",
    "        f.write(str(place_id))\n",
    "        f.write(\"\\n\")"
   ]
  },
  {
   "cell_type": "code",
   "execution_count": null,
   "metadata": {},
   "outputs": [],
   "source": [
    "from tqdm import tqdm\n",
    "path='../data/geo/'\n",
    "files = os.listdir(path)\n",
    "\n",
    "count=0\n",
    "for file in tqdm(files):\n",
    "    with open(path+file, 'r',encoding=\"utf-8\") as f:\n",
    "        temp = json.load(f)\n",
    "        if count==0:\n",
    "            geo = pd.json_normalize(temp)\n",
    "            count+=1\n",
    "        else:\n",
    "            df = pd.json_normalize(temp)\n",
    "            geo = pd.concat([geo,df],axis=0)\n",
    "geo = geo.reset_index(drop=True)\n",
    "geo.to_json(\"../data/for_analysis/geo.json\")"
   ]
  },
  {
   "cell_type": "code",
   "execution_count": null,
   "metadata": {},
   "outputs": [],
   "source": [
    "geo=pd.read_json(\"../data/for_analysis/geo.json\")\n",
    "geo.head()"
   ]
  },
  {
   "cell_type": "code",
   "execution_count": null,
   "metadata": {},
   "outputs": [],
   "source": [
    "geo_dict = geo.loc[:,[\"id\",\"country\"]].set_index(\"id\").to_dict()\n",
    "geo_subset = data.loc[~data[\"geo.place_id\"].isnull()]\n",
    "geo_subset[\"country\"] = geo_subset[\"geo.place_id\"].replace(geo_dict[\"country\"])"
   ]
  },
  {
   "cell_type": "code",
   "execution_count": null,
   "metadata": {},
   "outputs": [],
   "source": [
    "pd.DataFrame(geo_subset.country.value_counts()).to_excel(\"../analysis/geo_no_bots.xlsx\")"
   ]
  },
  {
   "attachments": {},
   "cell_type": "markdown",
   "metadata": {},
   "source": [
    "### 3. Languages"
   ]
  },
  {
   "cell_type": "code",
   "execution_count": null,
   "metadata": {},
   "outputs": [],
   "source": [
    "langs = data.loc[:,[\"lang\",\"total\"]].groupby(\"lang\").sum().reset_index()\n",
    "langs = langs.sort_values(\"total\",ascending=False)\n",
    "langs[\"total\"] = round(langs[\"total\"]/langs[\"total\"].sum() *100,2)\n",
    "langs[\"lang\"]=langs[\"lang\"].replace({\"en\":\"English\",\"ja\":\"Japanese\",\"es\":\"Spanish\",\"fr\":\"French\",\"zh\":\"Chinese\",\n",
    "                                        \"de\":\"German\",\"ar\":\"Arabic\",\"tr\":\"Turkish\",\"ko\":\"Korean\",\"pt\":\"Portuguese\",\"nl\":\"Dutch\"})\n",
    "\n",
    "langs.to_excel(\"../analysis/langs_distribution.xlsx\")\n",
    "\n",
    "fig = px.bar(langs.iloc[[0,3,4,5,6,7,9,11,12,13],:], x='lang', y='total',text_auto=True,template=\"plotly_white\",\n",
    "                labels=dict(lang=\"Language\", total=\"Per cent of Tweets\"),\n",
    "                title = \"Top 10 languages\")\n",
    "\n",
    "fig.show()"
   ]
  },
  {
   "cell_type": "code",
   "execution_count": null,
   "metadata": {},
   "outputs": [],
   "source": [
    "jap = data.loc[data.lang == \"ja\",[\"date\",\"total\"]].groupby(\"date\").sum().reset_index()\n",
    "eng = data.loc[data.lang == \"en\",[\"date\",\"total\"]].groupby(\"date\").sum().reset_index()\n",
    "\n",
    "jap[\"Group\"] = \"Japanese\" \n",
    "eng['Group'] = \"English\"\n",
    "\n",
    "df = pd.concat([jap,eng],axis=0)\n",
    "\n",
    "fig = px.line(df, x=\"date\", y=\"total\", title='Dynamics of the number of Tweets',color=\"Group\",\n",
    "                labels=dict(date=\"Date\", total=\"Number of Tweets per day\"),template=\"plotly_white\",\n",
    "                 width=800, height=600)\n",
    "\n",
    "fig.show()"
   ]
  },
  {
   "cell_type": "code",
   "execution_count": null,
   "metadata": {},
   "outputs": [],
   "source": []
  }
 ],
 "metadata": {
  "kernelspec": {
   "display_name": "chatgpt",
   "language": "python",
   "name": "python3"
  },
  "language_info": {
   "codemirror_mode": {
    "name": "ipython",
    "version": 3
   },
   "file_extension": ".py",
   "mimetype": "text/x-python",
   "name": "python",
   "nbconvert_exporter": "python",
   "pygments_lexer": "ipython3",
   "version": "3.9.16"
  },
  "orig_nbformat": 4
 },
 "nbformat": 4,
 "nbformat_minor": 2
}

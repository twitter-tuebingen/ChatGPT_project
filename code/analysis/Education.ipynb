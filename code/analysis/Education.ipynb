{
 "cells": [
  {
   "cell_type": "code",
   "execution_count": null,
   "metadata": {},
   "outputs": [],
   "source": [
    "import pandas as pd\n",
    "import plotly.express as px\n",
    "from bertopic.vectorizers import ClassTfidfTransformer\n",
    "from bertopic import BERTopic\n",
    "from sklearn.metrics.pairwise import cosine_similarity\n",
    "from collections import Counter\n",
    "\n",
    "edu = pd.read_pickle(\"../data/for_analysis/edu_no_bots.pkl\")\n",
    "edu[\"total\"] = 1"
   ]
  },
  {
   "cell_type": "code",
   "execution_count": null,
   "metadata": {},
   "outputs": [],
   "source": [
    "edu.shape"
   ]
  },
  {
   "cell_type": "code",
   "execution_count": null,
   "metadata": {},
   "outputs": [],
   "source": [
    "edu.loc[edu.conversation_id != edu.id].shape"
   ]
  },
  {
   "cell_type": "code",
   "execution_count": null,
   "metadata": {},
   "outputs": [],
   "source": [
    "edu[\"date\"] = pd.to_datetime(edu.created_at, utc=True).dt.date"
   ]
  },
  {
   "cell_type": "code",
   "execution_count": null,
   "metadata": {},
   "outputs": [],
   "source": [
    "\n",
    "def plot_sentiment(df, title,date_column=\"date\"):\n",
    "    sent_df = df.loc[:,[date_column,\"total\",\"score\"]].groupby([date_column,\"score\"]).sum().reset_index()\n",
    "    sent_df[\"perc\"] = sent_df['total'] / sent_df.groupby(date_column)['total'].transform('sum')\n",
    "    sent_df.columns = [\"Date\",\"Sentiment\",\"Tweets per Day\",\"Percent\"]\n",
    "\n",
    "    fig = px.line(sent_df, x=\"Date\", y=\"Percent\", title=title,color=\"Sentiment\",\n",
    "                    template=\"plotly_white\", color_discrete_sequence=[ 'red','grey',\"green\"],\n",
    "                    width=800, height=600)\n",
    "    fig.show()\n",
    "\n",
    "plot_sentiment(edu,date_column = \"date\",title=\"Dynamics of sentiment (Education)\")"
   ]
  },
  {
   "cell_type": "code",
   "execution_count": null,
   "metadata": {},
   "outputs": [],
   "source": [
    "def topic_modelling(text_prep):\n",
    "    docs=list(text_prep)\n",
    "    ctfidf_model = ClassTfidfTransformer(reduce_frequent_words=True)\n",
    "    model=BERTopic(ctfidf_model=ctfidf_model,n_gram_range = (1,2),verbose=True,language='English',nr_topics=20)\n",
    "    topics=model.fit_transform(docs)\n",
    "    new_topics = model.reduce_outliers(docs,topics[0])\n",
    "    model.update_topics(docs, topics=new_topics)\n",
    "    topic_info=model.get_topic_info()\n",
    "    return model.topics_, topic_info,model"
   ]
  },
  {
   "cell_type": "code",
   "execution_count": null,
   "metadata": {},
   "outputs": [],
   "source": [
    "edu.prep = edu.prep.str.replace(\"chatgpt\",\"\")\n",
    "edu.prep"
   ]
  },
  {
   "cell_type": "code",
   "execution_count": null,
   "metadata": {},
   "outputs": [],
   "source": [
    "edu[\"topics_edu\"],topic_info,model = topic_modelling(edu[\"prep\"])\n",
    "topic_info.to_excel(\"../data/for_analysis/topics_info_edu.xlsx\")\n",
    "model.save(\"../data/for_analysis/model_edu\")\n",
    "edu.loc[:,[\"text_rt\",\"text\",\"date\",\"topics_edu\",\"sentiment\"]].sample(10000).to_excel(\"../data/for_analysis/sample_topic_edu.xlsx\")"
   ]
  },
  {
   "cell_type": "code",
   "execution_count": null,
   "metadata": {},
   "outputs": [],
   "source": [
    "edu.to_pickle(\"../data/for_analysis/edu_topics.pkl\")"
   ]
  },
  {
   "cell_type": "code",
   "execution_count": null,
   "metadata": {},
   "outputs": [],
   "source": [
    "edu_topics = {\n",
    "    \"Outliers\":[0,5,-1],\n",
    "    \"Other AI Tools for Education\":[4],\n",
    "    \"ChatGPT Used by Students to Write Essays and Cheat\":[2,15],\n",
    "    \"ChatGPT in Academia\":[6,7,8],\n",
    "    \"Ban ChatGPT in Educational Organizations or Not?\": [11,12,19],\n",
    "    \"ChatGPT Passed/Failed Exams\":[1,16],\n",
    "    \"ChatGPT Will Never Replicate Students' Papers\":[3],\n",
    "    \"Lowering the Cost of Education\":\t[10],\n",
    "    \"ChatGPT Should Be Integrated to Educationional Process\":[9,13,17],\n",
    "    \"How Teachers Could Use ChatGPT\":[18],\n",
    "    \"ChatGPT Stimulates Creativity\":[14]\n",
    "}\n",
    "topics_flipped = {}\n",
    "for key,item in edu_topics.items():\n",
    "    for i in item:\n",
    "        topics_flipped[i] = key"
   ]
  },
  {
   "cell_type": "code",
   "execution_count": null,
   "metadata": {},
   "outputs": [],
   "source": [
    "edu[\"topics_renamed\"] = edu.topics_edu.replace(topics_flipped)"
   ]
  },
  {
   "cell_type": "code",
   "execution_count": null,
   "metadata": {},
   "outputs": [],
   "source": [
    "edu[\"topics_renamed\"].value_counts()"
   ]
  },
  {
   "cell_type": "code",
   "execution_count": null,
   "metadata": {},
   "outputs": [],
   "source": [
    "topics_to_merge = list(edu_topics.values())\n",
    "model.merge_topics(list(edu[\"prep\"]), topics_to_merge)\n",
    "model.save(\"../data/for_analysis/model_edu_merged\")"
   ]
  },
  {
   "cell_type": "code",
   "execution_count": null,
   "metadata": {},
   "outputs": [],
   "source": [
    "from sklearn.metrics.pairwise import cosine_similarity\n",
    "\n",
    "topic_labels = list(edu[\"topics_renamed\"].value_counts().index)\n",
    "sim_matrix = cosine_similarity(model.topic_embeddings_)\n",
    "sim_df = pd.DataFrame(data=sim_matrix,   \n",
    "             index=topic_labels,    \n",
    "               columns=topic_labels)\n",
    "\n",
    "sim_df.to_excel(\"../analysis/edu_topics_cosine_sim_v2.xlsx\")"
   ]
  },
  {
   "cell_type": "code",
   "execution_count": null,
   "metadata": {},
   "outputs": [],
   "source": [
    "edu.loc[edu.conversation_id==edu.id].shape"
   ]
  },
  {
   "cell_type": "code",
   "execution_count": null,
   "metadata": {},
   "outputs": [],
   "source": [
    "edu.loc[edu.conversation_id!=edu.id].shape"
   ]
  },
  {
   "cell_type": "code",
   "execution_count": null,
   "metadata": {},
   "outputs": [],
   "source": [
    "edu = edu.loc[~edu.author_id.isin(bots) ]\n",
    "edu['total']=1\n",
    "volumes =edu.loc[:,[\"topics_renamed\",\"total\"]].groupby(\"topics_renamed\").sum()\n",
    "volumes = volumes.sort_values(\"total\",ascending=False).reset_index()\n",
    "volumes[\"precent\"] = volumes[\"total\"]/sum(volumes[\"total\"])*100\n",
    "volumes.to_excel(\"../analysis/volume_edu_topics_v2_no_bots.xlsx\")\n",
    "volumes"
   ]
  },
  {
   "cell_type": "code",
   "execution_count": null,
   "metadata": {},
   "outputs": [],
   "source": [
    "sent_edu = edu.loc[:,[\"topics_renamed\",\"score\",\"total\"]].groupby([\"topics_renamed\",\"score\"]).sum()\n",
    "sent_edu = sent_edu /sent_edu.groupby(level=0).sum()\n",
    "sent_edu.reset_index().to_excel(\"../analysis/sent_edu_topics_v2_no_bots.xlsx\")"
   ]
  },
  {
   "cell_type": "code",
   "execution_count": null,
   "metadata": {},
   "outputs": [],
   "source": [
    "sent_df = edu.loc[edu.topics_renamed != \"Outliers\"]\n",
    "sent_df = sent_df.loc[:,[\"date\",\"total\",\"score\"]].groupby([\"date\",\"score\"]).sum().reset_index()\n",
    "sent_df[\"perc\"] = sent_df['total'] / sent_df.groupby(\"date\")['total'].transform('sum')\n",
    "sent_df.columns = [\"Date\",\"Sentiment\",\"Tweets per Day\",\"Percent\"]\n",
    "\n",
    "sent_df.to_excel(\"../analysis/edu_sentiment_graph.xlsx\")"
   ]
  },
  {
   "cell_type": "code",
   "execution_count": null,
   "metadata": {},
   "outputs": [],
   "source": [
    "plot_sentiment(edu.loc[edu.topics_renamed != \"Outliers\"],date_column = \"date\",title=\"Dynamics of sentiment (Education)\")"
   ]
  },
  {
   "cell_type": "code",
   "execution_count": null,
   "metadata": {},
   "outputs": [],
   "source": []
  }
 ],
 "metadata": {
  "kernelspec": {
   "display_name": "chatgpt",
   "language": "python",
   "name": "python3"
  },
  "language_info": {
   "codemirror_mode": {
    "name": "ipython",
    "version": 3
   },
   "file_extension": ".py",
   "mimetype": "text/x-python",
   "name": "python",
   "nbconvert_exporter": "python",
   "pygments_lexer": "ipython3",
   "version": "3.9.16"
  },
  "orig_nbformat": 4,
  "vscode": {
   "interpreter": {
    "hash": "c498fff0e646d7d7e47743c6b62b2b1749eb16b128d528401df01971235654c5"
   }
  }
 },
 "nbformat": 4,
 "nbformat_minor": 2
}

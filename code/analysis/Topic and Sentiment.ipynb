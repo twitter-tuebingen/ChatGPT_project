{
 "cells": [
  {
   "cell_type": "code",
   "execution_count": 1,
   "metadata": {},
   "outputs": [
    {
     "name": "stderr",
     "output_type": "stream",
     "text": [
      "c:\\Users\\aAlekseeva\\.conda\\envs\\chatgpt\\lib\\site-packages\\tqdm\\auto.py:22: TqdmWarning: IProgress not found. Please update jupyter and ipywidgets. See https://ipywidgets.readthedocs.io/en/stable/user_install.html\n",
      "  from .autonotebook import tqdm as notebook_tqdm\n"
     ]
    }
   ],
   "source": [
    "import pandas as pd\n",
    "from bertopic import BERTopic\n",
    "import plotly.express as px\n",
    "from vaderSentiment.vaderSentiment import SentimentIntensityAnalyzer\n",
    "import re"
   ]
  },
  {
   "cell_type": "code",
   "execution_count": 2,
   "metadata": {},
   "outputs": [],
   "source": [
    "bots=[]\n",
    "with open(\"../data/for_analysis/bot_fake_ids_2.txt\",\"r\") as f:\n",
    "    for line in f:\n",
    "        bots.append(int(line.strip()))"
   ]
  },
  {
   "cell_type": "code",
   "execution_count": 3,
   "metadata": {},
   "outputs": [
    {
     "data": {
      "text/plain": [
       "(11408776, 36)"
      ]
     },
     "execution_count": 3,
     "metadata": {},
     "output_type": "execute_result"
    }
   ],
   "source": [
    "data = pd.read_pickle(\"../data/for_analysis/data0.pkl\")\n",
    "data = data.loc[data.lang==\"en\"]\n",
    "data = data.loc[data.text_rt != \"\"]\n",
    "data = data.loc[~data.author_id.isin(bots)]\n",
    "data.shape"
   ]
  },
  {
   "cell_type": "code",
   "execution_count": 4,
   "metadata": {},
   "outputs": [],
   "source": [
    "def remove_mentions_and_links(text):\n",
    "    new_text = []\n",
    "    for t in text.split(\" \"):\n",
    "        t = \"\" if (t.startswith('@') or t.startswith('#') ) and len(t) > 1 else t\n",
    "        new_text.append(t)\n",
    "\n",
    "    new_text = re.sub(r'http\\S+', '', \" \".join(new_text))\n",
    "    return new_text\n",
    "\n",
    "data[\"prep\"] = data.text_rt.apply(remove_mentions_and_links)\n",
    "data = data.reset_index(drop=True)"
   ]
  },
  {
   "cell_type": "code",
   "execution_count": 5,
   "metadata": {},
   "outputs": [],
   "source": [
    "analyzer = SentimentIntensityAnalyzer()\n",
    "data[\"sentiment\"] = [analyzer.polarity_scores(text) for text in data.prep]\n",
    "\n",
    "def categorize(scores_dict):\n",
    "    compound=scores_dict['compound']\n",
    "    if compound>=0.05:\n",
    "        return \"positive\"\n",
    "    elif compound <=-0.05:\n",
    "        return \"negative\"\n",
    "    elif (compound > -0.05) and(compound < 0.05):\n",
    "        return \"neutral\"\n",
    "\n",
    "data[\"score\"] = data[\"sentiment\"].apply(categorize)\n",
    "data['compound'] = [i['compound'] for i in data[\"sentiment\"]]\n",
    "\n",
    "data.to_pickle(\"../data/for_analysis/data1_no_bots.pkl\")"
   ]
  },
  {
   "attachments": {},
   "cell_type": "markdown",
   "metadata": {},
   "source": [
    "# Topic Modelling"
   ]
  },
  {
   "cell_type": "code",
   "execution_count": null,
   "metadata": {},
   "outputs": [],
   "source": [
    "data = pd.read_pickle(\"../data/for_analysis/data1_no_bots.pkl\")"
   ]
  },
  {
   "cell_type": "code",
   "execution_count": null,
   "metadata": {},
   "outputs": [],
   "source": [
    "def words_only(text):\n",
    "    regex=u\"[a-zA-Z\\.\\?!:;\\-']+\"\n",
    "    regex = re.compile(regex)\n",
    "    return \" \".join(regex.findall(text))\n",
    "\n",
    "def basic_preprocessing(texts):\n",
    "    texts = texts.str.replace(\"https:\",\"\")\n",
    "    texts = texts.str.replace(\"t.co\",\"\")\n",
    "    # remove tel and email\n",
    "    texts = texts.str.replace(\"<email>\",\"\")\n",
    "    texts = texts.str.replace(\"<tel>\",\"\")\n",
    "    texts = texts.str.replace(\"<link>\",\"\")\n",
    "    texts = [re.sub(r'anon\\d*',\"\",t) for t in texts]\n",
    "    # Remove new line characters\n",
    "    texts = [re.sub('\\s+', ' ', t) for t in texts]\n",
    "    # Remove single quotes\n",
    "    texts = [re.sub(\"\\'\", \"\", sent) for sent in texts]\n",
    "    # remove some punctuation and numbers, emoji\n",
    "    texts = [words_only(t.lower()).strip() for t in texts]\n",
    "\n",
    "    return texts"
   ]
  },
  {
   "cell_type": "code",
   "execution_count": null,
   "metadata": {},
   "outputs": [],
   "source": [
    "data.prep = basic_preprocessing(data.prep)\n",
    "data.prep = data.prep.str.replace(\"chatgpt\",\"\")"
   ]
  },
  {
   "cell_type": "code",
   "execution_count": null,
   "metadata": {},
   "outputs": [],
   "source": [
    "data = data.loc[data.prep !=\"\"]\n",
    "print(\"Non-empty tweets in English: \", data.shape[0])\n",
    "\n",
    "sparking = data.loc[data.conversation_id == data.id]\n",
    "print(\"Non-conversation tweets: \", sparking.shape[0])\n",
    "\n",
    "convs = data.loc[data.conversation_id != data.id]\n",
    "print(\"Conversation tweets: \", convs.shape[0])\n",
    "\n",
    "data_no_retweets = sparking.loc[~sparking.text.str.startswith(\"RT \")]\n",
    "#print(\"Non-conversational non-retweets: \", data_no_retweets.loc[~data_no_retweets.author_id.isin(bots)].shape[0])\n",
    "print(\"Non-conversation non-retweets: \", data_no_retweets.shape[0])\n",
    "\n",
    "retweets = sparking.loc[sparking.text.str.startswith(\"RT \")]\n",
    "#print(\"Non-conversational retweets: \", retweets.loc[~retweets.author_id.isin(bots)].shape[0])\n",
    "print(\"Non-conversation retweets: \", retweets.shape[0])"
   ]
  },
  {
   "cell_type": "code",
   "execution_count": null,
   "metadata": {},
   "outputs": [],
   "source": [
    "from bertopic.vectorizers import ClassTfidfTransformer\n",
    "from flair.embeddings import TransformerDocumentEmbeddings\n",
    "\n",
    "\n",
    "def topic_modelling(text_prep):\n",
    "    docs=list(text_prep)\n",
    "    ctfidf_model = ClassTfidfTransformer(reduce_frequent_words=True)\n",
    "    #roberta = TransformerDocumentEmbeddings(\"cardiffnlp/twitter-roberta-base-sep2022\")\n",
    "    #model=BERTopic(embedding_model=roberta,ctfidf_model=ctfidf_model,n_gram_range = (1,2),verbose=True,language='English',low_memory=True,min_topic_size=100)\n",
    "    model=BERTopic(ctfidf_model=ctfidf_model,n_gram_range = (1,2),verbose=True,language='English',low_memory=True,min_topic_size=500)\n",
    "    topics=model.fit_transform(docs)\n",
    "    new_topics = model.reduce_outliers(docs,topics[0])\n",
    "    model.update_topics(docs, topics=new_topics)\n",
    "    topic_info=model.get_topic_info()\n",
    "    return model.topics_, topic_info,model"
   ]
  },
  {
   "cell_type": "code",
   "execution_count": null,
   "metadata": {},
   "outputs": [],
   "source": [
    "data_no_retweets[\"topics\"],topic_info,model = topic_modelling(data_no_retweets[\"prep\"])"
   ]
  },
  {
   "cell_type": "code",
   "execution_count": null,
   "metadata": {},
   "outputs": [],
   "source": [
    "data_no_retweets.to_pickle(\"../data/for_analysis/topics.pkl\")\n",
    "topic_info.to_excel(\"../data/for_analysis/topic_info_bert_sparking.xlsx\")\n",
    "data_no_retweets.loc[:,[\"text_rt\",\"text\",\"date\",\"topics\",\"sentiment\"]].sample(10000).to_excel(\"../data/for_analysis/sample_topic_bert_sparking.xlsx\")\n",
    "model.save(\"../data/for_analysis/model_bertopic_sparking_2\")"
   ]
  },
  {
   "cell_type": "code",
   "execution_count": null,
   "metadata": {},
   "outputs": [],
   "source": [
    "from sklearn.metrics.pairwise import cosine_similarity\n",
    "\n",
    "topic_labels = model.topic_labels_.values()\n",
    "sim_matrix = cosine_similarity(model.topic_embeddings_)\n",
    "sim_df = pd.DataFrame(data=sim_matrix,   \n",
    "             index=topic_labels,    \n",
    "               columns=topic_labels)\n",
    "\n",
    "sim_df.to_excel(\"../analysis/topics_cosine_sim.xlsx\")"
   ]
  },
  {
   "attachments": {},
   "cell_type": "markdown",
   "metadata": {},
   "source": [
    "### Extrapolation on the non-conversational retweets only"
   ]
  },
  {
   "cell_type": "code",
   "execution_count": null,
   "metadata": {},
   "outputs": [],
   "source": [
    "data_no_retweets = pd.read_pickle(\"../data/for_analysis/topics.pkl\")"
   ]
  },
  {
   "cell_type": "code",
   "execution_count": null,
   "metadata": {},
   "outputs": [],
   "source": [
    "data_no_retweets = data_no_retweets.loc[~data_no_retweets.author_id.isin(bots)]\n",
    "data_no_retweets=data_no_retweets.reset_index(drop=True)\n",
    "print(data_no_retweets.shape)\n",
    "data_no_retweets = data_no_retweets.drop_duplicates(subset = [\"text_rt\"])"
   ]
  },
  {
   "cell_type": "code",
   "execution_count": null,
   "metadata": {},
   "outputs": [],
   "source": [
    "retweets = retweets.loc[~retweets.author_id.isin(bots)]\n",
    "retweets=retweets.reset_index(drop=True)\n",
    "retweets.shape"
   ]
  },
  {
   "cell_type": "code",
   "execution_count": null,
   "metadata": {},
   "outputs": [],
   "source": [
    "merged = pd.merge(retweets,data_no_retweets.loc[:,[\"text_rt\",\"topics\"]],left_on=\"text_rt\",right_on = \"text_rt\",how='left')\n",
    "merged.shape"
   ]
  },
  {
   "cell_type": "code",
   "execution_count": null,
   "metadata": {},
   "outputs": [],
   "source": [
    "sum(merged.topics.isnull())"
   ]
  },
  {
   "cell_type": "code",
   "execution_count": null,
   "metadata": {},
   "outputs": [],
   "source": [
    "retweets_found = merged.loc[~merged.topics.isnull()].copy()\n",
    "retweets_not_found = merged.loc[merged.topics.isnull()].copy()"
   ]
  },
  {
   "cell_type": "code",
   "execution_count": null,
   "metadata": {},
   "outputs": [],
   "source": [
    "topics,_ = model.transform(retweets_not_found.prep.to_list())"
   ]
  },
  {
   "cell_type": "code",
   "execution_count": null,
   "metadata": {},
   "outputs": [],
   "source": [
    "retweets_not_found[\"topics\"] = topics\n",
    "retweets = pd.concat([retweets_found,retweets_not_found],axis=0)\n",
    "retweets.shape"
   ]
  },
  {
   "attachments": {},
   "cell_type": "markdown",
   "metadata": {},
   "source": [
    "## Merging topics and datasets"
   ]
  },
  {
   "cell_type": "code",
   "execution_count": null,
   "metadata": {},
   "outputs": [],
   "source": [
    "data_no_retweets = pd.read_pickle(\"../data/for_analysis/topics.pkl\")\n",
    "data_no_retweets = data_no_retweets.loc[~data_no_retweets.author_id.isin(bots)]\n",
    "data_all = pd.concat([retweets,data_no_retweets],axis=0)\n",
    "data_all.shape"
   ]
  },
  {
   "cell_type": "code",
   "execution_count": null,
   "metadata": {},
   "outputs": [],
   "source": [
    "topics ={\n",
    "    \"AI in general\":[1,7,15,22,74,78,84],\n",
    "    \"Impact on search engines\":\t[2,25,60,63,70,75,87,119],\n",
    "    \"Education\":[4,6,31,34,44,45,73,77,82,102,122],\n",
    "    \"Impact on art (poems and lyrics, movies,books)\":\t[94,80,9,10,19,37],\n",
    "    \"Openai and its Investors and products (Microsoft, Musk)\":\t[127,114,97,90,59,3,17,40,50],\n",
    "    \"Cybersecurity (writing malware)\":\t[12,30],\n",
    "    \"Programming\":\t[16,57,67,111,128],\n",
    "    \"Digital content generation(podcasts,youtube scripts,quizzes)\":[85,81,38,39,43,54],\n",
    "    \"Access and price\":\t[14,23,55,65,66,104,108,110,117],\n",
    "    \"Business routine\":\t[18,79,89,103,115],\n",
    "    \"Social events on ChatGPT, discussion on media\": [56,64],\n",
    "    \"Politics\":\t[5],\n",
    "    \"Recipes\":\t[20],\n",
    "    \"Legal issues\":\t[35,72],\n",
    "    \"Calculator, math\":\t[32],\n",
    "    \"Job loss\":\t[29],\n",
    "    \"ChatGPT's competitors\":[126],\n",
    "    \"LLM technology\":\t[21,24,51,52,58,76,95,105,125],\n",
    "    \"Text to audio/voice\":[62,71],\n",
    "    \"Translation\":\t[100],\n",
    "    \"Healthcare\":\t[26,69,96],\n",
    "    \"Criticism in terms of ethics\":[68,116],\n",
    "    \"Q&A platforms\":\t[107],\n",
    "    \"Questions examples, prompt engineering\":[0,27,33,41,101,112],\n",
    "    \"Entertainment\":[42,109,113,120,123],\n",
    "    \"Robots\":[53],\n",
    "    \"Christmas\":[47],\n",
    "    \"Finance\":\t[11,13,36],\n",
    "    \"Climate change\":[86],\n",
    "    \"Religion, sermons\":[49],\n",
    "    \"Terrifying, insane\":\t[48,61,93],\n",
    "    \"Gender\"\t:[91],\t\n",
    "    \"ChatGPT on social media\": [8,106,118,121,124],\n",
    "    \"Real estate\":\t[99],\n",
    "    \"Sport\":[28],\n",
    "    \"Quantum computing\":[98],\n",
    "    \"Spam\":[13],\n",
    "    \"Making money with ChatGPT\":[88]\n",
    "}"
   ]
  },
  {
   "cell_type": "code",
   "execution_count": null,
   "metadata": {},
   "outputs": [],
   "source": [
    "topics_flipped = {}\n",
    "for key,item in topics.items():\n",
    "    for i in item:\n",
    "        topics_flipped[i] = key\n",
    "        \n",
    "data_all[\"topics_general\"] = data_all['topics'].replace(topics_flipped)\n",
    "data_all.loc[~data_all.topics_general.isin(topics.keys()),\"topics_general\"]=-1\n",
    "data_all = data_all.reset_index(drop=True)"
   ]
  },
  {
   "cell_type": "code",
   "execution_count": null,
   "metadata": {},
   "outputs": [],
   "source": [
    "data_all['total']=1\n",
    "volumes = data_all.loc[:,[\"topics_general\",\"total\"]].groupby(\"topics_general\").sum()\n",
    "volumes = volumes.sort_values(\"total\",ascending=False).reset_index()\n",
    "volumes[\"precent\"] = volumes[\"total\"]/sum(volumes[\"total\"])*100\n",
    "volumes"
   ]
  },
  {
   "cell_type": "code",
   "execution_count": null,
   "metadata": {},
   "outputs": [],
   "source": [
    "volumes.to_excel(\"../analysis/topics_volume_final_no_bots.xlsx\")\n",
    "#data_all.to_pickle(\"../data/for_analysis/data2.pkl\")\n",
    "data_all.to_pickle(\"../data/for_analysis/data2_no_bots.pkl\")"
   ]
  },
  {
   "cell_type": "code",
   "execution_count": null,
   "metadata": {},
   "outputs": [],
   "source": [
    "data[\"total\"]=1\n",
    "sent_df = data.loc[(data.topics_general !=\"Outliers\")&(data.topics_general !=\"Spam\"),[\"date\",\"total\",\"score\"]].groupby([\"date\",\"score\"]).sum().reset_index()\n",
    "sent_df[\"perc\"] = sent_df['total'] / sent_df.groupby('date')['total'].transform('sum')\n",
    "sent_df.columns = [\"Date\",\"Sentiment\",\"Tweets per Day\",\"Percent\"]\n",
    "sent_df.to_excel(\"../analysis/ALL_sentiment_graph_no_outliers.xlsx\")\n",
    "fig = px.line(sent_df, x=\"Date\", y=\"Percent\", title='Dynamics of sentiment',color=\"Sentiment\",\n",
    "                template=\"plotly_white\", color_discrete_sequence=[ 'red','grey',\"green\"],\n",
    "                 width=800, height=600)\n",
    "fig.show()"
   ]
  },
  {
   "attachments": {},
   "cell_type": "markdown",
   "metadata": {},
   "source": [
    "## + Conversations"
   ]
  },
  {
   "cell_type": "code",
   "execution_count": null,
   "metadata": {},
   "outputs": [],
   "source": [
    "conv = pd.read_pickle(\"../data/for_analysis/data1.pkl\")\n",
    "conv = conv.loc[conv.conversation_id != conv.id]\n",
    "conv = conv.loc[~conv.author_id.isin(bots)]\n",
    "conv.shape"
   ]
  },
  {
   "cell_type": "code",
   "execution_count": null,
   "metadata": {},
   "outputs": [],
   "source": [
    "from collections import Counter\n",
    "import numpy as np\n",
    "\n",
    "dict_conv_avg = {}\n",
    "conv[\"topics_general\"] = -1\n",
    "\n",
    "print(conv.shape)\n",
    "conv = conv.loc[~conv.author_id.isin(bots)]\n",
    "print(conv.shape)\n",
    "\n",
    "for topic_name in data_all.topics_general.unique():\n",
    "    conv_ids_unique = list(data_all.loc[data_all.topics_general == topic_name]['conversation_id'].unique())\n",
    "    conv.loc[conv.conversation_id.isin(conv_ids_unique) , \"topics_general\"] = topic_name\n",
    "    conv_ids_topic = conv.loc[conv.conversation_id.isin(conv_ids_unique)][\"conversation_id\"].to_list()\n",
    "    dict_conv_avg[topic_name] =np.mean(list(Counter(conv_ids_topic).values()))"
   ]
  },
  {
   "cell_type": "code",
   "execution_count": null,
   "metadata": {},
   "outputs": [],
   "source": [
    "volumes[\"average_conv\"] = volumes.topics_general.replace(dict_conv_avg)\n",
    "volumes.head()"
   ]
  },
  {
   "cell_type": "code",
   "execution_count": null,
   "metadata": {},
   "outputs": [],
   "source": [
    "volumes.to_excel(\"../analysis/topics_volume_final_no_bots.xlsx\")"
   ]
  },
  {
   "attachments": {},
   "cell_type": "markdown",
   "metadata": {},
   "source": [
    "### Sentiment Vis"
   ]
  },
  {
   "cell_type": "code",
   "execution_count": 6,
   "metadata": {},
   "outputs": [],
   "source": [
    "data_topics = pd.read_pickle(\"../data/for_analysis/data2_no_bots.pkl\")\n",
    "\n",
    "# merge topics with text in data1_no_bots"
   ]
  },
  {
   "cell_type": "code",
   "execution_count": 7,
   "metadata": {},
   "outputs": [],
   "source": [
    "spam = data_topics.loc[data_topics.topics_general==\"Spam\",\"edit_history_tweet_ids\"].to_list()\n",
    "spam = [str(spam) for spam in spam ]"
   ]
  },
  {
   "cell_type": "code",
   "execution_count": 9,
   "metadata": {},
   "outputs": [
    {
     "data": {
      "text/plain": [
       "6219"
      ]
     },
     "execution_count": 9,
     "metadata": {},
     "output_type": "execute_result"
    }
   ],
   "source": [
    "len(spam)"
   ]
  },
  {
   "cell_type": "code",
   "execution_count": 8,
   "metadata": {},
   "outputs": [
    {
     "data": {
      "text/plain": [
       "6219"
      ]
     },
     "execution_count": 8,
     "metadata": {},
     "output_type": "execute_result"
    }
   ],
   "source": [
    "spam_fake_conv_ids = data.loc[data.edit_history_tweet_ids.astype(str).isin(spam),\"conversation_id\"].to_list()\n",
    "spam_fake_conv_ids = set(spam_fake_conv_ids)\n",
    "len(spam_fake_conv_ids)"
   ]
  },
  {
   "cell_type": "code",
   "execution_count": 10,
   "metadata": {},
   "outputs": [],
   "source": [
    "with open(\"../data/spam_fake_conv_ids.txt\",\"w\") as f:\n",
    "    for conv_id in spam_fake_conv_ids:\n",
    "        f.write(str(conv_id))\n",
    "        f.write(\"\\n\")"
   ]
  },
  {
   "cell_type": "code",
   "execution_count": 11,
   "metadata": {},
   "outputs": [
    {
     "data": {
      "text/plain": [
       "(11401389, 40)"
      ]
     },
     "execution_count": 11,
     "metadata": {},
     "output_type": "execute_result"
    }
   ],
   "source": [
    "data = data.loc[~data.conversation_id.isin(spam_fake_conv_ids)]\n",
    "data.shape"
   ]
  },
  {
   "cell_type": "code",
   "execution_count": 13,
   "metadata": {},
   "outputs": [
    {
     "data": {
      "application/vnd.plotly.v1+json": {
       "config": {
        "plotlyServerURL": "https://plot.ly"
       },
       "data": [
        {
         "hovertemplate": "Sentiment=negative<br>Date=%{x}<br>Percent=%{y}<extra></extra>",
         "legendgroup": "negative",
         "line": {
          "color": "red",
          "dash": "solid"
         },
         "marker": {
          "symbol": "circle"
         },
         "mode": "lines",
         "name": "negative",
         "orientation": "v",
         "showlegend": true,
         "type": "scatter",
         "x": [
          "2022-11-30",
          "2022-12-01",
          "2022-12-02",
          "2022-12-03",
          "2022-12-04",
          "2022-12-05",
          "2022-12-06",
          "2022-12-07",
          "2022-12-08",
          "2022-12-09",
          "2022-12-10",
          "2022-12-11",
          "2022-12-12",
          "2022-12-13",
          "2022-12-14",
          "2022-12-15",
          "2022-12-16",
          "2022-12-17",
          "2022-12-18",
          "2022-12-19",
          "2022-12-20",
          "2022-12-21",
          "2022-12-22",
          "2022-12-23",
          "2022-12-24",
          "2022-12-25",
          "2022-12-26",
          "2022-12-27",
          "2022-12-28",
          "2022-12-29",
          "2022-12-30",
          "2022-12-31",
          "2023-01-01",
          "2023-01-02",
          "2023-01-03",
          "2023-01-04",
          "2023-01-05",
          "2023-01-06",
          "2023-01-07",
          "2023-01-08",
          "2023-01-09",
          "2023-01-10",
          "2023-01-11",
          "2023-01-12",
          "2023-01-13",
          "2023-01-14",
          "2023-01-15",
          "2023-01-16",
          "2023-01-17",
          "2023-01-18",
          "2023-01-19",
          "2023-01-20",
          "2023-01-21",
          "2023-01-22",
          "2023-01-23",
          "2023-01-24",
          "2023-01-25",
          "2023-01-26",
          "2023-01-27",
          "2023-01-28",
          "2023-01-29",
          "2023-01-30",
          "2023-01-31"
         ],
         "xaxis": "x",
         "y": [
          0.14765759136620063,
          0.21090181494805774,
          0.25409538621047173,
          0.26584210834020827,
          0.2298566245069378,
          0.23944998538214896,
          0.23495143816833833,
          0.25217313802178903,
          0.2558141804518616,
          0.2833293238321982,
          0.27748257606382204,
          0.2957007982495239,
          0.30651378473354346,
          0.27376348356886027,
          0.28326882257460356,
          0.2701337940006015,
          0.2987630225504418,
          0.2814061692228158,
          0.2741124877786608,
          0.2605530009880932,
          0.28455312368644853,
          0.29438100441045184,
          0.28549341315674287,
          0.26689332485022005,
          0.22887156309316978,
          0.25658889801946,
          0.2211401450626212,
          0.2409053462255561,
          0.22806084940338178,
          0.2573136152944972,
          0.27697221263952104,
          0.2557895449620802,
          0.2708830922308326,
          0.28034291129970274,
          0.29986710391708815,
          0.2695587170322611,
          0.2592562234116673,
          0.25094398993077405,
          0.25017360854597304,
          0.22665000922784254,
          0.21868131868131868,
          0.2623312006669269,
          0.2727102309066449,
          0.31899962672639043,
          0.31457888065432404,
          0.2928556228356967,
          0.26483162294250984,
          0.3009300758428216,
          0.27300649020427276,
          0.26867037545456735,
          0.2774626268019221,
          0.2634064156960856,
          0.28762791795547643,
          0.31273583496779206,
          0.29865527956758553,
          0.306295495532774,
          0.2913844291355605,
          0.30669151922131427,
          0.3019433764220259,
          0.31039644798909427,
          0.31057104315326345,
          0.28720457932485477,
          0.2734099925613687
         ],
         "yaxis": "y"
        },
        {
         "hovertemplate": "Sentiment=neutral<br>Date=%{x}<br>Percent=%{y}<extra></extra>",
         "legendgroup": "neutral",
         "line": {
          "color": "grey",
          "dash": "solid"
         },
         "marker": {
          "symbol": "circle"
         },
         "mode": "lines",
         "name": "neutral",
         "orientation": "v",
         "showlegend": true,
         "type": "scatter",
         "x": [
          "2022-11-30",
          "2022-12-01",
          "2022-12-02",
          "2022-12-03",
          "2022-12-04",
          "2022-12-05",
          "2022-12-06",
          "2022-12-07",
          "2022-12-08",
          "2022-12-09",
          "2022-12-10",
          "2022-12-11",
          "2022-12-12",
          "2022-12-13",
          "2022-12-14",
          "2022-12-15",
          "2022-12-16",
          "2022-12-17",
          "2022-12-18",
          "2022-12-19",
          "2022-12-20",
          "2022-12-21",
          "2022-12-22",
          "2022-12-23",
          "2022-12-24",
          "2022-12-25",
          "2022-12-26",
          "2022-12-27",
          "2022-12-28",
          "2022-12-29",
          "2022-12-30",
          "2022-12-31",
          "2023-01-01",
          "2023-01-02",
          "2023-01-03",
          "2023-01-04",
          "2023-01-05",
          "2023-01-06",
          "2023-01-07",
          "2023-01-08",
          "2023-01-09",
          "2023-01-10",
          "2023-01-11",
          "2023-01-12",
          "2023-01-13",
          "2023-01-14",
          "2023-01-15",
          "2023-01-16",
          "2023-01-17",
          "2023-01-18",
          "2023-01-19",
          "2023-01-20",
          "2023-01-21",
          "2023-01-22",
          "2023-01-23",
          "2023-01-24",
          "2023-01-25",
          "2023-01-26",
          "2023-01-27",
          "2023-01-28",
          "2023-01-29",
          "2023-01-30",
          "2023-01-31"
         ],
         "xaxis": "x",
         "y": [
          0.20235467255334805,
          0.23600388051255103,
          0.27287022636944874,
          0.27580696500607377,
          0.2757319200403566,
          0.2963877133367522,
          0.31854599475840545,
          0.3102580503098491,
          0.31130629971209683,
          0.30853526010601673,
          0.29071064333409635,
          0.2856760808784797,
          0.28703039524689344,
          0.29772556233798814,
          0.28798018895409333,
          0.28479308439582884,
          0.28901490175392325,
          0.29406628755241543,
          0.29532473027290035,
          0.31431851929541776,
          0.30121995327422557,
          0.2971458647017282,
          0.2897505047795208,
          0.2869611897566407,
          0.25236031334821346,
          0.2717615253611538,
          0.2682265719581311,
          0.2971859688678836,
          0.2792173273765764,
          0.2943528532862455,
          0.287104528104517,
          0.29961741603466957,
          0.28251233325337144,
          0.28636539869900485,
          0.2808218523228132,
          0.29799643360509576,
          0.28882203952491414,
          0.29712425096451145,
          0.307028560452712,
          0.32834083391303115,
          0.32274725274725274,
          0.28972945792339605,
          0.30302361996339017,
          0.28572695035460993,
          0.3038508155920097,
          0.2947708498578089,
          0.2896506211922683,
          0.2857551541967845,
          0.3045914796558027,
          0.30656503624497267,
          0.3030621551877558,
          0.2934282220757194,
          0.3068014733001234,
          0.2926892404496172,
          0.2898761860600314,
          0.30944031227478525,
          0.313089095783011,
          0.30403096819163433,
          0.30621546609630024,
          0.30409952765134746,
          0.30410850335612366,
          0.3062894286558461,
          0.30697991569551203
         ],
         "yaxis": "y"
        },
        {
         "hovertemplate": "Sentiment=positive<br>Date=%{x}<br>Percent=%{y}<extra></extra>",
         "legendgroup": "positive",
         "line": {
          "color": "green",
          "dash": "solid"
         },
         "marker": {
          "symbol": "circle"
         },
         "mode": "lines",
         "name": "positive",
         "orientation": "v",
         "showlegend": true,
         "type": "scatter",
         "x": [
          "2022-11-30",
          "2022-12-01",
          "2022-12-02",
          "2022-12-03",
          "2022-12-04",
          "2022-12-05",
          "2022-12-06",
          "2022-12-07",
          "2022-12-08",
          "2022-12-09",
          "2022-12-10",
          "2022-12-11",
          "2022-12-12",
          "2022-12-13",
          "2022-12-14",
          "2022-12-15",
          "2022-12-16",
          "2022-12-17",
          "2022-12-18",
          "2022-12-19",
          "2022-12-20",
          "2022-12-21",
          "2022-12-22",
          "2022-12-23",
          "2022-12-24",
          "2022-12-25",
          "2022-12-26",
          "2022-12-27",
          "2022-12-28",
          "2022-12-29",
          "2022-12-30",
          "2022-12-31",
          "2023-01-01",
          "2023-01-02",
          "2023-01-03",
          "2023-01-04",
          "2023-01-05",
          "2023-01-06",
          "2023-01-07",
          "2023-01-08",
          "2023-01-09",
          "2023-01-10",
          "2023-01-11",
          "2023-01-12",
          "2023-01-13",
          "2023-01-14",
          "2023-01-15",
          "2023-01-16",
          "2023-01-17",
          "2023-01-18",
          "2023-01-19",
          "2023-01-20",
          "2023-01-21",
          "2023-01-22",
          "2023-01-23",
          "2023-01-24",
          "2023-01-25",
          "2023-01-26",
          "2023-01-27",
          "2023-01-28",
          "2023-01-29",
          "2023-01-30",
          "2023-01-31"
         ],
         "xaxis": "x",
         "y": [
          0.6499877360804514,
          0.5530943045393912,
          0.47303438742007947,
          0.45835092665371796,
          0.49441145545270554,
          0.46416230128109887,
          0.4465025670732562,
          0.4375688116683618,
          0.43287951983604156,
          0.40813541606178505,
          0.4318067806020816,
          0.41862312087199643,
          0.4064558200195631,
          0.4285109540931516,
          0.4287509884713031,
          0.4450731216035697,
          0.41222207569563496,
          0.4245275432247688,
          0.43056278194843883,
          0.42512847971648904,
          0.4142269230393259,
          0.40847313088781995,
          0.4247560820637364,
          0.4461454853931393,
          0.5187681235586168,
          0.47164957661938617,
          0.5106332829792477,
          0.4619086849065603,
          0.4927218232200418,
          0.44833353141925736,
          0.435923259255962,
          0.44459303900325026,
          0.44660457451579594,
          0.43329169000129236,
          0.41931104376009865,
          0.43244484936264316,
          0.45192173706341854,
          0.4519317591047145,
          0.442797831001315,
          0.44500915685912634,
          0.4585714285714286,
          0.44793934140967706,
          0.4242661491299649,
          0.39527342291899964,
          0.38157030375366624,
          0.41237352730649435,
          0.44551775586522185,
          0.4133147699603939,
          0.42240203013992456,
          0.42476458830046,
          0.4194752180103221,
          0.443165362228195,
          0.40557060874440015,
          0.39457492458259075,
          0.41146853437238307,
          0.38426419219244073,
          0.3955264750814285,
          0.38927751258705134,
          0.39184115748167386,
          0.3855040243595583,
          0.3853204534906129,
          0.40650599201929916,
          0.41961009174311925
         ],
         "yaxis": "y"
        }
       ],
       "layout": {
        "height": 600,
        "legend": {
         "title": {
          "text": "Sentiment"
         },
         "tracegroupgap": 0
        },
        "template": {
         "data": {
          "bar": [
           {
            "error_x": {
             "color": "#2a3f5f"
            },
            "error_y": {
             "color": "#2a3f5f"
            },
            "marker": {
             "line": {
              "color": "white",
              "width": 0.5
             },
             "pattern": {
              "fillmode": "overlay",
              "size": 10,
              "solidity": 0.2
             }
            },
            "type": "bar"
           }
          ],
          "barpolar": [
           {
            "marker": {
             "line": {
              "color": "white",
              "width": 0.5
             },
             "pattern": {
              "fillmode": "overlay",
              "size": 10,
              "solidity": 0.2
             }
            },
            "type": "barpolar"
           }
          ],
          "carpet": [
           {
            "aaxis": {
             "endlinecolor": "#2a3f5f",
             "gridcolor": "#C8D4E3",
             "linecolor": "#C8D4E3",
             "minorgridcolor": "#C8D4E3",
             "startlinecolor": "#2a3f5f"
            },
            "baxis": {
             "endlinecolor": "#2a3f5f",
             "gridcolor": "#C8D4E3",
             "linecolor": "#C8D4E3",
             "minorgridcolor": "#C8D4E3",
             "startlinecolor": "#2a3f5f"
            },
            "type": "carpet"
           }
          ],
          "choropleth": [
           {
            "colorbar": {
             "outlinewidth": 0,
             "ticks": ""
            },
            "type": "choropleth"
           }
          ],
          "contour": [
           {
            "colorbar": {
             "outlinewidth": 0,
             "ticks": ""
            },
            "colorscale": [
             [
              0,
              "#0d0887"
             ],
             [
              0.1111111111111111,
              "#46039f"
             ],
             [
              0.2222222222222222,
              "#7201a8"
             ],
             [
              0.3333333333333333,
              "#9c179e"
             ],
             [
              0.4444444444444444,
              "#bd3786"
             ],
             [
              0.5555555555555556,
              "#d8576b"
             ],
             [
              0.6666666666666666,
              "#ed7953"
             ],
             [
              0.7777777777777778,
              "#fb9f3a"
             ],
             [
              0.8888888888888888,
              "#fdca26"
             ],
             [
              1,
              "#f0f921"
             ]
            ],
            "type": "contour"
           }
          ],
          "contourcarpet": [
           {
            "colorbar": {
             "outlinewidth": 0,
             "ticks": ""
            },
            "type": "contourcarpet"
           }
          ],
          "heatmap": [
           {
            "colorbar": {
             "outlinewidth": 0,
             "ticks": ""
            },
            "colorscale": [
             [
              0,
              "#0d0887"
             ],
             [
              0.1111111111111111,
              "#46039f"
             ],
             [
              0.2222222222222222,
              "#7201a8"
             ],
             [
              0.3333333333333333,
              "#9c179e"
             ],
             [
              0.4444444444444444,
              "#bd3786"
             ],
             [
              0.5555555555555556,
              "#d8576b"
             ],
             [
              0.6666666666666666,
              "#ed7953"
             ],
             [
              0.7777777777777778,
              "#fb9f3a"
             ],
             [
              0.8888888888888888,
              "#fdca26"
             ],
             [
              1,
              "#f0f921"
             ]
            ],
            "type": "heatmap"
           }
          ],
          "heatmapgl": [
           {
            "colorbar": {
             "outlinewidth": 0,
             "ticks": ""
            },
            "colorscale": [
             [
              0,
              "#0d0887"
             ],
             [
              0.1111111111111111,
              "#46039f"
             ],
             [
              0.2222222222222222,
              "#7201a8"
             ],
             [
              0.3333333333333333,
              "#9c179e"
             ],
             [
              0.4444444444444444,
              "#bd3786"
             ],
             [
              0.5555555555555556,
              "#d8576b"
             ],
             [
              0.6666666666666666,
              "#ed7953"
             ],
             [
              0.7777777777777778,
              "#fb9f3a"
             ],
             [
              0.8888888888888888,
              "#fdca26"
             ],
             [
              1,
              "#f0f921"
             ]
            ],
            "type": "heatmapgl"
           }
          ],
          "histogram": [
           {
            "marker": {
             "pattern": {
              "fillmode": "overlay",
              "size": 10,
              "solidity": 0.2
             }
            },
            "type": "histogram"
           }
          ],
          "histogram2d": [
           {
            "colorbar": {
             "outlinewidth": 0,
             "ticks": ""
            },
            "colorscale": [
             [
              0,
              "#0d0887"
             ],
             [
              0.1111111111111111,
              "#46039f"
             ],
             [
              0.2222222222222222,
              "#7201a8"
             ],
             [
              0.3333333333333333,
              "#9c179e"
             ],
             [
              0.4444444444444444,
              "#bd3786"
             ],
             [
              0.5555555555555556,
              "#d8576b"
             ],
             [
              0.6666666666666666,
              "#ed7953"
             ],
             [
              0.7777777777777778,
              "#fb9f3a"
             ],
             [
              0.8888888888888888,
              "#fdca26"
             ],
             [
              1,
              "#f0f921"
             ]
            ],
            "type": "histogram2d"
           }
          ],
          "histogram2dcontour": [
           {
            "colorbar": {
             "outlinewidth": 0,
             "ticks": ""
            },
            "colorscale": [
             [
              0,
              "#0d0887"
             ],
             [
              0.1111111111111111,
              "#46039f"
             ],
             [
              0.2222222222222222,
              "#7201a8"
             ],
             [
              0.3333333333333333,
              "#9c179e"
             ],
             [
              0.4444444444444444,
              "#bd3786"
             ],
             [
              0.5555555555555556,
              "#d8576b"
             ],
             [
              0.6666666666666666,
              "#ed7953"
             ],
             [
              0.7777777777777778,
              "#fb9f3a"
             ],
             [
              0.8888888888888888,
              "#fdca26"
             ],
             [
              1,
              "#f0f921"
             ]
            ],
            "type": "histogram2dcontour"
           }
          ],
          "mesh3d": [
           {
            "colorbar": {
             "outlinewidth": 0,
             "ticks": ""
            },
            "type": "mesh3d"
           }
          ],
          "parcoords": [
           {
            "line": {
             "colorbar": {
              "outlinewidth": 0,
              "ticks": ""
             }
            },
            "type": "parcoords"
           }
          ],
          "pie": [
           {
            "automargin": true,
            "type": "pie"
           }
          ],
          "scatter": [
           {
            "fillpattern": {
             "fillmode": "overlay",
             "size": 10,
             "solidity": 0.2
            },
            "type": "scatter"
           }
          ],
          "scatter3d": [
           {
            "line": {
             "colorbar": {
              "outlinewidth": 0,
              "ticks": ""
             }
            },
            "marker": {
             "colorbar": {
              "outlinewidth": 0,
              "ticks": ""
             }
            },
            "type": "scatter3d"
           }
          ],
          "scattercarpet": [
           {
            "marker": {
             "colorbar": {
              "outlinewidth": 0,
              "ticks": ""
             }
            },
            "type": "scattercarpet"
           }
          ],
          "scattergeo": [
           {
            "marker": {
             "colorbar": {
              "outlinewidth": 0,
              "ticks": ""
             }
            },
            "type": "scattergeo"
           }
          ],
          "scattergl": [
           {
            "marker": {
             "colorbar": {
              "outlinewidth": 0,
              "ticks": ""
             }
            },
            "type": "scattergl"
           }
          ],
          "scattermapbox": [
           {
            "marker": {
             "colorbar": {
              "outlinewidth": 0,
              "ticks": ""
             }
            },
            "type": "scattermapbox"
           }
          ],
          "scatterpolar": [
           {
            "marker": {
             "colorbar": {
              "outlinewidth": 0,
              "ticks": ""
             }
            },
            "type": "scatterpolar"
           }
          ],
          "scatterpolargl": [
           {
            "marker": {
             "colorbar": {
              "outlinewidth": 0,
              "ticks": ""
             }
            },
            "type": "scatterpolargl"
           }
          ],
          "scatterternary": [
           {
            "marker": {
             "colorbar": {
              "outlinewidth": 0,
              "ticks": ""
             }
            },
            "type": "scatterternary"
           }
          ],
          "surface": [
           {
            "colorbar": {
             "outlinewidth": 0,
             "ticks": ""
            },
            "colorscale": [
             [
              0,
              "#0d0887"
             ],
             [
              0.1111111111111111,
              "#46039f"
             ],
             [
              0.2222222222222222,
              "#7201a8"
             ],
             [
              0.3333333333333333,
              "#9c179e"
             ],
             [
              0.4444444444444444,
              "#bd3786"
             ],
             [
              0.5555555555555556,
              "#d8576b"
             ],
             [
              0.6666666666666666,
              "#ed7953"
             ],
             [
              0.7777777777777778,
              "#fb9f3a"
             ],
             [
              0.8888888888888888,
              "#fdca26"
             ],
             [
              1,
              "#f0f921"
             ]
            ],
            "type": "surface"
           }
          ],
          "table": [
           {
            "cells": {
             "fill": {
              "color": "#EBF0F8"
             },
             "line": {
              "color": "white"
             }
            },
            "header": {
             "fill": {
              "color": "#C8D4E3"
             },
             "line": {
              "color": "white"
             }
            },
            "type": "table"
           }
          ]
         },
         "layout": {
          "annotationdefaults": {
           "arrowcolor": "#2a3f5f",
           "arrowhead": 0,
           "arrowwidth": 1
          },
          "autotypenumbers": "strict",
          "coloraxis": {
           "colorbar": {
            "outlinewidth": 0,
            "ticks": ""
           }
          },
          "colorscale": {
           "diverging": [
            [
             0,
             "#8e0152"
            ],
            [
             0.1,
             "#c51b7d"
            ],
            [
             0.2,
             "#de77ae"
            ],
            [
             0.3,
             "#f1b6da"
            ],
            [
             0.4,
             "#fde0ef"
            ],
            [
             0.5,
             "#f7f7f7"
            ],
            [
             0.6,
             "#e6f5d0"
            ],
            [
             0.7,
             "#b8e186"
            ],
            [
             0.8,
             "#7fbc41"
            ],
            [
             0.9,
             "#4d9221"
            ],
            [
             1,
             "#276419"
            ]
           ],
           "sequential": [
            [
             0,
             "#0d0887"
            ],
            [
             0.1111111111111111,
             "#46039f"
            ],
            [
             0.2222222222222222,
             "#7201a8"
            ],
            [
             0.3333333333333333,
             "#9c179e"
            ],
            [
             0.4444444444444444,
             "#bd3786"
            ],
            [
             0.5555555555555556,
             "#d8576b"
            ],
            [
             0.6666666666666666,
             "#ed7953"
            ],
            [
             0.7777777777777778,
             "#fb9f3a"
            ],
            [
             0.8888888888888888,
             "#fdca26"
            ],
            [
             1,
             "#f0f921"
            ]
           ],
           "sequentialminus": [
            [
             0,
             "#0d0887"
            ],
            [
             0.1111111111111111,
             "#46039f"
            ],
            [
             0.2222222222222222,
             "#7201a8"
            ],
            [
             0.3333333333333333,
             "#9c179e"
            ],
            [
             0.4444444444444444,
             "#bd3786"
            ],
            [
             0.5555555555555556,
             "#d8576b"
            ],
            [
             0.6666666666666666,
             "#ed7953"
            ],
            [
             0.7777777777777778,
             "#fb9f3a"
            ],
            [
             0.8888888888888888,
             "#fdca26"
            ],
            [
             1,
             "#f0f921"
            ]
           ]
          },
          "colorway": [
           "#636efa",
           "#EF553B",
           "#00cc96",
           "#ab63fa",
           "#FFA15A",
           "#19d3f3",
           "#FF6692",
           "#B6E880",
           "#FF97FF",
           "#FECB52"
          ],
          "font": {
           "color": "#2a3f5f"
          },
          "geo": {
           "bgcolor": "white",
           "lakecolor": "white",
           "landcolor": "white",
           "showlakes": true,
           "showland": true,
           "subunitcolor": "#C8D4E3"
          },
          "hoverlabel": {
           "align": "left"
          },
          "hovermode": "closest",
          "mapbox": {
           "style": "light"
          },
          "paper_bgcolor": "white",
          "plot_bgcolor": "white",
          "polar": {
           "angularaxis": {
            "gridcolor": "#EBF0F8",
            "linecolor": "#EBF0F8",
            "ticks": ""
           },
           "bgcolor": "white",
           "radialaxis": {
            "gridcolor": "#EBF0F8",
            "linecolor": "#EBF0F8",
            "ticks": ""
           }
          },
          "scene": {
           "xaxis": {
            "backgroundcolor": "white",
            "gridcolor": "#DFE8F3",
            "gridwidth": 2,
            "linecolor": "#EBF0F8",
            "showbackground": true,
            "ticks": "",
            "zerolinecolor": "#EBF0F8"
           },
           "yaxis": {
            "backgroundcolor": "white",
            "gridcolor": "#DFE8F3",
            "gridwidth": 2,
            "linecolor": "#EBF0F8",
            "showbackground": true,
            "ticks": "",
            "zerolinecolor": "#EBF0F8"
           },
           "zaxis": {
            "backgroundcolor": "white",
            "gridcolor": "#DFE8F3",
            "gridwidth": 2,
            "linecolor": "#EBF0F8",
            "showbackground": true,
            "ticks": "",
            "zerolinecolor": "#EBF0F8"
           }
          },
          "shapedefaults": {
           "line": {
            "color": "#2a3f5f"
           }
          },
          "ternary": {
           "aaxis": {
            "gridcolor": "#DFE8F3",
            "linecolor": "#A2B1C6",
            "ticks": ""
           },
           "baxis": {
            "gridcolor": "#DFE8F3",
            "linecolor": "#A2B1C6",
            "ticks": ""
           },
           "bgcolor": "white",
           "caxis": {
            "gridcolor": "#DFE8F3",
            "linecolor": "#A2B1C6",
            "ticks": ""
           }
          },
          "title": {
           "x": 0.05
          },
          "xaxis": {
           "automargin": true,
           "gridcolor": "#EBF0F8",
           "linecolor": "#EBF0F8",
           "ticks": "",
           "title": {
            "standoff": 15
           },
           "zerolinecolor": "#EBF0F8",
           "zerolinewidth": 2
          },
          "yaxis": {
           "automargin": true,
           "gridcolor": "#EBF0F8",
           "linecolor": "#EBF0F8",
           "ticks": "",
           "title": {
            "standoff": 15
           },
           "zerolinecolor": "#EBF0F8",
           "zerolinewidth": 2
          }
         }
        },
        "title": {
         "text": "Dynamics of sentiment"
        },
        "width": 800,
        "xaxis": {
         "anchor": "y",
         "domain": [
          0,
          1
         ],
         "title": {
          "text": "Date"
         }
        },
        "yaxis": {
         "anchor": "x",
         "domain": [
          0,
          1
         ],
         "title": {
          "text": "Percent"
         }
        }
       }
      }
     },
     "metadata": {},
     "output_type": "display_data"
    }
   ],
   "source": [
    "data[\"total\"]=1\n",
    "sent_df = data.loc[:,[\"date\",\"total\",\"score\"]].groupby([\"date\",\"score\"]).sum().reset_index()\n",
    "sent_df[\"perc\"] = sent_df['total'] / sent_df.groupby('date')['total'].transform('sum')\n",
    "sent_df.columns = [\"Date\",\"Sentiment\",\"Tweets per Day\",\"Percent\"]\n",
    "\n",
    "sent_df.to_excel(\"../analysis/ALL_sentiment_graph.xlsx\")\n",
    "\n",
    "fig = px.line(sent_df, x=\"Date\", y=\"Percent\", title='Dynamics of sentiment',color=\"Sentiment\",\n",
    "                template=\"plotly_white\", color_discrete_sequence=[ 'red','grey',\"green\"],\n",
    "                 width=800, height=600)\n",
    "fig.show()"
   ]
  },
  {
   "attachments": {},
   "cell_type": "markdown",
   "metadata": {},
   "source": [
    "## Subset of Tweets on Education"
   ]
  },
  {
   "cell_type": "code",
   "execution_count": null,
   "metadata": {},
   "outputs": [],
   "source": [
    "edu = data_all.loc[data_all.topics_general == \"Education\"]\n",
    "edu = edu.drop([\"topics\",\"total\"],axis=1)\n",
    "\n",
    "edu[\"spark\"] = 1\n",
    "conv_edu = conv.loc[conv.topics_general == \"Education\"]\n",
    "conv_edu[\"spark\"]=0\n",
    "print(conv_edu.shape)\n",
    "edu = pd.concat([edu,conv_edu],axis=0)\n",
    "edu = edu.reset_index(drop=True)\n",
    "edu.shape"
   ]
  },
  {
   "cell_type": "code",
   "execution_count": null,
   "metadata": {},
   "outputs": [],
   "source": [
    "edu.to_pickle(\"../data/for_analysis/edu_no_bots.pkl\")"
   ]
  }
 ],
 "metadata": {
  "kernelspec": {
   "display_name": "chatgpt",
   "language": "python",
   "name": "python3"
  },
  "language_info": {
   "codemirror_mode": {
    "name": "ipython",
    "version": 3
   },
   "file_extension": ".py",
   "mimetype": "text/x-python",
   "name": "python",
   "nbconvert_exporter": "python",
   "pygments_lexer": "ipython3",
   "version": "3.9.16"
  },
  "orig_nbformat": 4,
  "vscode": {
   "interpreter": {
    "hash": "c498fff0e646d7d7e47743c6b62b2b1749eb16b128d528401df01971235654c5"
   }
  }
 },
 "nbformat": 4,
 "nbformat_minor": 2
}

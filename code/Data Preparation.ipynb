{
 "cells": [
  {
   "attachments": {},
   "cell_type": "markdown",
   "metadata": {},
   "source": [
    "In this notebook:\n",
    "\n",
    "1. Multiple datasets with main tweets collected by keyword search and corresponding conversations are concatenated. \n",
    "\n",
    "    There are 2 datasets for the tweets downloaded by keyword search (ChatGPT). 1. data_data.json is from 30 Nov 2022 to 15 Jan 2023. 2. data_31jan_data is from 15 Jan 2023 to 31 Jan 2023.\n",
    "\n",
    "    There are 3 datasets for converstations: 1. conv_data.json contains the conversation tweets from 30 Nov 2022 to 15 Jan 2023 which were replies to the sparking tweets that mentioned ChatGPT. 2. conv_extended_data.json has the conversation tweets from 30 Nov 2022 to 15 Jan 2023 which were a part of conversation where at least one reply mentioned ChatGPT (sparking tweets did not necessarily mention ChatGPT). 3. conv_31jan_data.json contains the conversations from 16 Jan 2023 to 31 Jan 2023.\n",
    "\n",
    "2. Retweets in English were augmented with full text.\n",
    "\n",
    "3. Bots detection based on the number of tweets (more than 1000) and account description.\n",
    "\n",
    "4. Data anonymization (author_id, tweet_id and mentions are replaced with random numbers).\n",
    "\n",
    "5. Exploratory analysis of the data:\n",
    "\n",
    "    - Descriptive statistics for all tweets and sparking tweets only.\n",
    "\n",
    "    - Language of tweets distribution.\n",
    "\n",
    "    - Dynamics of the number of posts per day.\n",
    "\n",
    "    - Dynamics of the number of unique users.\n",
    "\n",
    "    - Geolocation of tweets."
   ]
  },
  {
   "cell_type": "code",
   "execution_count": 5,
   "metadata": {},
   "outputs": [],
   "source": [
    "import pandas as pd\n",
    "import re\n",
    "import matplotlib.pyplot as plt\n",
    "import os\n",
    "import json\n",
    "import plotly.express as px"
   ]
  },
  {
   "cell_type": "code",
   "execution_count": 2,
   "metadata": {},
   "outputs": [],
   "source": [
    "data_15jan = pd.read_json(\"../data/for_analysis/jsons_concatenated/data_data.json\")\n",
    "conv_15jan_spark = pd.read_json(\"../data/for_analysis/jsons_concatenated/conv_data.json\")\n",
    "conv_15jan_reply = pd.read_json(\"../data/for_analysis/jsons_concatenated/conv_extended_data.json\")\n",
    "data_31jan = pd.read_json('../data/for_analysis/jsons_concatenated/data_31jan_data.json')\n",
    "conv_31jan = pd.read_json('../data/for_analysis/jsons_concatenated/conv_31jan_data.json')"
   ]
  },
  {
   "cell_type": "code",
   "execution_count": 3,
   "metadata": {},
   "outputs": [
    {
     "data": {
      "text/plain": [
       "Index(['text', 'edit_history_tweet_ids', 'referenced_tweets',\n",
       "       'possibly_sensitive', 'reply_settings', 'lang', 'id', 'created_at',\n",
       "       'conversation_id', 'author_id', 'public_metrics.retweet_count',\n",
       "       'public_metrics.reply_count', 'public_metrics.like_count',\n",
       "       'public_metrics.quote_count', 'public_metrics.impression_count',\n",
       "       'entities.annotations', 'entities.mentions', 'entities.hashtags',\n",
       "       'entities.urls', 'geo.place_id', 'geo.coordinates.type',\n",
       "       'geo.coordinates.coordinates', 'in_reply_to_user_id',\n",
       "       'attachments.media_keys', 'entities.cashtags', 'attachments.poll_ids',\n",
       "       'withheld.copyright', 'withheld.country_codes', 'withheld.scope',\n",
       "       'date'],\n",
       "      dtype='object')"
      ]
     },
     "execution_count": 3,
     "metadata": {},
     "output_type": "execute_result"
    }
   ],
   "source": [
    "def to_date(date_column,conv=False):\n",
    "    if conv:\n",
    "        return pd.to_datetime(date_column, utc=True).dt.date\n",
    "    else:\n",
    "        return pd.to_datetime(date_column).dt.date\n",
    "\n",
    "conv = pd.concat([conv_15jan_spark,conv_15jan_reply,conv_31jan,data_31jan],axis=0)\n",
    "conv=conv.reset_index(drop=True)\n",
    "data = data_15jan.copy()\n",
    "\n",
    "data['date'] = to_date(data['created_at'])\n",
    "conv['date'] = to_date(conv['created_at'],conv=True)\n",
    "\n",
    "data = pd.concat([data,conv],axis=0)\n",
    "data=data.reset_index(drop=True)\n",
    "conv_15jan_spark,conv_15jan_reply,conv_31jan,data_31jan,data_15jan = None,None,None,None,None\n",
    "\n",
    "data.columns"
   ]
  },
  {
   "attachments": {},
   "cell_type": "markdown",
   "metadata": {},
   "source": [
    "### 1. Handling retweets"
   ]
  },
  {
   "cell_type": "code",
   "execution_count": 4,
   "metadata": {},
   "outputs": [],
   "source": [
    "retweets = data.loc[(data.text.str.startswith(\"RT \")) & (~data.referenced_tweets.isnull())].copy()\n",
    "originals = data.loc[(~data.text.str.startswith(\"RT \")) | (data.referenced_tweets.isnull()),[\"id\",\"text\"]].copy()\n",
    "originals = originals.set_index(\"id\")"
   ]
  },
  {
   "cell_type": "code",
   "execution_count": 5,
   "metadata": {},
   "outputs": [
    {
     "data": {
      "text/plain": [
       "14931090"
      ]
     },
     "execution_count": 5,
     "metadata": {},
     "output_type": "execute_result"
    }
   ],
   "source": [
    "originals = originals.to_dict()['text']\n",
    "len(originals.keys())"
   ]
  },
  {
   "cell_type": "code",
   "execution_count": 6,
   "metadata": {},
   "outputs": [],
   "source": [
    "text_rt = []\n",
    "not_found = []\n",
    "repl_retw = []\n",
    "\n",
    "for r in retweets[\"referenced_tweets\"]:\n",
    "    if len(r)==1:\n",
    "        try:\n",
    "            text_rt.append(originals[int(r[0]['id'])])\n",
    "            repl_retw.append(r[0]['type'])\n",
    "            not_found.append(None)\n",
    "        except:\n",
    "            text_rt.append(None)\n",
    "            repl_retw.append(r[0]['type'])\n",
    "            not_found.append(int(r[0]['id']))\n",
    "    else:\n",
    "        try:\n",
    "            text_rt.append(originals[int(r[0]['id'])])\n",
    "            repl_retw.append(r[0]['type'])\n",
    "            not_found.append(None)\n",
    "        except:\n",
    "            text_rt.append(None)\n",
    "            repl_retw.append(r[0]['type'])\n",
    "            not_found.append(int(r[0]['id']))        "
   ]
  },
  {
   "cell_type": "code",
   "execution_count": 7,
   "metadata": {},
   "outputs": [],
   "source": [
    "retweets[\"text_rt\"] = text_rt \n",
    "retweets[\"repl_retw\"] = repl_retw\n",
    "retweets[\"not_found\"] = not_found "
   ]
  },
  {
   "cell_type": "code",
   "execution_count": 8,
   "metadata": {},
   "outputs": [
    {
     "data": {
      "text/plain": [
       "1095985"
      ]
     },
     "execution_count": 8,
     "metadata": {},
     "output_type": "execute_result"
    }
   ],
   "source": [
    "sum(~retweets.not_found.isnull())"
   ]
  },
  {
   "cell_type": "code",
   "execution_count": 9,
   "metadata": {},
   "outputs": [
    {
     "name": "stdout",
     "output_type": "stream",
     "text": [
      "769183\n",
      "70103\n"
     ]
    }
   ],
   "source": [
    "# Tweets in ENGLISH only\n",
    "missing = retweets.loc[(~retweets[\"not_found\"].isnull()) & (retweets[\"lang\"]==\"en\"), \"not_found\"].to_list()\n",
    "print(len(missing))\n",
    "missing = set(missing)\n",
    "print(len(missing))\n",
    "with open(\"../data/missing_retweets.txt\",\"w\") as f:\n",
    "    for tweet_id in missing:\n",
    "        f.write(str(int(tweet_id)))\n",
    "        f.write(\"\\n\")"
   ]
  },
  {
   "cell_type": "code",
   "execution_count": 10,
   "metadata": {},
   "outputs": [
    {
     "data": {
      "text/plain": [
       "70103"
      ]
     },
     "execution_count": 10,
     "metadata": {},
     "output_type": "execute_result"
    }
   ],
   "source": [
    "with open(\"../data/missing_retweets.txt\",\"r\") as f:\n",
    "    missing = f.readlines()\n",
    "missing = [int(k.rstrip('\\n')) for k in missing]\n",
    "len(missing)"
   ]
  },
  {
   "cell_type": "code",
   "execution_count": 12,
   "metadata": {},
   "outputs": [],
   "source": [
    "retweets = retweets.drop(\"repl_retw\",axis=1)"
   ]
  },
  {
   "attachments": {},
   "cell_type": "markdown",
   "metadata": {},
   "source": [
    "### 2. Data augmentation with missing tweets"
   ]
  },
  {
   "cell_type": "code",
   "execution_count": 27,
   "metadata": {},
   "outputs": [
    {
     "name": "stderr",
     "output_type": "stream",
     "text": [
      "100%|██████████| 24458/24458 [3:32:54<00:00,  1.91it/s]  \n"
     ]
    }
   ],
   "source": [
    "from tqdm import tqdm\n",
    "path='../data/missing_tweets/'\n",
    "files = os.listdir(path)\n",
    "\n",
    "count=0\n",
    "for file in tqdm(files):\n",
    "    with open(path+file, 'r',encoding=\"utf-8\") as f:\n",
    "        temp = json.load(f)\n",
    "        if count==0:\n",
    "            mis = pd.json_normalize(temp)\n",
    "            count+=1\n",
    "        else:\n",
    "            df = pd.json_normalize(temp)\n",
    "            mis = pd.concat([mis,df],axis=0)\n",
    "mis = mis.reset_index(drop=True)\n",
    "mis.to_json(\"../data/for_analysis/missing_retweets.json\")"
   ]
  },
  {
   "cell_type": "code",
   "execution_count": 15,
   "metadata": {},
   "outputs": [],
   "source": [
    "mis = pd.read_json(\"../data/for_analysis/missing_retweets.json\")\n",
    "mis = mis.loc[:,[\"id\",\"text\"]]\n",
    "mis.columns = [\"id\",\"text_rt\"]\n",
    "mis.id = mis.id.astype('int64')\n",
    "\n",
    "originals = data.loc[(~data.text.str.startswith(\"RT \")) | (data.referenced_tweets.isnull())].copy()\n",
    "originals[\"text_rt\"] = originals[\"text\"]\n",
    "originals[\"not_found\"] = -1\n",
    "\n",
    "retweets.loc[retweets.not_found.isnull(),\"not_found\"] = -1\n",
    "retweets.not_found = retweets.not_found.astype('int64')\n",
    "\n",
    "retweets_not_found = retweets.loc[retweets.not_found != -1].copy()\n",
    "retweets_found = retweets.loc[retweets.not_found == -1].copy()"
   ]
  },
  {
   "cell_type": "code",
   "execution_count": 16,
   "metadata": {},
   "outputs": [],
   "source": [
    "merged = pd.merge(retweets_not_found, mis, left_on = \"not_found\", right_on =\"id\", how=\"left\")"
   ]
  },
  {
   "cell_type": "code",
   "execution_count": 17,
   "metadata": {},
   "outputs": [
    {
     "data": {
      "text/plain": [
       "104329"
      ]
     },
     "execution_count": 17,
     "metadata": {},
     "output_type": "execute_result"
    }
   ],
   "source": [
    "merged[\"text_rt\"] = merged[\"text_rt_y\"]\n",
    "merged[\"id\"] = merged[\"id_x\"]\n",
    "merged=merged.drop([\"id_x\",\"id_y\",\"text_rt_y\",\"text_rt_x\"],axis=1)\n",
    "sum(~merged[\"text_rt\"].isnull())"
   ]
  },
  {
   "cell_type": "code",
   "execution_count": 18,
   "metadata": {},
   "outputs": [
    {
     "data": {
      "text/plain": [
       "991656"
      ]
     },
     "execution_count": 18,
     "metadata": {},
     "output_type": "execute_result"
    }
   ],
   "source": [
    "sum(merged[\"text_rt\"].isnull())"
   ]
  },
  {
   "cell_type": "code",
   "execution_count": 19,
   "metadata": {},
   "outputs": [
    {
     "data": {
      "text/plain": [
       "True"
      ]
     },
     "execution_count": 19,
     "metadata": {},
     "output_type": "execute_result"
    }
   ],
   "source": [
    "retweets_augm = pd.concat([retweets_found,merged],axis=0)\n",
    "retweets_augm.shape[0] == retweets.shape[0]"
   ]
  },
  {
   "cell_type": "code",
   "execution_count": 20,
   "metadata": {},
   "outputs": [
    {
     "data": {
      "text/plain": [
       "True"
      ]
     },
     "execution_count": 20,
     "metadata": {},
     "output_type": "execute_result"
    }
   ],
   "source": [
    "data_augm = pd.concat([originals, retweets],axis=0)\n",
    "data.shape[0] == data_augm.shape[0]"
   ]
  },
  {
   "cell_type": "code",
   "execution_count": 21,
   "metadata": {},
   "outputs": [
    {
     "data": {
      "text/plain": [
       "1095985"
      ]
     },
     "execution_count": 21,
     "metadata": {},
     "output_type": "execute_result"
    }
   ],
   "source": [
    "sum(data_augm.text_rt.isnull())"
   ]
  },
  {
   "cell_type": "code",
   "execution_count": 67,
   "metadata": {},
   "outputs": [],
   "source": [
    "data_augm = data_augm.reset_index(drop=True)\n",
    "data_augm.to_pickle(\"../data/for_analysis/data_augm.pkl\")"
   ]
  },
  {
   "attachments": {},
   "cell_type": "markdown",
   "metadata": {},
   "source": [
    "### 1. Bot Detection"
   ]
  },
  {
   "cell_type": "code",
   "execution_count": 6,
   "metadata": {},
   "outputs": [
    {
     "name": "stdout",
     "output_type": "stream",
     "text": [
      "(16978909, 32)\n"
     ]
    },
    {
     "data": {
      "text/plain": [
       "(16830997, 32)"
      ]
     },
     "execution_count": 6,
     "metadata": {},
     "output_type": "execute_result"
    }
   ],
   "source": [
    "data = pd.read_pickle(\"../data/for_analysis/data_augm.pkl\")\n",
    "print(data.shape)\n",
    "data = data.drop_duplicates(subset=['text','id'])\n",
    "data = data.reset_index(drop=True)\n",
    "data.shape"
   ]
  },
  {
   "cell_type": "code",
   "execution_count": 7,
   "metadata": {},
   "outputs": [
    {
     "data": {
      "text/plain": [
       "5541457"
      ]
     },
     "execution_count": 7,
     "metadata": {},
     "output_type": "execute_result"
    }
   ],
   "source": [
    "len(data.author_id.unique())"
   ]
  },
  {
   "cell_type": "code",
   "execution_count": 8,
   "metadata": {},
   "outputs": [
    {
     "data": {
      "text/plain": [
       "3850475"
      ]
     },
     "execution_count": 8,
     "metadata": {},
     "output_type": "execute_result"
    }
   ],
   "source": [
    "authors_eng = data.loc[data.lang==\"en\",\"author_id\"].unique()\n",
    "len(authors_eng)"
   ]
  },
  {
   "cell_type": "code",
   "execution_count": 9,
   "metadata": {},
   "outputs": [
    {
     "data": {
      "text/html": [
       "<div>\n",
       "<style scoped>\n",
       "    .dataframe tbody tr th:only-of-type {\n",
       "        vertical-align: middle;\n",
       "    }\n",
       "\n",
       "    .dataframe tbody tr th {\n",
       "        vertical-align: top;\n",
       "    }\n",
       "\n",
       "    .dataframe thead th {\n",
       "        text-align: right;\n",
       "    }\n",
       "</style>\n",
       "<table border=\"1\" class=\"dataframe\">\n",
       "  <thead>\n",
       "    <tr style=\"text-align: right;\">\n",
       "      <th></th>\n",
       "      <th>total</th>\n",
       "    </tr>\n",
       "    <tr>\n",
       "      <th>author_id</th>\n",
       "      <th></th>\n",
       "    </tr>\n",
       "  </thead>\n",
       "  <tbody>\n",
       "    <tr>\n",
       "      <th>1316495843621511168</th>\n",
       "      <td>9331</td>\n",
       "    </tr>\n",
       "    <tr>\n",
       "      <th>1458788154106912768</th>\n",
       "      <td>9246</td>\n",
       "    </tr>\n",
       "    <tr>\n",
       "      <th>1356588046616043520</th>\n",
       "      <td>5533</td>\n",
       "    </tr>\n",
       "    <tr>\n",
       "      <th>895814938995957760</th>\n",
       "      <td>4330</td>\n",
       "    </tr>\n",
       "    <tr>\n",
       "      <th>1167839853184258048</th>\n",
       "      <td>2453</td>\n",
       "    </tr>\n",
       "    <tr>\n",
       "      <th>19519463</th>\n",
       "      <td>2417</td>\n",
       "    </tr>\n",
       "    <tr>\n",
       "      <th>920321515077414912</th>\n",
       "      <td>2338</td>\n",
       "    </tr>\n",
       "    <tr>\n",
       "      <th>1575684749523197952</th>\n",
       "      <td>2313</td>\n",
       "    </tr>\n",
       "    <tr>\n",
       "      <th>1506967793409064960</th>\n",
       "      <td>2068</td>\n",
       "    </tr>\n",
       "    <tr>\n",
       "      <th>1560658924855894016</th>\n",
       "      <td>2032</td>\n",
       "    </tr>\n",
       "    <tr>\n",
       "      <th>954778170980528128</th>\n",
       "      <td>1836</td>\n",
       "    </tr>\n",
       "    <tr>\n",
       "      <th>135145900</th>\n",
       "      <td>1795</td>\n",
       "    </tr>\n",
       "    <tr>\n",
       "      <th>140618811</th>\n",
       "      <td>1690</td>\n",
       "    </tr>\n",
       "    <tr>\n",
       "      <th>1250873378430308352</th>\n",
       "      <td>1678</td>\n",
       "    </tr>\n",
       "    <tr>\n",
       "      <th>1561795891320725504</th>\n",
       "      <td>1664</td>\n",
       "    </tr>\n",
       "    <tr>\n",
       "      <th>1379819490695913472</th>\n",
       "      <td>1625</td>\n",
       "    </tr>\n",
       "    <tr>\n",
       "      <th>1594883649509400576</th>\n",
       "      <td>1545</td>\n",
       "    </tr>\n",
       "    <tr>\n",
       "      <th>770162927269806080</th>\n",
       "      <td>1543</td>\n",
       "    </tr>\n",
       "    <tr>\n",
       "      <th>1598922281434103808</th>\n",
       "      <td>1480</td>\n",
       "    </tr>\n",
       "    <tr>\n",
       "      <th>600934994</th>\n",
       "      <td>1436</td>\n",
       "    </tr>\n",
       "  </tbody>\n",
       "</table>\n",
       "</div>"
      ],
      "text/plain": [
       "                     total\n",
       "author_id                 \n",
       "1316495843621511168   9331\n",
       "1458788154106912768   9246\n",
       "1356588046616043520   5533\n",
       "895814938995957760    4330\n",
       "1167839853184258048   2453\n",
       "19519463              2417\n",
       "920321515077414912    2338\n",
       "1575684749523197952   2313\n",
       "1506967793409064960   2068\n",
       "1560658924855894016   2032\n",
       "954778170980528128    1836\n",
       "135145900             1795\n",
       "140618811             1690\n",
       "1250873378430308352   1678\n",
       "1561795891320725504   1664\n",
       "1379819490695913472   1625\n",
       "1594883649509400576   1545\n",
       "770162927269806080    1543\n",
       "1598922281434103808   1480\n",
       "600934994             1436"
      ]
     },
     "execution_count": 9,
     "metadata": {},
     "output_type": "execute_result"
    }
   ],
   "source": [
    "data['total']=1\n",
    "potential_bots = data.loc[:,[\"author_id\",\"total\"]].groupby(\"author_id\").sum()\n",
    "potential_bots.sort_values(\"total\",ascending=False).head(20)"
   ]
  },
  {
   "cell_type": "code",
   "execution_count": 10,
   "metadata": {},
   "outputs": [
    {
     "data": {
      "text/plain": [
       "<Axes: >"
      ]
     },
     "execution_count": 10,
     "metadata": {},
     "output_type": "execute_result"
    },
    {
     "data": {
      "image/png": "[encoded data removed]",
      "text/plain": [
       "<Figure size 640x480 with 1 Axes>"
      ]
     },
     "metadata": {},
     "output_type": "display_data"
    }
   ],
   "source": [
    "potential_bots.loc[potential_bots.total>1000].total.hist()"
   ]
  },
  {
   "cell_type": "code",
   "execution_count": 11,
   "metadata": {},
   "outputs": [
    {
     "name": "stdout",
     "output_type": "stream",
     "text": [
      "Number of accounts that tweeted more than 10 tweets:  257858\n"
     ]
    }
   ],
   "source": [
    "author_ids = potential_bots.loc[potential_bots.total>10].index.to_list()\n",
    "print(\"Number of accounts that tweeted more than 10 tweets: \", len(author_ids))\n",
    "\n",
    "with open(\"../data/potential_bots.txt\",\"w\") as f:\n",
    "    for author_id in author_ids:\n",
    "        f.write(str(int(author_id)))\n",
    "        f.write(\"\\n\")"
   ]
  },
  {
   "cell_type": "code",
   "execution_count": 3,
   "metadata": {},
   "outputs": [
    {
     "name": "stderr",
     "output_type": "stream",
     "text": [
      "100%|██████████| 1497/1497 [27:55<00:00,  1.12s/it]\n"
     ]
    }
   ],
   "source": [
    "from tqdm import tqdm\n",
    "path='../data/potential_bots/'\n",
    "files = os.listdir(path)\n",
    "\n",
    "count=0\n",
    "for file in tqdm(files):\n",
    "    with open(path+file, 'r',encoding=\"utf-8\") as f:\n",
    "        temp = json.load(f)\n",
    "        if count==0:\n",
    "            users = pd.json_normalize(temp)\n",
    "            count+=1\n",
    "        else:\n",
    "            df = pd.json_normalize(temp)\n",
    "            users = pd.concat([users,df],axis=0)\n",
    "users = users.reset_index(drop=True)\n",
    "users.to_json(\"../data/for_analysis/users.json\")"
   ]
  },
  {
   "cell_type": "code",
   "execution_count": 6,
   "metadata": {},
   "outputs": [
    {
     "data": {
      "text/plain": [
       "(101276, 139)"
      ]
     },
     "execution_count": 6,
     "metadata": {},
     "output_type": "execute_result"
    }
   ],
   "source": [
    "users.shape"
   ]
  },
  {
   "cell_type": "code",
   "execution_count": 12,
   "metadata": {},
   "outputs": [
    {
     "data": {
      "text/plain": [
       "247"
      ]
     },
     "execution_count": 12,
     "metadata": {},
     "output_type": "execute_result"
    }
   ],
   "source": [
    "users = pd.read_json(\"../data/for_analysis/users.json\")\n",
    "users[\"bot\"] = [re.findall(r\"(?<![a-zA-Z])bot\\W\",descr.lower()) for descr in users.description]\n",
    "users[\"bot\"] = [1 if lst else 0 for lst in users[\"bot\"]]\n",
    "sum(users.bot==1)"
   ]
  },
  {
   "cell_type": "code",
   "execution_count": 13,
   "metadata": {},
   "outputs": [
    {
     "data": {
      "text/plain": [
       "7"
      ]
     },
     "execution_count": 13,
     "metadata": {},
     "output_type": "execute_result"
    }
   ],
   "source": [
    "users[\"app\"] = [re.findall(r\"app(?=[^a-zA-Z])\",scr.lower()) for scr in users.screen_name]\n",
    "users[\"app\"] = [1 if lst else 0 for lst in users[\"app\"]]\n",
    "sum(users[\"app\"]==1)"
   ]
  },
  {
   "cell_type": "code",
   "execution_count": 14,
   "metadata": {},
   "outputs": [
    {
     "data": {
      "text/plain": [
       "254"
      ]
     },
     "execution_count": 14,
     "metadata": {},
     "output_type": "execute_result"
    }
   ],
   "source": [
    "users[\"bot\"] = 1*((users[\"bot\"] + users[\"app\"])>0)\n",
    "sum(users[\"bot\"]==1)"
   ]
  },
  {
   "cell_type": "code",
   "execution_count": 15,
   "metadata": {},
   "outputs": [],
   "source": [
    "bots = users.loc[users[\"bot\"]==1]\n",
    "#bots.to_json(\"../data/for_analysis/bots.json\")"
   ]
  },
  {
   "cell_type": "code",
   "execution_count": 16,
   "metadata": {},
   "outputs": [
    {
     "data": {
      "text/plain": [
       "31"
      ]
     },
     "execution_count": 16,
     "metadata": {},
     "output_type": "execute_result"
    }
   ],
   "source": [
    "bots_active = potential_bots.loc[potential_bots.total>1000].index.to_list()\n",
    "len(bots_active)"
   ]
  },
  {
   "cell_type": "code",
   "execution_count": 17,
   "metadata": {},
   "outputs": [
    {
     "data": {
      "text/plain": [
       "283"
      ]
     },
     "execution_count": 17,
     "metadata": {},
     "output_type": "execute_result"
    }
   ],
   "source": [
    "bots = set(bots_active+users.loc[users[\"bot\"]==1,\"id\"].to_list())\n",
    "len(bots)"
   ]
  },
  {
   "attachments": {},
   "cell_type": "markdown",
   "metadata": {},
   "source": [
    "### 2. Anonymization"
   ]
  },
  {
   "cell_type": "code",
   "execution_count": 19,
   "metadata": {},
   "outputs": [
    {
     "name": "stdout",
     "output_type": "stream",
     "text": [
      "The number of tweets:  16830997\n",
      "The number of unique users:  5541457\n",
      "The number of conversation ids:  2889276\n"
     ]
    }
   ],
   "source": [
    "data[\"total\"]=1\n",
    "print(\"The number of tweets: \", data.shape[0])\n",
    "print(\"The number of unique users: \", len(data.author_id.unique()))\n",
    "print(\"The number of conversation ids: \", sum(data.conversation_id.value_counts()>0))"
   ]
  },
  {
   "cell_type": "code",
   "execution_count": 30,
   "metadata": {},
   "outputs": [],
   "source": [
    "# 1.1. Twitter-assigned tweet, user, and conversation identifiers with random, numeric, and anonymous identifiers.\n",
    "ids_tweets = set(data['id'].to_list()+data[\"conversation_id\"].to_list())\n",
    "ids_authors = set(data['author_id'].to_list())\n",
    "\n",
    "replace_tweets = dict(zip(ids_tweets,range(len(ids_tweets))))\n",
    "replace_authors = dict(zip(ids_authors,range(len(ids_authors))))\n",
    "\n",
    "data['author_id_real'] = data['author_id']\n",
    "data['id_real'] = data['id']\n",
    "data[\"conversation_id_real\"] = data['conversation_id']\n",
    "\n",
    "\n",
    "data['author_id'] = [replace_authors[i] for i in data['author_id']]\n",
    "data['id'] = [replace_tweets[i] for i in data['id']]\n",
    "data[\"conversation_id\"] = [replace_tweets[i] for i in data['conversation_id']]"
   ]
  },
  {
   "cell_type": "code",
   "execution_count": 30,
   "metadata": {},
   "outputs": [
    {
     "data": {
      "text/plain": [
       "1095983"
      ]
     },
     "execution_count": 30,
     "metadata": {},
     "output_type": "execute_result"
    }
   ],
   "source": [
    "sum(data['text_rt'].isnull())"
   ]
  },
  {
   "cell_type": "code",
   "execution_count": 31,
   "metadata": {},
   "outputs": [
    {
     "data": {
      "text/plain": [
       "15735014"
      ]
     },
     "execution_count": 31,
     "metadata": {},
     "output_type": "execute_result"
    }
   ],
   "source": [
    "sum(~data.text_rt.isnull())"
   ]
  },
  {
   "cell_type": "code",
   "execution_count": 32,
   "metadata": {},
   "outputs": [],
   "source": [
    "data['text_rt'] = data['text_rt'].fillna(\"\")\n",
    "data['text'] = data['text'].fillna(\"\")"
   ]
  },
  {
   "cell_type": "code",
   "execution_count": null,
   "metadata": {},
   "outputs": [],
   "source": [
    "# 1.2. Replaced email addresses and phone numbers with placeholders (e.g., <tel> for telephone numbers). \n",
    "def replace_email_phone_links(text):\n",
    "    text = re.sub('([A-Za-z0-9._%+-]+@[A-Za-z0-9.-]+\\.[A-Za-z]{2,})', \"<email>\", text)\n",
    "    text = re.sub('(\\d{3}[-\\.\\s]??\\d{3}[-\\.\\s]??\\d{4}|\\(\\d{3}\\)\\s*\\d{3}[-\\.\\s]??\\d{4}|\\d{3}[-\\.\\s]??\\d{4})',\"<tel>\",text)\n",
    "    text = re.sub('https?://(?:[-\\w.]|(?:%[\\da-fA-F]{2}))+', \"<link>\", text)\n",
    "    return text\n",
    "\n",
    "\n",
    "data['text_rt'] = [replace_email_phone_links(t) for t in data['text_rt']]\n",
    "data['text'] = [replace_email_phone_links(t) for t in data['text']]"
   ]
  },
  {
   "cell_type": "code",
   "execution_count": null,
   "metadata": {},
   "outputs": [
    {
     "data": {
      "text/plain": [
       "387434"
      ]
     },
     "execution_count": 9,
     "metadata": {},
     "output_type": "execute_result"
    }
   ],
   "source": [
    "sum(data['text_rt'].str.contains(\"<tel>\"))"
   ]
  },
  {
   "cell_type": "code",
   "execution_count": null,
   "metadata": {},
   "outputs": [
    {
     "data": {
      "text/plain": [
       "4144"
      ]
     },
     "execution_count": 10,
     "metadata": {},
     "output_type": "execute_result"
    }
   ],
   "source": [
    "sum(data['text_rt'].str.contains(\"<email>\"))"
   ]
  },
  {
   "cell_type": "code",
   "execution_count": null,
   "metadata": {},
   "outputs": [
    {
     "data": {
      "text/plain": [
       "3056150"
      ]
     },
     "execution_count": 11,
     "metadata": {},
     "output_type": "execute_result"
    }
   ],
   "source": [
    "sum(data['text_rt'].str.contains(\"<link>\"))"
   ]
  },
  {
   "cell_type": "code",
   "execution_count": null,
   "metadata": {},
   "outputs": [],
   "source": [
    "# 1.3. Replaced all mentions of usernames in tweets with their new anonymous user identifier (e.g., “@18415125”). \n",
    "unique_mentions = [re.findall(r'@\\S+', text) for text in data.text.to_list() + data.text_rt.to_list()]\n",
    "unique_mentions = set([m for ml in unique_mentions for m in ml])\n",
    "replacement = [\"anon\"+str(i) for i in range(len(unique_mentions))]\n",
    "replace_authors_name = dict(zip(unique_mentions, replacement))"
   ]
  },
  {
   "cell_type": "code",
   "execution_count": null,
   "metadata": {},
   "outputs": [
    {
     "name": "stdout",
     "output_type": "stream",
     "text": [
      "text is finished\n"
     ]
    }
   ],
   "source": [
    "def replace_authors(text):\n",
    "    mentions = re.findall(r'@\\S+', text)\n",
    "    if mentions:\n",
    "        for mention in mentions:\n",
    "            text = text.replace(mention,replace_authors_name[mention])\n",
    "        return text\n",
    "    else:\n",
    "        return text\n",
    "\n",
    "data['text'] = [replace_authors(t) for t in data['text']]\n",
    "print(\"text is finished\")\n",
    "data['text_rt'] = [replace_authors(t) for t in data['text_rt']]"
   ]
  },
  {
   "cell_type": "code",
   "execution_count": null,
   "metadata": {},
   "outputs": [
    {
     "data": {
      "text/plain": [
       "0           Does anyone who is using ChatGPT either native...\n",
       "1           What exactly is ChatGPT? Is it the tech world’...\n",
       "2           anon1345445 Maybe some more PR is necessary. R...\n",
       "3           ChatGPT: qué es, cómo usarlo y qué puedes hace...\n",
       "4           anon1051389 Anyone got any kind words for the ...\n",
       "                                  ...                        \n",
       "16830992    RT anon1094219 I've probably been the only per...\n",
       "16830993    RT anon919373 Everyone is talking about ChatGP...\n",
       "16830994    RT anon28316 ChatGPT isn’t the only AI-powered...\n",
       "16830995    RT anon1032846 Voilà : premier gros soupçon d'...\n",
       "16830996    RT anon28316 ChatGPT isn’t the only AI-powered...\n",
       "Name: text, Length: 16830997, dtype: object"
      ]
     },
     "execution_count": 14,
     "metadata": {},
     "output_type": "execute_result"
    }
   ],
   "source": [
    "data.text"
   ]
  },
  {
   "cell_type": "code",
   "execution_count": 31,
   "metadata": {},
   "outputs": [],
   "source": [
    "bot_fake_ids = set(data.loc[data.author_id_real.isin(bots),\"author_id\"].to_list())\n",
    "with open(\"../data/for_analysis/bot_fake_ids.txt\",\"w\") as f:\n",
    "    for i in bot_fake_ids:\n",
    "          f.write(str(i)+\"\\n\")"
   ]
  },
  {
   "cell_type": "code",
   "execution_count": 32,
   "metadata": {},
   "outputs": [
    {
     "data": {
      "text/plain": [
       "80389"
      ]
     },
     "execution_count": 32,
     "metadata": {},
     "output_type": "execute_result"
    }
   ],
   "source": [
    "len(data.loc[data.author_id_real.isin(bots),\"author_id\"])"
   ]
  },
  {
   "cell_type": "code",
   "execution_count": 15,
   "metadata": {},
   "outputs": [],
   "source": [
    "data.to_pickle(\"../data/for_analysis/data0.pkl\")"
   ]
  },
  {
   "attachments": {},
   "cell_type": "markdown",
   "metadata": {},
   "source": [
    "### Exploratory analysis"
   ]
  },
  {
   "cell_type": "code",
   "execution_count": 36,
   "metadata": {},
   "outputs": [],
   "source": [
    "data = pd.read_pickle(\"../data/for_analysis/data0.pkl\")"
   ]
  },
  {
   "attachments": {},
   "cell_type": "markdown",
   "metadata": {},
   "source": [
    " Median, mean, SD, quartiles of likes, replies, retweets, etc. of sparking tweets (i.e., first tweet in conversation or Median, mean, SD, halflife of lengths of conversations etc. Just to get an idea of our data."
   ]
  },
  {
   "cell_type": "code",
   "execution_count": null,
   "metadata": {},
   "outputs": [
    {
     "name": "stdout",
     "output_type": "stream",
     "text": [
      "16830997\n"
     ]
    },
    {
     "data": {
      "text/html": [
       "<div>\n",
       "<style scoped>\n",
       "    .dataframe tbody tr th:only-of-type {\n",
       "        vertical-align: middle;\n",
       "    }\n",
       "\n",
       "    .dataframe tbody tr th {\n",
       "        vertical-align: top;\n",
       "    }\n",
       "\n",
       "    .dataframe thead th {\n",
       "        text-align: right;\n",
       "    }\n",
       "</style>\n",
       "<table border=\"1\" class=\"dataframe\">\n",
       "  <thead>\n",
       "    <tr style=\"text-align: right;\">\n",
       "      <th></th>\n",
       "      <th>public_metrics.retweet_count</th>\n",
       "      <th>public_metrics.reply_count</th>\n",
       "      <th>public_metrics.like_count</th>\n",
       "      <th>public_metrics.quote_count</th>\n",
       "    </tr>\n",
       "  </thead>\n",
       "  <tbody>\n",
       "    <tr>\n",
       "      <th>mean</th>\n",
       "      <td>228.846</td>\n",
       "      <td>0.390</td>\n",
       "      <td>4.546</td>\n",
       "      <td>0.036</td>\n",
       "    </tr>\n",
       "    <tr>\n",
       "      <th>std</th>\n",
       "      <td>1683.774</td>\n",
       "      <td>13.726</td>\n",
       "      <td>235.851</td>\n",
       "      <td>3.440</td>\n",
       "    </tr>\n",
       "    <tr>\n",
       "      <th>min</th>\n",
       "      <td>0.000</td>\n",
       "      <td>0.000</td>\n",
       "      <td>0.000</td>\n",
       "      <td>0.000</td>\n",
       "    </tr>\n",
       "    <tr>\n",
       "      <th>25%</th>\n",
       "      <td>0.000</td>\n",
       "      <td>0.000</td>\n",
       "      <td>0.000</td>\n",
       "      <td>0.000</td>\n",
       "    </tr>\n",
       "    <tr>\n",
       "      <th>50%</th>\n",
       "      <td>0.000</td>\n",
       "      <td>0.000</td>\n",
       "      <td>0.000</td>\n",
       "      <td>0.000</td>\n",
       "    </tr>\n",
       "    <tr>\n",
       "      <th>75%</th>\n",
       "      <td>0.000</td>\n",
       "      <td>0.000</td>\n",
       "      <td>1.000</td>\n",
       "      <td>0.000</td>\n",
       "    </tr>\n",
       "    <tr>\n",
       "      <th>max</th>\n",
       "      <td>35579.000</td>\n",
       "      <td>17185.000</td>\n",
       "      <td>176848.000</td>\n",
       "      <td>4612.000</td>\n",
       "    </tr>\n",
       "  </tbody>\n",
       "</table>\n",
       "</div>"
      ],
      "text/plain": [
       "      public_metrics.retweet_count  public_metrics.reply_count  \\\n",
       "mean                       228.846                       0.390   \n",
       "std                       1683.774                      13.726   \n",
       "min                          0.000                       0.000   \n",
       "25%                          0.000                       0.000   \n",
       "50%                          0.000                       0.000   \n",
       "75%                          0.000                       0.000   \n",
       "max                      35579.000                   17185.000   \n",
       "\n",
       "      public_metrics.like_count  public_metrics.quote_count  \n",
       "mean                      4.546                       0.036  \n",
       "std                     235.851                       3.440  \n",
       "min                       0.000                       0.000  \n",
       "25%                       0.000                       0.000  \n",
       "50%                       0.000                       0.000  \n",
       "75%                       1.000                       0.000  \n",
       "max                  176848.000                    4612.000  "
      ]
     },
     "execution_count": 21,
     "metadata": {},
     "output_type": "execute_result"
    }
   ],
   "source": [
    "pub_metrics = data.loc[:,[\"public_metrics.retweet_count\",\"public_metrics.reply_count\",\"public_metrics.like_count\",\n",
    "                        \"public_metrics.quote_count\"]]\n",
    "print(pub_metrics.shape[0])                       \n",
    "round(pub_metrics.describe().iloc[1:,:],3)"
   ]
  },
  {
   "cell_type": "code",
   "execution_count": null,
   "metadata": {},
   "outputs": [
    {
     "data": {
      "text/plain": [
       "public_metrics.retweet_count    0.0\n",
       "public_metrics.reply_count      0.0\n",
       "public_metrics.like_count       0.0\n",
       "public_metrics.quote_count      0.0\n",
       "dtype: float64"
      ]
     },
     "execution_count": 13,
     "metadata": {},
     "output_type": "execute_result"
    }
   ],
   "source": [
    "data.loc[:,[\"public_metrics.retweet_count\",\"public_metrics.reply_count\",\"public_metrics.like_count\",\n",
    "                        \"public_metrics.quote_count\"]].median(axis=0)"
   ]
  },
  {
   "cell_type": "code",
   "execution_count": null,
   "metadata": {},
   "outputs": [
    {
     "name": "stdout",
     "output_type": "stream",
     "text": [
      "192240\n"
     ]
    }
   ],
   "source": [
    "sparking_tweets = data.groupby([\"conversation_id\"])[\"author_id\"].count()\n",
    "print(sum(sparking_tweets>1))\n",
    "sparking_tweets = sparking_tweets[sparking_tweets>1].index.to_list()"
   ]
  },
  {
   "cell_type": "code",
   "execution_count": null,
   "metadata": {},
   "outputs": [
    {
     "name": "stdout",
     "output_type": "stream",
     "text": [
      "(127749, 4)\n"
     ]
    },
    {
     "data": {
      "text/html": [
       "<div>\n",
       "<style scoped>\n",
       "    .dataframe tbody tr th:only-of-type {\n",
       "        vertical-align: middle;\n",
       "    }\n",
       "\n",
       "    .dataframe tbody tr th {\n",
       "        vertical-align: top;\n",
       "    }\n",
       "\n",
       "    .dataframe thead th {\n",
       "        text-align: right;\n",
       "    }\n",
       "</style>\n",
       "<table border=\"1\" class=\"dataframe\">\n",
       "  <thead>\n",
       "    <tr style=\"text-align: right;\">\n",
       "      <th></th>\n",
       "      <th>public_metrics.retweet_count</th>\n",
       "      <th>public_metrics.reply_count</th>\n",
       "      <th>public_metrics.like_count</th>\n",
       "      <th>public_metrics.quote_count</th>\n",
       "    </tr>\n",
       "  </thead>\n",
       "  <tbody>\n",
       "    <tr>\n",
       "      <th>count</th>\n",
       "      <td>127749.000</td>\n",
       "      <td>127749.000</td>\n",
       "      <td>127749.000</td>\n",
       "      <td>127749.000</td>\n",
       "    </tr>\n",
       "    <tr>\n",
       "      <th>mean</th>\n",
       "      <td>14.871</td>\n",
       "      <td>6.463</td>\n",
       "      <td>75.480</td>\n",
       "      <td>1.679</td>\n",
       "    </tr>\n",
       "    <tr>\n",
       "      <th>std</th>\n",
       "      <td>249.189</td>\n",
       "      <td>99.015</td>\n",
       "      <td>963.151</td>\n",
       "      <td>27.291</td>\n",
       "    </tr>\n",
       "    <tr>\n",
       "      <th>min</th>\n",
       "      <td>0.000</td>\n",
       "      <td>0.000</td>\n",
       "      <td>0.000</td>\n",
       "      <td>0.000</td>\n",
       "    </tr>\n",
       "    <tr>\n",
       "      <th>25%</th>\n",
       "      <td>0.000</td>\n",
       "      <td>1.000</td>\n",
       "      <td>1.000</td>\n",
       "      <td>0.000</td>\n",
       "    </tr>\n",
       "    <tr>\n",
       "      <th>50%</th>\n",
       "      <td>0.000</td>\n",
       "      <td>1.000</td>\n",
       "      <td>4.000</td>\n",
       "      <td>0.000</td>\n",
       "    </tr>\n",
       "    <tr>\n",
       "      <th>75%</th>\n",
       "      <td>2.000</td>\n",
       "      <td>3.000</td>\n",
       "      <td>16.000</td>\n",
       "      <td>0.000</td>\n",
       "    </tr>\n",
       "    <tr>\n",
       "      <th>max</th>\n",
       "      <td>35570.000</td>\n",
       "      <td>17185.000</td>\n",
       "      <td>159790.000</td>\n",
       "      <td>4612.000</td>\n",
       "    </tr>\n",
       "  </tbody>\n",
       "</table>\n",
       "</div>"
      ],
      "text/plain": [
       "       public_metrics.retweet_count  public_metrics.reply_count  \\\n",
       "count                    127749.000                  127749.000   \n",
       "mean                         14.871                       6.463   \n",
       "std                         249.189                      99.015   \n",
       "min                           0.000                       0.000   \n",
       "25%                           0.000                       1.000   \n",
       "50%                           0.000                       1.000   \n",
       "75%                           2.000                       3.000   \n",
       "max                       35570.000                   17185.000   \n",
       "\n",
       "       public_metrics.like_count  public_metrics.quote_count  \n",
       "count                 127749.000                  127749.000  \n",
       "mean                      75.480                       1.679  \n",
       "std                      963.151                      27.291  \n",
       "min                        0.000                       0.000  \n",
       "25%                        1.000                       0.000  \n",
       "50%                        4.000                       0.000  \n",
       "75%                       16.000                       0.000  \n",
       "max                   159790.000                    4612.000  "
      ]
     },
     "execution_count": 23,
     "metadata": {},
     "output_type": "execute_result"
    }
   ],
   "source": [
    "#sparking = data.loc[(data.id == data.conversation_id) & (data['public_metrics.reply_count']>0)]\n",
    "#sparking_tweets = sparking.groupby(\"conversation_id\")[\"author_id\"]\n",
    "sparking = data.loc[data.conversation_id.isin(sparking_tweets)]\n",
    "sparking = sparking.loc[(sparking.id == sparking.conversation_id)]\n",
    "sparking = sparking.loc[:,[\"public_metrics.retweet_count\",\"public_metrics.reply_count\",\"public_metrics.like_count\",\n",
    "                        \"public_metrics.quote_count\"]]\n",
    "print(sparking.shape)\n",
    "round(sparking.describe(),3)"
   ]
  },
  {
   "cell_type": "code",
   "execution_count": null,
   "metadata": {},
   "outputs": [
    {
     "data": {
      "text/plain": [
       "public_metrics.retweet_count    0.0\n",
       "public_metrics.reply_count      1.0\n",
       "public_metrics.like_count       4.0\n",
       "public_metrics.quote_count      0.0\n",
       "dtype: float64"
      ]
     },
     "execution_count": 12,
     "metadata": {},
     "output_type": "execute_result"
    }
   ],
   "source": [
    "sparking.median(axis=0)"
   ]
  },
  {
   "cell_type": "code",
   "execution_count": null,
   "metadata": {},
   "outputs": [
    {
     "data": {
      "application/vnd.plotly.v1+json": {
       "config": {
        "plotlyServerURL": "https://plot.ly"
       },
       "data": [
        {
         "hovertemplate": "Date=%{x}<br>Number of Tweets per day=%{y}<extra></extra>",
         "legendgroup": "",
         "line": {
          "color": "#636efa",
          "dash": "solid"
         },
         "marker": {
          "symbol": "circle"
         },
         "mode": "lines",
         "name": "",
         "orientation": "v",
         "showlegend": false,
         "type": "scatter",
         "x": [
          "2022-11-30",
          "2022-12-01",
          "2022-12-02",
          "2022-12-03",
          "2022-12-04",
          "2022-12-05",
          "2022-12-06",
          "2022-12-07",
          "2022-12-08",
          "2022-12-09",
          "2022-12-10",
          "2022-12-11",
          "2022-12-12",
          "2022-12-13",
          "2022-12-14",
          "2022-12-15",
          "2022-12-16",
          "2022-12-17",
          "2022-12-18",
          "2022-12-19",
          "2022-12-20",
          "2022-12-21",
          "2022-12-22",
          "2022-12-23",
          "2022-12-24",
          "2022-12-25",
          "2022-12-26",
          "2022-12-27",
          "2022-12-28",
          "2022-12-29",
          "2022-12-30",
          "2022-12-31",
          "2023-01-01",
          "2023-01-02",
          "2023-01-03",
          "2023-01-04",
          "2023-01-05",
          "2023-01-06",
          "2023-01-07",
          "2023-01-08",
          "2023-01-09",
          "2023-01-10",
          "2023-01-11",
          "2023-01-12",
          "2023-01-13",
          "2023-01-14",
          "2023-01-15",
          "2023-01-16",
          "2023-01-17",
          "2023-01-18",
          "2023-01-19",
          "2023-01-20",
          "2023-01-21",
          "2023-01-22",
          "2023-01-23",
          "2023-01-24",
          "2023-01-25",
          "2023-01-26",
          "2023-01-27",
          "2023-01-28",
          "2023-01-29",
          "2023-01-30",
          "2023-01-31"
         ],
         "xaxis": "x",
         "y": [
          5492,
          93322,
          196414,
          229861,
          227699,
          309412,
          305645,
          277778,
          301890,
          338901,
          292110,
          325760,
          362711,
          262069,
          317287,
          200046,
          246498,
          232915,
          229926,
          241600,
          271003,
          199815,
          206868,
          209444,
          215967,
          114376,
          130533,
          134976,
          128542,
          173440,
          233935,
          155206,
          131054,
          162292,
          156699,
          187739,
          188697,
          223095,
          212295,
          218388,
          188288,
          244640,
          284722,
          323221,
          316750,
          243371,
          180732,
          251524,
          315779,
          270610,
          279125,
          271441,
          314732,
          325557,
          426163,
          449067,
          420453,
          491101,
          530606,
          491349,
          567395,
          502994,
          489677
         ],
         "yaxis": "y"
        }
       ],
       "layout": {
        "height": 600,
        "legend": {
         "tracegroupgap": 0
        },
        "template": {
         "data": {
          "bar": [
           {
            "error_x": {
             "color": "#2a3f5f"
            },
            "error_y": {
             "color": "#2a3f5f"
            },
            "marker": {
             "line": {
              "color": "white",
              "width": 0.5
             },
             "pattern": {
              "fillmode": "overlay",
              "size": 10,
              "solidity": 0.2
             }
            },
            "type": "bar"
           }
          ],
          "barpolar": [
           {
            "marker": {
             "line": {
              "color": "white",
              "width": 0.5
             },
             "pattern": {
              "fillmode": "overlay",
              "size": 10,
              "solidity": 0.2
             }
            },
            "type": "barpolar"
           }
          ],
          "carpet": [
           {
            "aaxis": {
             "endlinecolor": "#2a3f5f",
             "gridcolor": "#C8D4E3",
             "linecolor": "#C8D4E3",
             "minorgridcolor": "#C8D4E3",
             "startlinecolor": "#2a3f5f"
            },
            "baxis": {
             "endlinecolor": "#2a3f5f",
             "gridcolor": "#C8D4E3",
             "linecolor": "#C8D4E3",
             "minorgridcolor": "#C8D4E3",
             "startlinecolor": "#2a3f5f"
            },
            "type": "carpet"
           }
          ],
          "choropleth": [
           {
            "colorbar": {
             "outlinewidth": 0,
             "ticks": ""
            },
            "type": "choropleth"
           }
          ],
          "contour": [
           {
            "colorbar": {
             "outlinewidth": 0,
             "ticks": ""
            },
            "colorscale": [
             [
              0,
              "#0d0887"
             ],
             [
              0.1111111111111111,
              "#46039f"
             ],
             [
              0.2222222222222222,
              "#7201a8"
             ],
             [
              0.3333333333333333,
              "#9c179e"
             ],
             [
              0.4444444444444444,
              "#bd3786"
             ],
             [
              0.5555555555555556,
              "#d8576b"
             ],
             [
              0.6666666666666666,
              "#ed7953"
             ],
             [
              0.7777777777777778,
              "#fb9f3a"
             ],
             [
              0.8888888888888888,
              "#fdca26"
             ],
             [
              1,
              "#f0f921"
             ]
            ],
            "type": "contour"
           }
          ],
          "contourcarpet": [
           {
            "colorbar": {
             "outlinewidth": 0,
             "ticks": ""
            },
            "type": "contourcarpet"
           }
          ],
          "heatmap": [
           {
            "colorbar": {
             "outlinewidth": 0,
             "ticks": ""
            },
            "colorscale": [
             [
              0,
              "#0d0887"
             ],
             [
              0.1111111111111111,
              "#46039f"
             ],
             [
              0.2222222222222222,
              "#7201a8"
             ],
             [
              0.3333333333333333,
              "#9c179e"
             ],
             [
              0.4444444444444444,
              "#bd3786"
             ],
             [
              0.5555555555555556,
              "#d8576b"
             ],
             [
              0.6666666666666666,
              "#ed7953"
             ],
             [
              0.7777777777777778,
              "#fb9f3a"
             ],
             [
              0.8888888888888888,
              "#fdca26"
             ],
             [
              1,
              "#f0f921"
             ]
            ],
            "type": "heatmap"
           }
          ],
          "heatmapgl": [
           {
            "colorbar": {
             "outlinewidth": 0,
             "ticks": ""
            },
            "colorscale": [
             [
              0,
              "#0d0887"
             ],
             [
              0.1111111111111111,
              "#46039f"
             ],
             [
              0.2222222222222222,
              "#7201a8"
             ],
             [
              0.3333333333333333,
              "#9c179e"
             ],
             [
              0.4444444444444444,
              "#bd3786"
             ],
             [
              0.5555555555555556,
              "#d8576b"
             ],
             [
              0.6666666666666666,
              "#ed7953"
             ],
             [
              0.7777777777777778,
              "#fb9f3a"
             ],
             [
              0.8888888888888888,
              "#fdca26"
             ],
             [
              1,
              "#f0f921"
             ]
            ],
            "type": "heatmapgl"
           }
          ],
          "histogram": [
           {
            "marker": {
             "pattern": {
              "fillmode": "overlay",
              "size": 10,
              "solidity": 0.2
             }
            },
            "type": "histogram"
           }
          ],
          "histogram2d": [
           {
            "colorbar": {
             "outlinewidth": 0,
             "ticks": ""
            },
            "colorscale": [
             [
              0,
              "#0d0887"
             ],
             [
              0.1111111111111111,
              "#46039f"
             ],
             [
              0.2222222222222222,
              "#7201a8"
             ],
             [
              0.3333333333333333,
              "#9c179e"
             ],
             [
              0.4444444444444444,
              "#bd3786"
             ],
             [
              0.5555555555555556,
              "#d8576b"
             ],
             [
              0.6666666666666666,
              "#ed7953"
             ],
             [
              0.7777777777777778,
              "#fb9f3a"
             ],
             [
              0.8888888888888888,
              "#fdca26"
             ],
             [
              1,
              "#f0f921"
             ]
            ],
            "type": "histogram2d"
           }
          ],
          "histogram2dcontour": [
           {
            "colorbar": {
             "outlinewidth": 0,
             "ticks": ""
            },
            "colorscale": [
             [
              0,
              "#0d0887"
             ],
             [
              0.1111111111111111,
              "#46039f"
             ],
             [
              0.2222222222222222,
              "#7201a8"
             ],
             [
              0.3333333333333333,
              "#9c179e"
             ],
             [
              0.4444444444444444,
              "#bd3786"
             ],
             [
              0.5555555555555556,
              "#d8576b"
             ],
             [
              0.6666666666666666,
              "#ed7953"
             ],
             [
              0.7777777777777778,
              "#fb9f3a"
             ],
             [
              0.8888888888888888,
              "#fdca26"
             ],
             [
              1,
              "#f0f921"
             ]
            ],
            "type": "histogram2dcontour"
           }
          ],
          "mesh3d": [
           {
            "colorbar": {
             "outlinewidth": 0,
             "ticks": ""
            },
            "type": "mesh3d"
           }
          ],
          "parcoords": [
           {
            "line": {
             "colorbar": {
              "outlinewidth": 0,
              "ticks": ""
             }
            },
            "type": "parcoords"
           }
          ],
          "pie": [
           {
            "automargin": true,
            "type": "pie"
           }
          ],
          "scatter": [
           {
            "fillpattern": {
             "fillmode": "overlay",
             "size": 10,
             "solidity": 0.2
            },
            "type": "scatter"
           }
          ],
          "scatter3d": [
           {
            "line": {
             "colorbar": {
              "outlinewidth": 0,
              "ticks": ""
             }
            },
            "marker": {
             "colorbar": {
              "outlinewidth": 0,
              "ticks": ""
             }
            },
            "type": "scatter3d"
           }
          ],
          "scattercarpet": [
           {
            "marker": {
             "colorbar": {
              "outlinewidth": 0,
              "ticks": ""
             }
            },
            "type": "scattercarpet"
           }
          ],
          "scattergeo": [
           {
            "marker": {
             "colorbar": {
              "outlinewidth": 0,
              "ticks": ""
             }
            },
            "type": "scattergeo"
           }
          ],
          "scattergl": [
           {
            "marker": {
             "colorbar": {
              "outlinewidth": 0,
              "ticks": ""
             }
            },
            "type": "scattergl"
           }
          ],
          "scattermapbox": [
           {
            "marker": {
             "colorbar": {
              "outlinewidth": 0,
              "ticks": ""
             }
            },
            "type": "scattermapbox"
           }
          ],
          "scatterpolar": [
           {
            "marker": {
             "colorbar": {
              "outlinewidth": 0,
              "ticks": ""
             }
            },
            "type": "scatterpolar"
           }
          ],
          "scatterpolargl": [
           {
            "marker": {
             "colorbar": {
              "outlinewidth": 0,
              "ticks": ""
             }
            },
            "type": "scatterpolargl"
           }
          ],
          "scatterternary": [
           {
            "marker": {
             "colorbar": {
              "outlinewidth": 0,
              "ticks": ""
             }
            },
            "type": "scatterternary"
           }
          ],
          "surface": [
           {
            "colorbar": {
             "outlinewidth": 0,
             "ticks": ""
            },
            "colorscale": [
             [
              0,
              "#0d0887"
             ],
             [
              0.1111111111111111,
              "#46039f"
             ],
             [
              0.2222222222222222,
              "#7201a8"
             ],
             [
              0.3333333333333333,
              "#9c179e"
             ],
             [
              0.4444444444444444,
              "#bd3786"
             ],
             [
              0.5555555555555556,
              "#d8576b"
             ],
             [
              0.6666666666666666,
              "#ed7953"
             ],
             [
              0.7777777777777778,
              "#fb9f3a"
             ],
             [
              0.8888888888888888,
              "#fdca26"
             ],
             [
              1,
              "#f0f921"
             ]
            ],
            "type": "surface"
           }
          ],
          "table": [
           {
            "cells": {
             "fill": {
              "color": "#EBF0F8"
             },
             "line": {
              "color": "white"
             }
            },
            "header": {
             "fill": {
              "color": "#C8D4E3"
             },
             "line": {
              "color": "white"
             }
            },
            "type": "table"
           }
          ]
         },
         "layout": {
          "annotationdefaults": {
           "arrowcolor": "#2a3f5f",
           "arrowhead": 0,
           "arrowwidth": 1
          },
          "autotypenumbers": "strict",
          "coloraxis": {
           "colorbar": {
            "outlinewidth": 0,
            "ticks": ""
           }
          },
          "colorscale": {
           "diverging": [
            [
             0,
             "#8e0152"
            ],
            [
             0.1,
             "#c51b7d"
            ],
            [
             0.2,
             "#de77ae"
            ],
            [
             0.3,
             "#f1b6da"
            ],
            [
             0.4,
             "#fde0ef"
            ],
            [
             0.5,
             "#f7f7f7"
            ],
            [
             0.6,
             "#e6f5d0"
            ],
            [
             0.7,
             "#b8e186"
            ],
            [
             0.8,
             "#7fbc41"
            ],
            [
             0.9,
             "#4d9221"
            ],
            [
             1,
             "#276419"
            ]
           ],
           "sequential": [
            [
             0,
             "#0d0887"
            ],
            [
             0.1111111111111111,
             "#46039f"
            ],
            [
             0.2222222222222222,
             "#7201a8"
            ],
            [
             0.3333333333333333,
             "#9c179e"
            ],
            [
             0.4444444444444444,
             "#bd3786"
            ],
            [
             0.5555555555555556,
             "#d8576b"
            ],
            [
             0.6666666666666666,
             "#ed7953"
            ],
            [
             0.7777777777777778,
             "#fb9f3a"
            ],
            [
             0.8888888888888888,
             "#fdca26"
            ],
            [
             1,
             "#f0f921"
            ]
           ],
           "sequentialminus": [
            [
             0,
             "#0d0887"
            ],
            [
             0.1111111111111111,
             "#46039f"
            ],
            [
             0.2222222222222222,
             "#7201a8"
            ],
            [
             0.3333333333333333,
             "#9c179e"
            ],
            [
             0.4444444444444444,
             "#bd3786"
            ],
            [
             0.5555555555555556,
             "#d8576b"
            ],
            [
             0.6666666666666666,
             "#ed7953"
            ],
            [
             0.7777777777777778,
             "#fb9f3a"
            ],
            [
             0.8888888888888888,
             "#fdca26"
            ],
            [
             1,
             "#f0f921"
            ]
           ]
          },
          "colorway": [
           "#636efa",
           "#EF553B",
           "#00cc96",
           "#ab63fa",
           "#FFA15A",
           "#19d3f3",
           "#FF6692",
           "#B6E880",
           "#FF97FF",
           "#FECB52"
          ],
          "font": {
           "color": "#2a3f5f"
          },
          "geo": {
           "bgcolor": "white",
           "lakecolor": "white",
           "landcolor": "white",
           "showlakes": true,
           "showland": true,
           "subunitcolor": "#C8D4E3"
          },
          "hoverlabel": {
           "align": "left"
          },
          "hovermode": "closest",
          "mapbox": {
           "style": "light"
          },
          "paper_bgcolor": "white",
          "plot_bgcolor": "white",
          "polar": {
           "angularaxis": {
            "gridcolor": "#EBF0F8",
            "linecolor": "#EBF0F8",
            "ticks": ""
           },
           "bgcolor": "white",
           "radialaxis": {
            "gridcolor": "#EBF0F8",
            "linecolor": "#EBF0F8",
            "ticks": ""
           }
          },
          "scene": {
           "xaxis": {
            "backgroundcolor": "white",
            "gridcolor": "#DFE8F3",
            "gridwidth": 2,
            "linecolor": "#EBF0F8",
            "showbackground": true,
            "ticks": "",
            "zerolinecolor": "#EBF0F8"
           },
           "yaxis": {
            "backgroundcolor": "white",
            "gridcolor": "#DFE8F3",
            "gridwidth": 2,
            "linecolor": "#EBF0F8",
            "showbackground": true,
            "ticks": "",
            "zerolinecolor": "#EBF0F8"
           },
           "zaxis": {
            "backgroundcolor": "white",
            "gridcolor": "#DFE8F3",
            "gridwidth": 2,
            "linecolor": "#EBF0F8",
            "showbackground": true,
            "ticks": "",
            "zerolinecolor": "#EBF0F8"
           }
          },
          "shapedefaults": {
           "line": {
            "color": "#2a3f5f"
           }
          },
          "ternary": {
           "aaxis": {
            "gridcolor": "#DFE8F3",
            "linecolor": "#A2B1C6",
            "ticks": ""
           },
           "baxis": {
            "gridcolor": "#DFE8F3",
            "linecolor": "#A2B1C6",
            "ticks": ""
           },
           "bgcolor": "white",
           "caxis": {
            "gridcolor": "#DFE8F3",
            "linecolor": "#A2B1C6",
            "ticks": ""
           }
          },
          "title": {
           "x": 0.05
          },
          "xaxis": {
           "automargin": true,
           "gridcolor": "#EBF0F8",
           "linecolor": "#EBF0F8",
           "ticks": "",
           "title": {
            "standoff": 15
           },
           "zerolinecolor": "#EBF0F8",
           "zerolinewidth": 2
          },
          "yaxis": {
           "automargin": true,
           "gridcolor": "#EBF0F8",
           "linecolor": "#EBF0F8",
           "ticks": "",
           "title": {
            "standoff": 15
           },
           "zerolinecolor": "#EBF0F8",
           "zerolinewidth": 2
          }
         }
        },
        "title": {
         "text": "Dynamics of the number of Tweets that mention ChatGPT and converstions"
        },
        "width": 800,
        "xaxis": {
         "anchor": "y",
         "domain": [
          0,
          1
         ],
         "title": {
          "text": "Date"
         }
        },
        "yaxis": {
         "anchor": "x",
         "domain": [
          0,
          1
         ],
         "title": {
          "text": "Number of Tweets per day"
         }
        }
       }
      }
     },
     "metadata": {},
     "output_type": "display_data"
    }
   ],
   "source": [
    "data[\"total\"] = 1\n",
    "tweets_day = data.loc[:,[\"date\",\"total\"]].groupby(\"date\").sum().reset_index()\n",
    "tweets_day.to_excel(\"../analysis/all_tweets_posts_dynamics.xlsx\")\n",
    "\n",
    "fig = px.line(tweets_day, x=\"date\", y=\"total\", title='Dynamics of the number of Tweets that mention ChatGPT and converstions',\n",
    "                labels=dict(date=\"Date\", total=\"Number of Tweets per day\"),template=\"plotly_white\",\n",
    "                 width=800, height=600)\n",
    "\n",
    "fig.show()"
   ]
  },
  {
   "cell_type": "code",
   "execution_count": null,
   "metadata": {},
   "outputs": [
    {
     "name": "stdout",
     "output_type": "stream",
     "text": [
      "(5541457, 2)\n"
     ]
    },
    {
     "data": {
      "text/plain": [
       "5541457"
      ]
     },
     "execution_count": 25,
     "metadata": {},
     "output_type": "execute_result"
    }
   ],
   "source": [
    "data = data.sort_values(\"date\",ascending=True)\n",
    "unique_users = data.loc[:,[\"author_id\",\"date\"]].groupby([\"author_id\"]).first().reset_index()\n",
    "\n",
    "print(unique_users.shape)\n",
    "unique_users['total'] = 1\n",
    "unique_users = unique_users.loc[:,[\"total\",\"date\"]].groupby(\"date\").sum().reset_index()\n",
    "len(data.author_id.unique())"
   ]
  },
  {
   "cell_type": "code",
   "execution_count": null,
   "metadata": {},
   "outputs": [],
   "source": [
    "unique_users[\"Line color\"] = \"Unique users\" \n",
    "tweets_day['Line color'] = \"Tweets\"\n",
    "df = pd.concat([unique_users,tweets_day],axis=0)\n",
    "df.to_excel(\"../analysis/unique_users_tweets.xlsx\")"
   ]
  },
  {
   "cell_type": "code",
   "execution_count": null,
   "metadata": {},
   "outputs": [
    {
     "data": {
      "application/vnd.plotly.v1+json": {
       "config": {
        "plotlyServerURL": "https://plot.ly"
       },
       "data": [
        {
         "hovertemplate": "Line color=Unique users<br>Date=%{x}<br>Number of unique users/Tweets per day=%{y}<extra></extra>",
         "legendgroup": "Unique users",
         "line": {
          "color": "#636efa",
          "dash": "solid"
         },
         "marker": {
          "symbol": "circle"
         },
         "mode": "lines",
         "name": "Unique users",
         "orientation": "v",
         "showlegend": true,
         "type": "scatter",
         "x": [
          "2022-11-30",
          "2022-12-01",
          "2022-12-02",
          "2022-12-03",
          "2022-12-04",
          "2022-12-05",
          "2022-12-06",
          "2022-12-07",
          "2022-12-08",
          "2022-12-09",
          "2022-12-10",
          "2022-12-11",
          "2022-12-12",
          "2022-12-13",
          "2022-12-14",
          "2022-12-15",
          "2022-12-16",
          "2022-12-17",
          "2022-12-18",
          "2022-12-19",
          "2022-12-20",
          "2022-12-21",
          "2022-12-22",
          "2022-12-23",
          "2022-12-24",
          "2022-12-25",
          "2022-12-26",
          "2022-12-27",
          "2022-12-28",
          "2022-12-29",
          "2022-12-30",
          "2022-12-31",
          "2023-01-01",
          "2023-01-02",
          "2023-01-03",
          "2023-01-04",
          "2023-01-05",
          "2023-01-06",
          "2023-01-07",
          "2023-01-08",
          "2023-01-09",
          "2023-01-10",
          "2023-01-11",
          "2023-01-12",
          "2023-01-13",
          "2023-01-14",
          "2023-01-15",
          "2023-01-16",
          "2023-01-17",
          "2023-01-18",
          "2023-01-19",
          "2023-01-20",
          "2023-01-21",
          "2023-01-22",
          "2023-01-23",
          "2023-01-24",
          "2023-01-25",
          "2023-01-26",
          "2023-01-27",
          "2023-01-28",
          "2023-01-29",
          "2023-01-30",
          "2023-01-31"
         ],
         "xaxis": "x",
         "y": [
          3794,
          60050,
          121153,
          129171,
          112206,
          151064,
          150062,
          131218,
          138237,
          147064,
          122721,
          117475,
          128278,
          86954,
          106512,
          73544,
          75005,
          75633,
          76089,
          85151,
          85809,
          58033,
          73108,
          76361,
          65501,
          38527,
          40918,
          44118,
          39145,
          63340,
          71805,
          44358,
          44502,
          50865,
          47791,
          61029,
          59566,
          68158,
          68824,
          74584,
          60519,
          80722,
          90529,
          99720,
          88386,
          65887,
          53690,
          76068,
          92701,
          82051,
          83248,
          77902,
          94153,
          94452,
          111793,
          122252,
          115132,
          130202,
          130792,
          118881,
          139859,
          139463,
          125332
         ],
         "yaxis": "y"
        },
        {
         "hovertemplate": "Line color=Tweets<br>Date=%{x}<br>Number of unique users/Tweets per day=%{y}<extra></extra>",
         "legendgroup": "Tweets",
         "line": {
          "color": "#EF553B",
          "dash": "solid"
         },
         "marker": {
          "symbol": "circle"
         },
         "mode": "lines",
         "name": "Tweets",
         "orientation": "v",
         "showlegend": true,
         "type": "scatter",
         "x": [
          "2022-11-30",
          "2022-12-01",
          "2022-12-02",
          "2022-12-03",
          "2022-12-04",
          "2022-12-05",
          "2022-12-06",
          "2022-12-07",
          "2022-12-08",
          "2022-12-09",
          "2022-12-10",
          "2022-12-11",
          "2022-12-12",
          "2022-12-13",
          "2022-12-14",
          "2022-12-15",
          "2022-12-16",
          "2022-12-17",
          "2022-12-18",
          "2022-12-19",
          "2022-12-20",
          "2022-12-21",
          "2022-12-22",
          "2022-12-23",
          "2022-12-24",
          "2022-12-25",
          "2022-12-26",
          "2022-12-27",
          "2022-12-28",
          "2022-12-29",
          "2022-12-30",
          "2022-12-31",
          "2023-01-01",
          "2023-01-02",
          "2023-01-03",
          "2023-01-04",
          "2023-01-05",
          "2023-01-06",
          "2023-01-07",
          "2023-01-08",
          "2023-01-09",
          "2023-01-10",
          "2023-01-11",
          "2023-01-12",
          "2023-01-13",
          "2023-01-14",
          "2023-01-15",
          "2023-01-16",
          "2023-01-17",
          "2023-01-18",
          "2023-01-19",
          "2023-01-20",
          "2023-01-21",
          "2023-01-22",
          "2023-01-23",
          "2023-01-24",
          "2023-01-25",
          "2023-01-26",
          "2023-01-27",
          "2023-01-28",
          "2023-01-29",
          "2023-01-30",
          "2023-01-31"
         ],
         "xaxis": "x",
         "y": [
          5492,
          93322,
          196414,
          229861,
          227699,
          309412,
          305645,
          277778,
          301890,
          338901,
          292110,
          325760,
          362711,
          262069,
          317287,
          200046,
          246498,
          232915,
          229926,
          241600,
          271003,
          199815,
          206868,
          209444,
          215967,
          114376,
          130533,
          134976,
          128542,
          173440,
          233935,
          155206,
          131054,
          162292,
          156699,
          187739,
          188697,
          223095,
          212295,
          218388,
          188288,
          244640,
          284722,
          323221,
          316750,
          243371,
          180732,
          251524,
          315779,
          270610,
          279125,
          271441,
          314732,
          325557,
          426163,
          449067,
          420453,
          491101,
          530606,
          491349,
          567395,
          502994,
          489677
         ],
         "yaxis": "y"
        }
       ],
       "layout": {
        "height": 600,
        "legend": {
         "title": {
          "text": "Line color"
         },
         "tracegroupgap": 0
        },
        "template": {
         "data": {
          "bar": [
           {
            "error_x": {
             "color": "#2a3f5f"
            },
            "error_y": {
             "color": "#2a3f5f"
            },
            "marker": {
             "line": {
              "color": "white",
              "width": 0.5
             },
             "pattern": {
              "fillmode": "overlay",
              "size": 10,
              "solidity": 0.2
             }
            },
            "type": "bar"
           }
          ],
          "barpolar": [
           {
            "marker": {
             "line": {
              "color": "white",
              "width": 0.5
             },
             "pattern": {
              "fillmode": "overlay",
              "size": 10,
              "solidity": 0.2
             }
            },
            "type": "barpolar"
           }
          ],
          "carpet": [
           {
            "aaxis": {
             "endlinecolor": "#2a3f5f",
             "gridcolor": "#C8D4E3",
             "linecolor": "#C8D4E3",
             "minorgridcolor": "#C8D4E3",
             "startlinecolor": "#2a3f5f"
            },
            "baxis": {
             "endlinecolor": "#2a3f5f",
             "gridcolor": "#C8D4E3",
             "linecolor": "#C8D4E3",
             "minorgridcolor": "#C8D4E3",
             "startlinecolor": "#2a3f5f"
            },
            "type": "carpet"
           }
          ],
          "choropleth": [
           {
            "colorbar": {
             "outlinewidth": 0,
             "ticks": ""
            },
            "type": "choropleth"
           }
          ],
          "contour": [
           {
            "colorbar": {
             "outlinewidth": 0,
             "ticks": ""
            },
            "colorscale": [
             [
              0,
              "#0d0887"
             ],
             [
              0.1111111111111111,
              "#46039f"
             ],
             [
              0.2222222222222222,
              "#7201a8"
             ],
             [
              0.3333333333333333,
              "#9c179e"
             ],
             [
              0.4444444444444444,
              "#bd3786"
             ],
             [
              0.5555555555555556,
              "#d8576b"
             ],
             [
              0.6666666666666666,
              "#ed7953"
             ],
             [
              0.7777777777777778,
              "#fb9f3a"
             ],
             [
              0.8888888888888888,
              "#fdca26"
             ],
             [
              1,
              "#f0f921"
             ]
            ],
            "type": "contour"
           }
          ],
          "contourcarpet": [
           {
            "colorbar": {
             "outlinewidth": 0,
             "ticks": ""
            },
            "type": "contourcarpet"
           }
          ],
          "heatmap": [
           {
            "colorbar": {
             "outlinewidth": 0,
             "ticks": ""
            },
            "colorscale": [
             [
              0,
              "#0d0887"
             ],
             [
              0.1111111111111111,
              "#46039f"
             ],
             [
              0.2222222222222222,
              "#7201a8"
             ],
             [
              0.3333333333333333,
              "#9c179e"
             ],
             [
              0.4444444444444444,
              "#bd3786"
             ],
             [
              0.5555555555555556,
              "#d8576b"
             ],
             [
              0.6666666666666666,
              "#ed7953"
             ],
             [
              0.7777777777777778,
              "#fb9f3a"
             ],
             [
              0.8888888888888888,
              "#fdca26"
             ],
             [
              1,
              "#f0f921"
             ]
            ],
            "type": "heatmap"
           }
          ],
          "heatmapgl": [
           {
            "colorbar": {
             "outlinewidth": 0,
             "ticks": ""
            },
            "colorscale": [
             [
              0,
              "#0d0887"
             ],
             [
              0.1111111111111111,
              "#46039f"
             ],
             [
              0.2222222222222222,
              "#7201a8"
             ],
             [
              0.3333333333333333,
              "#9c179e"
             ],
             [
              0.4444444444444444,
              "#bd3786"
             ],
             [
              0.5555555555555556,
              "#d8576b"
             ],
             [
              0.6666666666666666,
              "#ed7953"
             ],
             [
              0.7777777777777778,
              "#fb9f3a"
             ],
             [
              0.8888888888888888,
              "#fdca26"
             ],
             [
              1,
              "#f0f921"
             ]
            ],
            "type": "heatmapgl"
           }
          ],
          "histogram": [
           {
            "marker": {
             "pattern": {
              "fillmode": "overlay",
              "size": 10,
              "solidity": 0.2
             }
            },
            "type": "histogram"
           }
          ],
          "histogram2d": [
           {
            "colorbar": {
             "outlinewidth": 0,
             "ticks": ""
            },
            "colorscale": [
             [
              0,
              "#0d0887"
             ],
             [
              0.1111111111111111,
              "#46039f"
             ],
             [
              0.2222222222222222,
              "#7201a8"
             ],
             [
              0.3333333333333333,
              "#9c179e"
             ],
             [
              0.4444444444444444,
              "#bd3786"
             ],
             [
              0.5555555555555556,
              "#d8576b"
             ],
             [
              0.6666666666666666,
              "#ed7953"
             ],
             [
              0.7777777777777778,
              "#fb9f3a"
             ],
             [
              0.8888888888888888,
              "#fdca26"
             ],
             [
              1,
              "#f0f921"
             ]
            ],
            "type": "histogram2d"
           }
          ],
          "histogram2dcontour": [
           {
            "colorbar": {
             "outlinewidth": 0,
             "ticks": ""
            },
            "colorscale": [
             [
              0,
              "#0d0887"
             ],
             [
              0.1111111111111111,
              "#46039f"
             ],
             [
              0.2222222222222222,
              "#7201a8"
             ],
             [
              0.3333333333333333,
              "#9c179e"
             ],
             [
              0.4444444444444444,
              "#bd3786"
             ],
             [
              0.5555555555555556,
              "#d8576b"
             ],
             [
              0.6666666666666666,
              "#ed7953"
             ],
             [
              0.7777777777777778,
              "#fb9f3a"
             ],
             [
              0.8888888888888888,
              "#fdca26"
             ],
             [
              1,
              "#f0f921"
             ]
            ],
            "type": "histogram2dcontour"
           }
          ],
          "mesh3d": [
           {
            "colorbar": {
             "outlinewidth": 0,
             "ticks": ""
            },
            "type": "mesh3d"
           }
          ],
          "parcoords": [
           {
            "line": {
             "colorbar": {
              "outlinewidth": 0,
              "ticks": ""
             }
            },
            "type": "parcoords"
           }
          ],
          "pie": [
           {
            "automargin": true,
            "type": "pie"
           }
          ],
          "scatter": [
           {
            "fillpattern": {
             "fillmode": "overlay",
             "size": 10,
             "solidity": 0.2
            },
            "type": "scatter"
           }
          ],
          "scatter3d": [
           {
            "line": {
             "colorbar": {
              "outlinewidth": 0,
              "ticks": ""
             }
            },
            "marker": {
             "colorbar": {
              "outlinewidth": 0,
              "ticks": ""
             }
            },
            "type": "scatter3d"
           }
          ],
          "scattercarpet": [
           {
            "marker": {
             "colorbar": {
              "outlinewidth": 0,
              "ticks": ""
             }
            },
            "type": "scattercarpet"
           }
          ],
          "scattergeo": [
           {
            "marker": {
             "colorbar": {
              "outlinewidth": 0,
              "ticks": ""
             }
            },
            "type": "scattergeo"
           }
          ],
          "scattergl": [
           {
            "marker": {
             "colorbar": {
              "outlinewidth": 0,
              "ticks": ""
             }
            },
            "type": "scattergl"
           }
          ],
          "scattermapbox": [
           {
            "marker": {
             "colorbar": {
              "outlinewidth": 0,
              "ticks": ""
             }
            },
            "type": "scattermapbox"
           }
          ],
          "scatterpolar": [
           {
            "marker": {
             "colorbar": {
              "outlinewidth": 0,
              "ticks": ""
             }
            },
            "type": "scatterpolar"
           }
          ],
          "scatterpolargl": [
           {
            "marker": {
             "colorbar": {
              "outlinewidth": 0,
              "ticks": ""
             }
            },
            "type": "scatterpolargl"
           }
          ],
          "scatterternary": [
           {
            "marker": {
             "colorbar": {
              "outlinewidth": 0,
              "ticks": ""
             }
            },
            "type": "scatterternary"
           }
          ],
          "surface": [
           {
            "colorbar": {
             "outlinewidth": 0,
             "ticks": ""
            },
            "colorscale": [
             [
              0,
              "#0d0887"
             ],
             [
              0.1111111111111111,
              "#46039f"
             ],
             [
              0.2222222222222222,
              "#7201a8"
             ],
             [
              0.3333333333333333,
              "#9c179e"
             ],
             [
              0.4444444444444444,
              "#bd3786"
             ],
             [
              0.5555555555555556,
              "#d8576b"
             ],
             [
              0.6666666666666666,
              "#ed7953"
             ],
             [
              0.7777777777777778,
              "#fb9f3a"
             ],
             [
              0.8888888888888888,
              "#fdca26"
             ],
             [
              1,
              "#f0f921"
             ]
            ],
            "type": "surface"
           }
          ],
          "table": [
           {
            "cells": {
             "fill": {
              "color": "#EBF0F8"
             },
             "line": {
              "color": "white"
             }
            },
            "header": {
             "fill": {
              "color": "#C8D4E3"
             },
             "line": {
              "color": "white"
             }
            },
            "type": "table"
           }
          ]
         },
         "layout": {
          "annotationdefaults": {
           "arrowcolor": "#2a3f5f",
           "arrowhead": 0,
           "arrowwidth": 1
          },
          "autotypenumbers": "strict",
          "coloraxis": {
           "colorbar": {
            "outlinewidth": 0,
            "ticks": ""
           }
          },
          "colorscale": {
           "diverging": [
            [
             0,
             "#8e0152"
            ],
            [
             0.1,
             "#c51b7d"
            ],
            [
             0.2,
             "#de77ae"
            ],
            [
             0.3,
             "#f1b6da"
            ],
            [
             0.4,
             "#fde0ef"
            ],
            [
             0.5,
             "#f7f7f7"
            ],
            [
             0.6,
             "#e6f5d0"
            ],
            [
             0.7,
             "#b8e186"
            ],
            [
             0.8,
             "#7fbc41"
            ],
            [
             0.9,
             "#4d9221"
            ],
            [
             1,
             "#276419"
            ]
           ],
           "sequential": [
            [
             0,
             "#0d0887"
            ],
            [
             0.1111111111111111,
             "#46039f"
            ],
            [
             0.2222222222222222,
             "#7201a8"
            ],
            [
             0.3333333333333333,
             "#9c179e"
            ],
            [
             0.4444444444444444,
             "#bd3786"
            ],
            [
             0.5555555555555556,
             "#d8576b"
            ],
            [
             0.6666666666666666,
             "#ed7953"
            ],
            [
             0.7777777777777778,
             "#fb9f3a"
            ],
            [
             0.8888888888888888,
             "#fdca26"
            ],
            [
             1,
             "#f0f921"
            ]
           ],
           "sequentialminus": [
            [
             0,
             "#0d0887"
            ],
            [
             0.1111111111111111,
             "#46039f"
            ],
            [
             0.2222222222222222,
             "#7201a8"
            ],
            [
             0.3333333333333333,
             "#9c179e"
            ],
            [
             0.4444444444444444,
             "#bd3786"
            ],
            [
             0.5555555555555556,
             "#d8576b"
            ],
            [
             0.6666666666666666,
             "#ed7953"
            ],
            [
             0.7777777777777778,
             "#fb9f3a"
            ],
            [
             0.8888888888888888,
             "#fdca26"
            ],
            [
             1,
             "#f0f921"
            ]
           ]
          },
          "colorway": [
           "#636efa",
           "#EF553B",
           "#00cc96",
           "#ab63fa",
           "#FFA15A",
           "#19d3f3",
           "#FF6692",
           "#B6E880",
           "#FF97FF",
           "#FECB52"
          ],
          "font": {
           "color": "#2a3f5f"
          },
          "geo": {
           "bgcolor": "white",
           "lakecolor": "white",
           "landcolor": "white",
           "showlakes": true,
           "showland": true,
           "subunitcolor": "#C8D4E3"
          },
          "hoverlabel": {
           "align": "left"
          },
          "hovermode": "closest",
          "mapbox": {
           "style": "light"
          },
          "paper_bgcolor": "white",
          "plot_bgcolor": "white",
          "polar": {
           "angularaxis": {
            "gridcolor": "#EBF0F8",
            "linecolor": "#EBF0F8",
            "ticks": ""
           },
           "bgcolor": "white",
           "radialaxis": {
            "gridcolor": "#EBF0F8",
            "linecolor": "#EBF0F8",
            "ticks": ""
           }
          },
          "scene": {
           "xaxis": {
            "backgroundcolor": "white",
            "gridcolor": "#DFE8F3",
            "gridwidth": 2,
            "linecolor": "#EBF0F8",
            "showbackground": true,
            "ticks": "",
            "zerolinecolor": "#EBF0F8"
           },
           "yaxis": {
            "backgroundcolor": "white",
            "gridcolor": "#DFE8F3",
            "gridwidth": 2,
            "linecolor": "#EBF0F8",
            "showbackground": true,
            "ticks": "",
            "zerolinecolor": "#EBF0F8"
           },
           "zaxis": {
            "backgroundcolor": "white",
            "gridcolor": "#DFE8F3",
            "gridwidth": 2,
            "linecolor": "#EBF0F8",
            "showbackground": true,
            "ticks": "",
            "zerolinecolor": "#EBF0F8"
           }
          },
          "shapedefaults": {
           "line": {
            "color": "#2a3f5f"
           }
          },
          "ternary": {
           "aaxis": {
            "gridcolor": "#DFE8F3",
            "linecolor": "#A2B1C6",
            "ticks": ""
           },
           "baxis": {
            "gridcolor": "#DFE8F3",
            "linecolor": "#A2B1C6",
            "ticks": ""
           },
           "bgcolor": "white",
           "caxis": {
            "gridcolor": "#DFE8F3",
            "linecolor": "#A2B1C6",
            "ticks": ""
           }
          },
          "title": {
           "x": 0.05
          },
          "xaxis": {
           "automargin": true,
           "gridcolor": "#EBF0F8",
           "linecolor": "#EBF0F8",
           "ticks": "",
           "title": {
            "standoff": 15
           },
           "zerolinecolor": "#EBF0F8",
           "zerolinewidth": 2
          },
          "yaxis": {
           "automargin": true,
           "gridcolor": "#EBF0F8",
           "linecolor": "#EBF0F8",
           "ticks": "",
           "title": {
            "standoff": 15
           },
           "zerolinecolor": "#EBF0F8",
           "zerolinewidth": 2
          }
         }
        },
        "title": {
         "text": "Dynamics of the number of unique users/ Tweets"
        },
        "width": 800,
        "xaxis": {
         "anchor": "y",
         "domain": [
          0,
          1
         ],
         "title": {
          "text": "Date"
         }
        },
        "yaxis": {
         "anchor": "x",
         "domain": [
          0,
          1
         ],
         "title": {
          "text": "Number of unique users/Tweets per day"
         }
        }
       }
      }
     },
     "metadata": {},
     "output_type": "display_data"
    }
   ],
   "source": [
    "fig = px.line(df, x=\"date\", y=\"total\", title='Dynamics of the number of unique users/ Tweets',color=\"Line color\",\n",
    "                labels=dict(date=\"Date\", total=\"Number of unique users/Tweets per day\"),template=\"plotly_white\",\n",
    "                 width=800, height=600)\n",
    "\n",
    "fig.show()"
   ]
  },
  {
   "attachments": {},
   "cell_type": "markdown",
   "metadata": {},
   "source": [
    "### Geography"
   ]
  },
  {
   "cell_type": "code",
   "execution_count": null,
   "metadata": {},
   "outputs": [
    {
     "data": {
      "text/plain": [
       "(160368, 6)"
      ]
     },
     "execution_count": 30,
     "metadata": {},
     "output_type": "execute_result"
    }
   ],
   "source": [
    "geo = data.loc[~data['geo.place_id'].isnull(),['created_at','id','lang','geo.place_id', 'geo.coordinates.type','geo.coordinates.coordinates']]\n",
    "geo.shape"
   ]
  },
  {
   "cell_type": "code",
   "execution_count": null,
   "metadata": {},
   "outputs": [
    {
     "data": {
      "text/plain": [
       "17753"
      ]
     },
     "execution_count": 31,
     "metadata": {},
     "output_type": "execute_result"
    }
   ],
   "source": [
    "place_ids = geo[\"geo.place_id\"].unique()\n",
    "len(place_ids)"
   ]
  },
  {
   "cell_type": "code",
   "execution_count": 33,
   "metadata": {},
   "outputs": [],
   "source": [
    "with open(\"../data/place_ids.txt\",\"w\") as f:\n",
    "    for place_id in place_ids:\n",
    "        f.write(str(place_id))\n",
    "        f.write(\"\\n\")"
   ]
  },
  {
   "cell_type": "code",
   "execution_count": 7,
   "metadata": {},
   "outputs": [
    {
     "name": "stderr",
     "output_type": "stream",
     "text": [
      "100%|██████████| 17748/17748 [10:08<00:00, 29.19it/s]\n"
     ]
    }
   ],
   "source": [
    "from tqdm import tqdm\n",
    "path='../data/geo/'\n",
    "files = os.listdir(path)\n",
    "\n",
    "count=0\n",
    "for file in tqdm(files):\n",
    "    with open(path+file, 'r',encoding=\"utf-8\") as f:\n",
    "        temp = json.load(f)\n",
    "        if count==0:\n",
    "            geo = pd.json_normalize(temp)\n",
    "            count+=1\n",
    "        else:\n",
    "            df = pd.json_normalize(temp)\n",
    "            geo = pd.concat([geo,df],axis=0)\n",
    "geo = geo.reset_index(drop=True)\n",
    "geo.to_json(\"../data/for_analysis/geo.json\")"
   ]
  },
  {
   "cell_type": "code",
   "execution_count": 8,
   "metadata": {},
   "outputs": [
    {
     "data": {
      "text/html": [
       "<div>\n",
       "<style scoped>\n",
       "    .dataframe tbody tr th:only-of-type {\n",
       "        vertical-align: middle;\n",
       "    }\n",
       "\n",
       "    .dataframe tbody tr th {\n",
       "        vertical-align: top;\n",
       "    }\n",
       "\n",
       "    .dataframe thead th {\n",
       "        text-align: right;\n",
       "    }\n",
       "</style>\n",
       "<table border=\"1\" class=\"dataframe\">\n",
       "  <thead>\n",
       "    <tr style=\"text-align: right;\">\n",
       "      <th></th>\n",
       "      <th>id</th>\n",
       "      <th>name</th>\n",
       "      <th>full_name</th>\n",
       "      <th>country</th>\n",
       "      <th>country_code</th>\n",
       "      <th>url</th>\n",
       "      <th>place_type</th>\n",
       "      <th>centroid</th>\n",
       "      <th>contained_within</th>\n",
       "      <th>polylines</th>\n",
       "      <th>...</th>\n",
       "      <th>attributes.190533:id</th>\n",
       "      <th>attributes.567718:targetable</th>\n",
       "      <th>attributes.162763:id</th>\n",
       "      <th>attributes.162772:state_id</th>\n",
       "      <th>attributes.162813:id</th>\n",
       "      <th>attributes.162772:cousub_id</th>\n",
       "      <th>attributes.random_attr</th>\n",
       "      <th>attributes.162768:id</th>\n",
       "      <th>attributes.567718:metro</th>\n",
       "      <th>attributes.162834:id</th>\n",
       "    </tr>\n",
       "  </thead>\n",
       "  <tbody>\n",
       "    <tr>\n",
       "      <th>0</th>\n",
       "      <td>1f4df2b4746ddea7</td>\n",
       "      <td>Brampton</td>\n",
       "      <td>Brampton, Ontario</td>\n",
       "      <td>Canada</td>\n",
       "      <td>CA</td>\n",
       "      <td>https://api.twitter.com/1.1/geo/id/1f4df2b4746...</td>\n",
       "      <td>city</td>\n",
       "      <td>[-79.74353192502639, 43.725062]</td>\n",
       "      <td>[{'id': '0192e4d84ed0ea4e', 'name': 'Toronto',...</td>\n",
       "      <td>[]</td>\n",
       "      <td>...</td>\n",
       "      <td>NaN</td>\n",
       "      <td>NaN</td>\n",
       "      <td>NaN</td>\n",
       "      <td>NaN</td>\n",
       "      <td>NaN</td>\n",
       "      <td>NaN</td>\n",
       "      <td>NaN</td>\n",
       "      <td>NaN</td>\n",
       "      <td>NaN</td>\n",
       "      <td>NaN</td>\n",
       "    </tr>\n",
       "    <tr>\n",
       "      <th>1</th>\n",
       "      <td>80cf9987ff7e9762</td>\n",
       "      <td>Lake Elsinore</td>\n",
       "      <td>Lake Elsinore, CA</td>\n",
       "      <td>United States</td>\n",
       "      <td>US</td>\n",
       "      <td>https://api.twitter.com/1.1/geo/id/80cf9987ff7...</td>\n",
       "      <td>city</td>\n",
       "      <td>[-117.34513912574008, 33.665765]</td>\n",
       "      <td>[{'id': 'e4315a8602024dcb', 'name': 'LOS ANGEL...</td>\n",
       "      <td>[]</td>\n",
       "      <td>...</td>\n",
       "      <td>NaN</td>\n",
       "      <td>NaN</td>\n",
       "      <td>NaN</td>\n",
       "      <td>NaN</td>\n",
       "      <td>NaN</td>\n",
       "      <td>NaN</td>\n",
       "      <td>NaN</td>\n",
       "      <td>NaN</td>\n",
       "      <td>NaN</td>\n",
       "      <td>NaN</td>\n",
       "    </tr>\n",
       "    <tr>\n",
       "      <th>2</th>\n",
       "      <td>018e2bf71a3ef896</td>\n",
       "      <td>Prague</td>\n",
       "      <td>Prague, Czech Republic</td>\n",
       "      <td>Czech Republic</td>\n",
       "      <td>CZ</td>\n",
       "      <td>https://api.twitter.com/1.1/geo/id/018e2bf71a3...</td>\n",
       "      <td>city</td>\n",
       "      <td>[14.446473098716092, 50.05957115]</td>\n",
       "      <td>[{'id': '0126ba1e341b038c', 'name': 'Prague', ...</td>\n",
       "      <td>[]</td>\n",
       "      <td>...</td>\n",
       "      <td>NaN</td>\n",
       "      <td>NaN</td>\n",
       "      <td>NaN</td>\n",
       "      <td>NaN</td>\n",
       "      <td>NaN</td>\n",
       "      <td>NaN</td>\n",
       "      <td>NaN</td>\n",
       "      <td>NaN</td>\n",
       "      <td>NaN</td>\n",
       "      <td>NaN</td>\n",
       "    </tr>\n",
       "    <tr>\n",
       "      <th>3</th>\n",
       "      <td>3daa1b987e17d095</td>\n",
       "      <td>Dalton Piercy</td>\n",
       "      <td>Dalton Piercy, England</td>\n",
       "      <td>United Kingdom</td>\n",
       "      <td>GB</td>\n",
       "      <td>https://api.twitter.com/1.1/geo/id/3daa1b987e1...</td>\n",
       "      <td>city</td>\n",
       "      <td>[-1.2808998181629203, 54.67351755]</td>\n",
       "      <td>[{'id': '67bc7263f7b9047b', 'name': 'North Eas...</td>\n",
       "      <td>[]</td>\n",
       "      <td>...</td>\n",
       "      <td>NaN</td>\n",
       "      <td>NaN</td>\n",
       "      <td>NaN</td>\n",
       "      <td>NaN</td>\n",
       "      <td>NaN</td>\n",
       "      <td>NaN</td>\n",
       "      <td>NaN</td>\n",
       "      <td>NaN</td>\n",
       "      <td>NaN</td>\n",
       "      <td>NaN</td>\n",
       "    </tr>\n",
       "    <tr>\n",
       "      <th>4</th>\n",
       "      <td>4ca13653c1a41e50</td>\n",
       "      <td>Nyköping</td>\n",
       "      <td>Nyköping, Sverige</td>\n",
       "      <td>Sweden</td>\n",
       "      <td>SE</td>\n",
       "      <td>https://api.twitter.com/1.1/geo/id/4ca13653c1a...</td>\n",
       "      <td>city</td>\n",
       "      <td>[16.974238986672706, 58.72823315]</td>\n",
       "      <td>[{'id': '2258e8caf1fed45f', 'name': 'Södermanl...</td>\n",
       "      <td>[]</td>\n",
       "      <td>...</td>\n",
       "      <td>NaN</td>\n",
       "      <td>NaN</td>\n",
       "      <td>NaN</td>\n",
       "      <td>NaN</td>\n",
       "      <td>NaN</td>\n",
       "      <td>NaN</td>\n",
       "      <td>NaN</td>\n",
       "      <td>NaN</td>\n",
       "      <td>NaN</td>\n",
       "      <td>NaN</td>\n",
       "    </tr>\n",
       "  </tbody>\n",
       "</table>\n",
       "<p>5 rows × 31 columns</p>\n",
       "</div>"
      ],
      "text/plain": [
       "                 id           name               full_name         country  \\\n",
       "0  1f4df2b4746ddea7       Brampton       Brampton, Ontario          Canada   \n",
       "1  80cf9987ff7e9762  Lake Elsinore       Lake Elsinore, CA   United States   \n",
       "2  018e2bf71a3ef896         Prague  Prague, Czech Republic  Czech Republic   \n",
       "3  3daa1b987e17d095  Dalton Piercy  Dalton Piercy, England  United Kingdom   \n",
       "4  4ca13653c1a41e50       Nyköping       Nyköping, Sverige          Sweden   \n",
       "\n",
       "  country_code                                                url place_type  \\\n",
       "0           CA  https://api.twitter.com/1.1/geo/id/1f4df2b4746...       city   \n",
       "1           US  https://api.twitter.com/1.1/geo/id/80cf9987ff7...       city   \n",
       "2           CZ  https://api.twitter.com/1.1/geo/id/018e2bf71a3...       city   \n",
       "3           GB  https://api.twitter.com/1.1/geo/id/3daa1b987e1...       city   \n",
       "4           SE  https://api.twitter.com/1.1/geo/id/4ca13653c1a...       city   \n",
       "\n",
       "                             centroid  \\\n",
       "0     [-79.74353192502639, 43.725062]   \n",
       "1    [-117.34513912574008, 33.665765]   \n",
       "2   [14.446473098716092, 50.05957115]   \n",
       "3  [-1.2808998181629203, 54.67351755]   \n",
       "4   [16.974238986672706, 58.72823315]   \n",
       "\n",
       "                                    contained_within polylines  ...  \\\n",
       "0  [{'id': '0192e4d84ed0ea4e', 'name': 'Toronto',...        []  ...   \n",
       "1  [{'id': 'e4315a8602024dcb', 'name': 'LOS ANGEL...        []  ...   \n",
       "2  [{'id': '0126ba1e341b038c', 'name': 'Prague', ...        []  ...   \n",
       "3  [{'id': '67bc7263f7b9047b', 'name': 'North Eas...        []  ...   \n",
       "4  [{'id': '2258e8caf1fed45f', 'name': 'Södermanl...        []  ...   \n",
       "\n",
       "  attributes.190533:id attributes.567718:targetable attributes.162763:id  \\\n",
       "0                  NaN                          NaN                  NaN   \n",
       "1                  NaN                          NaN                  NaN   \n",
       "2                  NaN                          NaN                  NaN   \n",
       "3                  NaN                          NaN                  NaN   \n",
       "4                  NaN                          NaN                  NaN   \n",
       "\n",
       "  attributes.162772:state_id attributes.162813:id attributes.162772:cousub_id  \\\n",
       "0                        NaN                  NaN                         NaN   \n",
       "1                        NaN                  NaN                         NaN   \n",
       "2                        NaN                  NaN                         NaN   \n",
       "3                        NaN                  NaN                         NaN   \n",
       "4                        NaN                  NaN                         NaN   \n",
       "\n",
       "  attributes.random_attr attributes.162768:id attributes.567718:metro  \\\n",
       "0                    NaN                  NaN                     NaN   \n",
       "1                    NaN                  NaN                     NaN   \n",
       "2                    NaN                  NaN                     NaN   \n",
       "3                    NaN                  NaN                     NaN   \n",
       "4                    NaN                  NaN                     NaN   \n",
       "\n",
       "  attributes.162834:id  \n",
       "0                  NaN  \n",
       "1                  NaN  \n",
       "2                  NaN  \n",
       "3                  NaN  \n",
       "4                  NaN  \n",
       "\n",
       "[5 rows x 31 columns]"
      ]
     },
     "execution_count": 8,
     "metadata": {},
     "output_type": "execute_result"
    }
   ],
   "source": [
    "geo=pd.read_json(\"../data/for_analysis/geo.json\")\n",
    "geo.head()"
   ]
  },
  {
   "cell_type": "code",
   "execution_count": 14,
   "metadata": {},
   "outputs": [],
   "source": [
    "geo_dict = geo.loc[:,[\"id\",\"country\"]].set_index(\"id\").to_dict()\n",
    "geo_subset = data.loc[~data[\"geo.place_id\"].isnull()]\n",
    "geo_subset[\"country\"] = geo_subset[\"geo.place_id\"].replace(geo_dict[\"country\"])"
   ]
  },
  {
   "cell_type": "code",
   "execution_count": 16,
   "metadata": {},
   "outputs": [
    {
     "data": {
      "text/html": [
       "<div>\n",
       "<style scoped>\n",
       "    .dataframe tbody tr th:only-of-type {\n",
       "        vertical-align: middle;\n",
       "    }\n",
       "\n",
       "    .dataframe tbody tr th {\n",
       "        vertical-align: top;\n",
       "    }\n",
       "\n",
       "    .dataframe thead th {\n",
       "        text-align: right;\n",
       "    }\n",
       "</style>\n",
       "<table border=\"1\" class=\"dataframe\">\n",
       "  <thead>\n",
       "    <tr style=\"text-align: right;\">\n",
       "      <th></th>\n",
       "      <th>country</th>\n",
       "    </tr>\n",
       "  </thead>\n",
       "  <tbody>\n",
       "    <tr>\n",
       "      <th>United States</th>\n",
       "      <td>83763</td>\n",
       "    </tr>\n",
       "    <tr>\n",
       "      <th>United Kingdom</th>\n",
       "      <td>10333</td>\n",
       "    </tr>\n",
       "    <tr>\n",
       "      <th>India</th>\n",
       "      <td>8095</td>\n",
       "    </tr>\n",
       "    <tr>\n",
       "      <th>Canada</th>\n",
       "      <td>5571</td>\n",
       "    </tr>\n",
       "    <tr>\n",
       "      <th>Brazil</th>\n",
       "      <td>5292</td>\n",
       "    </tr>\n",
       "    <tr>\n",
       "      <th>...</th>\n",
       "      <td>...</td>\n",
       "    </tr>\n",
       "    <tr>\n",
       "      <th>Cook Islands</th>\n",
       "      <td>1</td>\n",
       "    </tr>\n",
       "    <tr>\n",
       "      <th>ac12f03bde23d3a3</th>\n",
       "      <td>1</td>\n",
       "    </tr>\n",
       "    <tr>\n",
       "      <th>British Indian Ocean Territory</th>\n",
       "      <td>1</td>\n",
       "    </tr>\n",
       "    <tr>\n",
       "      <th>South Sudan</th>\n",
       "      <td>1</td>\n",
       "    </tr>\n",
       "    <tr>\n",
       "      <th>Falkland Islands (Malvinas)</th>\n",
       "      <td>1</td>\n",
       "    </tr>\n",
       "  </tbody>\n",
       "</table>\n",
       "<p>215 rows × 1 columns</p>\n",
       "</div>"
      ],
      "text/plain": [
       "                                country\n",
       "United States                     83763\n",
       "United Kingdom                    10333\n",
       "India                              8095\n",
       "Canada                             5571\n",
       "Brazil                             5292\n",
       "...                                 ...\n",
       "Cook Islands                          1\n",
       "ac12f03bde23d3a3                      1\n",
       "British Indian Ocean Territory        1\n",
       "South Sudan                           1\n",
       "Falkland Islands (Malvinas)           1\n",
       "\n",
       "[215 rows x 1 columns]"
      ]
     },
     "execution_count": 16,
     "metadata": {},
     "output_type": "execute_result"
    }
   ],
   "source": [
    "pd.DataFrame(geo_subset.country.value_counts())"
   ]
  },
  {
   "cell_type": "code",
   "execution_count": 17,
   "metadata": {},
   "outputs": [],
   "source": [
    "pd.DataFrame(geo_subset.country.value_counts()).to_excel(\"../analysis/geo.xlsx\")"
   ]
  },
  {
   "attachments": {},
   "cell_type": "markdown",
   "metadata": {},
   "source": [
    "### Languages"
   ]
  },
  {
   "cell_type": "code",
   "execution_count": 34,
   "metadata": {},
   "outputs": [
    {
     "data": {
      "application/vnd.plotly.v1+json": {
       "config": {
        "plotlyServerURL": "https://plot.ly"
       },
       "data": [
        {
         "alignmentgroup": "True",
         "hovertemplate": "Language=%{x}<br>Per cent of Tweets=%{y}<extra></extra>",
         "legendgroup": "",
         "marker": {
          "color": "#636efa",
          "pattern": {
           "shape": ""
          }
         },
         "name": "",
         "offsetgroup": "",
         "orientation": "v",
         "showlegend": false,
         "textposition": "auto",
         "texttemplate": "%{y}",
         "type": "bar",
         "x": [
          "English",
          "Japanese",
          "French",
          "Spanish",
          "Portuguese",
          "German",
          "Turkish",
          "Arabic",
          "Chinese",
          "Dutch"
         ],
         "xaxis": "x",
         "y": [
          72.71,
          3.05,
          2.98,
          2.8,
          1.59,
          1.47,
          0.6,
          0.55,
          0.43,
          0.34
         ],
         "yaxis": "y"
        }
       ],
       "layout": {
        "barmode": "relative",
        "legend": {
         "tracegroupgap": 0
        },
        "template": {
         "data": {
          "bar": [
           {
            "error_x": {
             "color": "#2a3f5f"
            },
            "error_y": {
             "color": "#2a3f5f"
            },
            "marker": {
             "line": {
              "color": "white",
              "width": 0.5
             },
             "pattern": {
              "fillmode": "overlay",
              "size": 10,
              "solidity": 0.2
             }
            },
            "type": "bar"
           }
          ],
          "barpolar": [
           {
            "marker": {
             "line": {
              "color": "white",
              "width": 0.5
             },
             "pattern": {
              "fillmode": "overlay",
              "size": 10,
              "solidity": 0.2
             }
            },
            "type": "barpolar"
           }
          ],
          "carpet": [
           {
            "aaxis": {
             "endlinecolor": "#2a3f5f",
             "gridcolor": "#C8D4E3",
             "linecolor": "#C8D4E3",
             "minorgridcolor": "#C8D4E3",
             "startlinecolor": "#2a3f5f"
            },
            "baxis": {
             "endlinecolor": "#2a3f5f",
             "gridcolor": "#C8D4E3",
             "linecolor": "#C8D4E3",
             "minorgridcolor": "#C8D4E3",
             "startlinecolor": "#2a3f5f"
            },
            "type": "carpet"
           }
          ],
          "choropleth": [
           {
            "colorbar": {
             "outlinewidth": 0,
             "ticks": ""
            },
            "type": "choropleth"
           }
          ],
          "contour": [
           {
            "colorbar": {
             "outlinewidth": 0,
             "ticks": ""
            },
            "colorscale": [
             [
              0,
              "#0d0887"
             ],
             [
              0.1111111111111111,
              "#46039f"
             ],
             [
              0.2222222222222222,
              "#7201a8"
             ],
             [
              0.3333333333333333,
              "#9c179e"
             ],
             [
              0.4444444444444444,
              "#bd3786"
             ],
             [
              0.5555555555555556,
              "#d8576b"
             ],
             [
              0.6666666666666666,
              "#ed7953"
             ],
             [
              0.7777777777777778,
              "#fb9f3a"
             ],
             [
              0.8888888888888888,
              "#fdca26"
             ],
             [
              1,
              "#f0f921"
             ]
            ],
            "type": "contour"
           }
          ],
          "contourcarpet": [
           {
            "colorbar": {
             "outlinewidth": 0,
             "ticks": ""
            },
            "type": "contourcarpet"
           }
          ],
          "heatmap": [
           {
            "colorbar": {
             "outlinewidth": 0,
             "ticks": ""
            },
            "colorscale": [
             [
              0,
              "#0d0887"
             ],
             [
              0.1111111111111111,
              "#46039f"
             ],
             [
              0.2222222222222222,
              "#7201a8"
             ],
             [
              0.3333333333333333,
              "#9c179e"
             ],
             [
              0.4444444444444444,
              "#bd3786"
             ],
             [
              0.5555555555555556,
              "#d8576b"
             ],
             [
              0.6666666666666666,
              "#ed7953"
             ],
             [
              0.7777777777777778,
              "#fb9f3a"
             ],
             [
              0.8888888888888888,
              "#fdca26"
             ],
             [
              1,
              "#f0f921"
             ]
            ],
            "type": "heatmap"
           }
          ],
          "heatmapgl": [
           {
            "colorbar": {
             "outlinewidth": 0,
             "ticks": ""
            },
            "colorscale": [
             [
              0,
              "#0d0887"
             ],
             [
              0.1111111111111111,
              "#46039f"
             ],
             [
              0.2222222222222222,
              "#7201a8"
             ],
             [
              0.3333333333333333,
              "#9c179e"
             ],
             [
              0.4444444444444444,
              "#bd3786"
             ],
             [
              0.5555555555555556,
              "#d8576b"
             ],
             [
              0.6666666666666666,
              "#ed7953"
             ],
             [
              0.7777777777777778,
              "#fb9f3a"
             ],
             [
              0.8888888888888888,
              "#fdca26"
             ],
             [
              1,
              "#f0f921"
             ]
            ],
            "type": "heatmapgl"
           }
          ],
          "histogram": [
           {
            "marker": {
             "pattern": {
              "fillmode": "overlay",
              "size": 10,
              "solidity": 0.2
             }
            },
            "type": "histogram"
           }
          ],
          "histogram2d": [
           {
            "colorbar": {
             "outlinewidth": 0,
             "ticks": ""
            },
            "colorscale": [
             [
              0,
              "#0d0887"
             ],
             [
              0.1111111111111111,
              "#46039f"
             ],
             [
              0.2222222222222222,
              "#7201a8"
             ],
             [
              0.3333333333333333,
              "#9c179e"
             ],
             [
              0.4444444444444444,
              "#bd3786"
             ],
             [
              0.5555555555555556,
              "#d8576b"
             ],
             [
              0.6666666666666666,
              "#ed7953"
             ],
             [
              0.7777777777777778,
              "#fb9f3a"
             ],
             [
              0.8888888888888888,
              "#fdca26"
             ],
             [
              1,
              "#f0f921"
             ]
            ],
            "type": "histogram2d"
           }
          ],
          "histogram2dcontour": [
           {
            "colorbar": {
             "outlinewidth": 0,
             "ticks": ""
            },
            "colorscale": [
             [
              0,
              "#0d0887"
             ],
             [
              0.1111111111111111,
              "#46039f"
             ],
             [
              0.2222222222222222,
              "#7201a8"
             ],
             [
              0.3333333333333333,
              "#9c179e"
             ],
             [
              0.4444444444444444,
              "#bd3786"
             ],
             [
              0.5555555555555556,
              "#d8576b"
             ],
             [
              0.6666666666666666,
              "#ed7953"
             ],
             [
              0.7777777777777778,
              "#fb9f3a"
             ],
             [
              0.8888888888888888,
              "#fdca26"
             ],
             [
              1,
              "#f0f921"
             ]
            ],
            "type": "histogram2dcontour"
           }
          ],
          "mesh3d": [
           {
            "colorbar": {
             "outlinewidth": 0,
             "ticks": ""
            },
            "type": "mesh3d"
           }
          ],
          "parcoords": [
           {
            "line": {
             "colorbar": {
              "outlinewidth": 0,
              "ticks": ""
             }
            },
            "type": "parcoords"
           }
          ],
          "pie": [
           {
            "automargin": true,
            "type": "pie"
           }
          ],
          "scatter": [
           {
            "fillpattern": {
             "fillmode": "overlay",
             "size": 10,
             "solidity": 0.2
            },
            "type": "scatter"
           }
          ],
          "scatter3d": [
           {
            "line": {
             "colorbar": {
              "outlinewidth": 0,
              "ticks": ""
             }
            },
            "marker": {
             "colorbar": {
              "outlinewidth": 0,
              "ticks": ""
             }
            },
            "type": "scatter3d"
           }
          ],
          "scattercarpet": [
           {
            "marker": {
             "colorbar": {
              "outlinewidth": 0,
              "ticks": ""
             }
            },
            "type": "scattercarpet"
           }
          ],
          "scattergeo": [
           {
            "marker": {
             "colorbar": {
              "outlinewidth": 0,
              "ticks": ""
             }
            },
            "type": "scattergeo"
           }
          ],
          "scattergl": [
           {
            "marker": {
             "colorbar": {
              "outlinewidth": 0,
              "ticks": ""
             }
            },
            "type": "scattergl"
           }
          ],
          "scattermapbox": [
           {
            "marker": {
             "colorbar": {
              "outlinewidth": 0,
              "ticks": ""
             }
            },
            "type": "scattermapbox"
           }
          ],
          "scatterpolar": [
           {
            "marker": {
             "colorbar": {
              "outlinewidth": 0,
              "ticks": ""
             }
            },
            "type": "scatterpolar"
           }
          ],
          "scatterpolargl": [
           {
            "marker": {
             "colorbar": {
              "outlinewidth": 0,
              "ticks": ""
             }
            },
            "type": "scatterpolargl"
           }
          ],
          "scatterternary": [
           {
            "marker": {
             "colorbar": {
              "outlinewidth": 0,
              "ticks": ""
             }
            },
            "type": "scatterternary"
           }
          ],
          "surface": [
           {
            "colorbar": {
             "outlinewidth": 0,
             "ticks": ""
            },
            "colorscale": [
             [
              0,
              "#0d0887"
             ],
             [
              0.1111111111111111,
              "#46039f"
             ],
             [
              0.2222222222222222,
              "#7201a8"
             ],
             [
              0.3333333333333333,
              "#9c179e"
             ],
             [
              0.4444444444444444,
              "#bd3786"
             ],
             [
              0.5555555555555556,
              "#d8576b"
             ],
             [
              0.6666666666666666,
              "#ed7953"
             ],
             [
              0.7777777777777778,
              "#fb9f3a"
             ],
             [
              0.8888888888888888,
              "#fdca26"
             ],
             [
              1,
              "#f0f921"
             ]
            ],
            "type": "surface"
           }
          ],
          "table": [
           {
            "cells": {
             "fill": {
              "color": "#EBF0F8"
             },
             "line": {
              "color": "white"
             }
            },
            "header": {
             "fill": {
              "color": "#C8D4E3"
             },
             "line": {
              "color": "white"
             }
            },
            "type": "table"
           }
          ]
         },
         "layout": {
          "annotationdefaults": {
           "arrowcolor": "#2a3f5f",
           "arrowhead": 0,
           "arrowwidth": 1
          },
          "autotypenumbers": "strict",
          "coloraxis": {
           "colorbar": {
            "outlinewidth": 0,
            "ticks": ""
           }
          },
          "colorscale": {
           "diverging": [
            [
             0,
             "#8e0152"
            ],
            [
             0.1,
             "#c51b7d"
            ],
            [
             0.2,
             "#de77ae"
            ],
            [
             0.3,
             "#f1b6da"
            ],
            [
             0.4,
             "#fde0ef"
            ],
            [
             0.5,
             "#f7f7f7"
            ],
            [
             0.6,
             "#e6f5d0"
            ],
            [
             0.7,
             "#b8e186"
            ],
            [
             0.8,
             "#7fbc41"
            ],
            [
             0.9,
             "#4d9221"
            ],
            [
             1,
             "#276419"
            ]
           ],
           "sequential": [
            [
             0,
             "#0d0887"
            ],
            [
             0.1111111111111111,
             "#46039f"
            ],
            [
             0.2222222222222222,
             "#7201a8"
            ],
            [
             0.3333333333333333,
             "#9c179e"
            ],
            [
             0.4444444444444444,
             "#bd3786"
            ],
            [
             0.5555555555555556,
             "#d8576b"
            ],
            [
             0.6666666666666666,
             "#ed7953"
            ],
            [
             0.7777777777777778,
             "#fb9f3a"
            ],
            [
             0.8888888888888888,
             "#fdca26"
            ],
            [
             1,
             "#f0f921"
            ]
           ],
           "sequentialminus": [
            [
             0,
             "#0d0887"
            ],
            [
             0.1111111111111111,
             "#46039f"
            ],
            [
             0.2222222222222222,
             "#7201a8"
            ],
            [
             0.3333333333333333,
             "#9c179e"
            ],
            [
             0.4444444444444444,
             "#bd3786"
            ],
            [
             0.5555555555555556,
             "#d8576b"
            ],
            [
             0.6666666666666666,
             "#ed7953"
            ],
            [
             0.7777777777777778,
             "#fb9f3a"
            ],
            [
             0.8888888888888888,
             "#fdca26"
            ],
            [
             1,
             "#f0f921"
            ]
           ]
          },
          "colorway": [
           "#636efa",
           "#EF553B",
           "#00cc96",
           "#ab63fa",
           "#FFA15A",
           "#19d3f3",
           "#FF6692",
           "#B6E880",
           "#FF97FF",
           "#FECB52"
          ],
          "font": {
           "color": "#2a3f5f"
          },
          "geo": {
           "bgcolor": "white",
           "lakecolor": "white",
           "landcolor": "white",
           "showlakes": true,
           "showland": true,
           "subunitcolor": "#C8D4E3"
          },
          "hoverlabel": {
           "align": "left"
          },
          "hovermode": "closest",
          "mapbox": {
           "style": "light"
          },
          "paper_bgcolor": "white",
          "plot_bgcolor": "white",
          "polar": {
           "angularaxis": {
            "gridcolor": "#EBF0F8",
            "linecolor": "#EBF0F8",
            "ticks": ""
           },
           "bgcolor": "white",
           "radialaxis": {
            "gridcolor": "#EBF0F8",
            "linecolor": "#EBF0F8",
            "ticks": ""
           }
          },
          "scene": {
           "xaxis": {
            "backgroundcolor": "white",
            "gridcolor": "#DFE8F3",
            "gridwidth": 2,
            "linecolor": "#EBF0F8",
            "showbackground": true,
            "ticks": "",
            "zerolinecolor": "#EBF0F8"
           },
           "yaxis": {
            "backgroundcolor": "white",
            "gridcolor": "#DFE8F3",
            "gridwidth": 2,
            "linecolor": "#EBF0F8",
            "showbackground": true,
            "ticks": "",
            "zerolinecolor": "#EBF0F8"
           },
           "zaxis": {
            "backgroundcolor": "white",
            "gridcolor": "#DFE8F3",
            "gridwidth": 2,
            "linecolor": "#EBF0F8",
            "showbackground": true,
            "ticks": "",
            "zerolinecolor": "#EBF0F8"
           }
          },
          "shapedefaults": {
           "line": {
            "color": "#2a3f5f"
           }
          },
          "ternary": {
           "aaxis": {
            "gridcolor": "#DFE8F3",
            "linecolor": "#A2B1C6",
            "ticks": ""
           },
           "baxis": {
            "gridcolor": "#DFE8F3",
            "linecolor": "#A2B1C6",
            "ticks": ""
           },
           "bgcolor": "white",
           "caxis": {
            "gridcolor": "#DFE8F3",
            "linecolor": "#A2B1C6",
            "ticks": ""
           }
          },
          "title": {
           "x": 0.05
          },
          "xaxis": {
           "automargin": true,
           "gridcolor": "#EBF0F8",
           "linecolor": "#EBF0F8",
           "ticks": "",
           "title": {
            "standoff": 15
           },
           "zerolinecolor": "#EBF0F8",
           "zerolinewidth": 2
          },
          "yaxis": {
           "automargin": true,
           "gridcolor": "#EBF0F8",
           "linecolor": "#EBF0F8",
           "ticks": "",
           "title": {
            "standoff": 15
           },
           "zerolinecolor": "#EBF0F8",
           "zerolinewidth": 2
          }
         }
        },
        "title": {
         "text": "Top 10 languages"
        },
        "xaxis": {
         "anchor": "y",
         "domain": [
          0,
          1
         ],
         "title": {
          "text": "Language"
         }
        },
        "yaxis": {
         "anchor": "x",
         "domain": [
          0,
          1
         ],
         "title": {
          "text": "Per cent of Tweets"
         }
        }
       }
      }
     },
     "metadata": {},
     "output_type": "display_data"
    }
   ],
   "source": [
    "langs = data.loc[:,[\"lang\",\"total\"]].groupby(\"lang\").sum().reset_index()\n",
    "langs = langs.sort_values(\"total\",ascending=False)\n",
    "langs[\"total\"] = round(langs[\"total\"]/langs[\"total\"].sum() *100,2)\n",
    "langs[\"lang\"]=langs[\"lang\"].replace({\"en\":\"English\",\"ja\":\"Japanese\",\"es\":\"Spanish\",\"fr\":\"French\",\"zh\":\"Chinese\",\n",
    "                                        \"de\":\"German\",\"ar\":\"Arabic\",\"tr\":\"Turkish\",\"ko\":\"Korean\",\"pt\":\"Portuguese\",\"nl\":\"Dutch\"})\n",
    "\n",
    "langs.to_excel(\"../analysis/langs_distribution.xlsx\")\n",
    "\n",
    "fig = px.bar(langs.iloc[[0,3,4,5,6,7,9,11,12,13],:], x='lang', y='total',text_auto=True,template=\"plotly_white\",\n",
    "                labels=dict(lang=\"Language\", total=\"Per cent of Tweets\"),\n",
    "                title = \"Top 10 languages\")\n",
    "\n",
    "fig.show()"
   ]
  },
  {
   "cell_type": "code",
   "execution_count": 35,
   "metadata": {},
   "outputs": [
    {
     "data": {
      "application/vnd.plotly.v1+json": {
       "config": {
        "plotlyServerURL": "https://plot.ly"
       },
       "data": [
        {
         "hovertemplate": "Group=Japanese<br>Date=%{x}<br>Number of Tweets per day=%{y}<extra></extra>",
         "legendgroup": "Japanese",
         "line": {
          "color": "#636efa",
          "dash": "solid"
         },
         "marker": {
          "symbol": "circle"
         },
         "mode": "lines",
         "name": "Japanese",
         "orientation": "v",
         "showlegend": true,
         "type": "scatter",
         "x": [
          "2022-11-30",
          "2022-12-01",
          "2022-12-02",
          "2022-12-03",
          "2022-12-04",
          "2022-12-05",
          "2022-12-06",
          "2022-12-07",
          "2022-12-08",
          "2022-12-09",
          "2022-12-10",
          "2022-12-11",
          "2022-12-12",
          "2022-12-13",
          "2022-12-14",
          "2022-12-15",
          "2022-12-16",
          "2022-12-17",
          "2022-12-18",
          "2022-12-19",
          "2022-12-20",
          "2022-12-21",
          "2022-12-22",
          "2022-12-23",
          "2022-12-24",
          "2022-12-25",
          "2022-12-26",
          "2022-12-27",
          "2022-12-28",
          "2022-12-29",
          "2022-12-30",
          "2022-12-31",
          "2023-01-01",
          "2023-01-02",
          "2023-01-03",
          "2023-01-04",
          "2023-01-05",
          "2023-01-06",
          "2023-01-07",
          "2023-01-08",
          "2023-01-09",
          "2023-01-10",
          "2023-01-11",
          "2023-01-12",
          "2023-01-13",
          "2023-01-14",
          "2023-01-15",
          "2023-01-16",
          "2023-01-17",
          "2023-01-18",
          "2023-01-19",
          "2023-01-20",
          "2023-01-21",
          "2023-01-22",
          "2023-01-23",
          "2023-01-24",
          "2023-01-25",
          "2023-01-26",
          "2023-01-27",
          "2023-01-28",
          "2023-01-29",
          "2023-01-30",
          "2023-01-31"
         ],
         "xaxis": "x",
         "y": [
          100,
          21418,
          40548,
          26170,
          12862,
          21260,
          16329,
          12195,
          9449,
          6023,
          6645,
          5209,
          4479,
          3158,
          2728,
          2283,
          2092,
          1695,
          1970,
          1540,
          1703,
          1972,
          2718,
          2482,
          4272,
          2395,
          2036,
          1939,
          1492,
          1968,
          1862,
          1604,
          1640,
          1925,
          2690,
          3087,
          5136,
          4935,
          4020,
          4318,
          5779,
          6552,
          8621,
          5829,
          4997,
          6288,
          9634,
          11130,
          11167,
          6737,
          8902,
          10178,
          11038,
          7170,
          7537,
          18665,
          16819,
          12621,
          12675,
          14169,
          23928,
          25802,
          15416
         ],
         "yaxis": "y"
        },
        {
         "hovertemplate": "Group=English<br>Date=%{x}<br>Number of Tweets per day=%{y}<extra></extra>",
         "legendgroup": "English",
         "line": {
          "color": "#EF553B",
          "dash": "solid"
         },
         "marker": {
          "symbol": "circle"
         },
         "mode": "lines",
         "name": "English",
         "orientation": "v",
         "showlegend": true,
         "type": "scatter",
         "x": [
          "2022-11-30",
          "2022-12-01",
          "2022-12-02",
          "2022-12-03",
          "2022-12-04",
          "2022-12-05",
          "2022-12-06",
          "2022-12-07",
          "2022-12-08",
          "2022-12-09",
          "2022-12-10",
          "2022-12-11",
          "2022-12-12",
          "2022-12-13",
          "2022-12-14",
          "2022-12-15",
          "2022-12-16",
          "2022-12-17",
          "2022-12-18",
          "2022-12-19",
          "2022-12-20",
          "2022-12-21",
          "2022-12-22",
          "2022-12-23",
          "2022-12-24",
          "2022-12-25",
          "2022-12-26",
          "2022-12-27",
          "2022-12-28",
          "2022-12-29",
          "2022-12-30",
          "2022-12-31",
          "2023-01-01",
          "2023-01-02",
          "2023-01-03",
          "2023-01-04",
          "2023-01-05",
          "2023-01-06",
          "2023-01-07",
          "2023-01-08",
          "2023-01-09",
          "2023-01-10",
          "2023-01-11",
          "2023-01-12",
          "2023-01-13",
          "2023-01-14",
          "2023-01-15",
          "2023-01-16",
          "2023-01-17",
          "2023-01-18",
          "2023-01-19",
          "2023-01-20",
          "2023-01-21",
          "2023-01-22",
          "2023-01-23",
          "2023-01-24",
          "2023-01-25",
          "2023-01-26",
          "2023-01-27",
          "2023-01-28",
          "2023-01-29",
          "2023-01-30",
          "2023-01-31"
         ],
         "xaxis": "x",
         "y": [
          4420,
          60491,
          127309,
          162140,
          173111,
          228010,
          227677,
          200870,
          223548,
          254158,
          212967,
          253769,
          284885,
          201848,
          251529,
          150774,
          194889,
          178823,
          178741,
          187061,
          209994,
          154200,
          147356,
          155748,
          167386,
          88382,
          97064,
          98191,
          94689,
          127651,
          187580,
          122816,
          101901,
          128850,
          123566,
          145543,
          137259,
          164672,
          156324,
          157685,
          137410,
          175755,
          200142,
          233170,
          233881,
          173468,
          119632,
          175205,
          220397,
          184942,
          196695,
          191535,
          216510,
          217248,
          318064,
          313074,
          296579,
          344831,
          373081,
          329225,
          386758,
          332396,
          344125
         ],
         "yaxis": "y"
        }
       ],
       "layout": {
        "height": 600,
        "legend": {
         "title": {
          "text": "Group"
         },
         "tracegroupgap": 0
        },
        "template": {
         "data": {
          "bar": [
           {
            "error_x": {
             "color": "#2a3f5f"
            },
            "error_y": {
             "color": "#2a3f5f"
            },
            "marker": {
             "line": {
              "color": "white",
              "width": 0.5
             },
             "pattern": {
              "fillmode": "overlay",
              "size": 10,
              "solidity": 0.2
             }
            },
            "type": "bar"
           }
          ],
          "barpolar": [
           {
            "marker": {
             "line": {
              "color": "white",
              "width": 0.5
             },
             "pattern": {
              "fillmode": "overlay",
              "size": 10,
              "solidity": 0.2
             }
            },
            "type": "barpolar"
           }
          ],
          "carpet": [
           {
            "aaxis": {
             "endlinecolor": "#2a3f5f",
             "gridcolor": "#C8D4E3",
             "linecolor": "#C8D4E3",
             "minorgridcolor": "#C8D4E3",
             "startlinecolor": "#2a3f5f"
            },
            "baxis": {
             "endlinecolor": "#2a3f5f",
             "gridcolor": "#C8D4E3",
             "linecolor": "#C8D4E3",
             "minorgridcolor": "#C8D4E3",
             "startlinecolor": "#2a3f5f"
            },
            "type": "carpet"
           }
          ],
          "choropleth": [
           {
            "colorbar": {
             "outlinewidth": 0,
             "ticks": ""
            },
            "type": "choropleth"
           }
          ],
          "contour": [
           {
            "colorbar": {
             "outlinewidth": 0,
             "ticks": ""
            },
            "colorscale": [
             [
              0,
              "#0d0887"
             ],
             [
              0.1111111111111111,
              "#46039f"
             ],
             [
              0.2222222222222222,
              "#7201a8"
             ],
             [
              0.3333333333333333,
              "#9c179e"
             ],
             [
              0.4444444444444444,
              "#bd3786"
             ],
             [
              0.5555555555555556,
              "#d8576b"
             ],
             [
              0.6666666666666666,
              "#ed7953"
             ],
             [
              0.7777777777777778,
              "#fb9f3a"
             ],
             [
              0.8888888888888888,
              "#fdca26"
             ],
             [
              1,
              "#f0f921"
             ]
            ],
            "type": "contour"
           }
          ],
          "contourcarpet": [
           {
            "colorbar": {
             "outlinewidth": 0,
             "ticks": ""
            },
            "type": "contourcarpet"
           }
          ],
          "heatmap": [
           {
            "colorbar": {
             "outlinewidth": 0,
             "ticks": ""
            },
            "colorscale": [
             [
              0,
              "#0d0887"
             ],
             [
              0.1111111111111111,
              "#46039f"
             ],
             [
              0.2222222222222222,
              "#7201a8"
             ],
             [
              0.3333333333333333,
              "#9c179e"
             ],
             [
              0.4444444444444444,
              "#bd3786"
             ],
             [
              0.5555555555555556,
              "#d8576b"
             ],
             [
              0.6666666666666666,
              "#ed7953"
             ],
             [
              0.7777777777777778,
              "#fb9f3a"
             ],
             [
              0.8888888888888888,
              "#fdca26"
             ],
             [
              1,
              "#f0f921"
             ]
            ],
            "type": "heatmap"
           }
          ],
          "heatmapgl": [
           {
            "colorbar": {
             "outlinewidth": 0,
             "ticks": ""
            },
            "colorscale": [
             [
              0,
              "#0d0887"
             ],
             [
              0.1111111111111111,
              "#46039f"
             ],
             [
              0.2222222222222222,
              "#7201a8"
             ],
             [
              0.3333333333333333,
              "#9c179e"
             ],
             [
              0.4444444444444444,
              "#bd3786"
             ],
             [
              0.5555555555555556,
              "#d8576b"
             ],
             [
              0.6666666666666666,
              "#ed7953"
             ],
             [
              0.7777777777777778,
              "#fb9f3a"
             ],
             [
              0.8888888888888888,
              "#fdca26"
             ],
             [
              1,
              "#f0f921"
             ]
            ],
            "type": "heatmapgl"
           }
          ],
          "histogram": [
           {
            "marker": {
             "pattern": {
              "fillmode": "overlay",
              "size": 10,
              "solidity": 0.2
             }
            },
            "type": "histogram"
           }
          ],
          "histogram2d": [
           {
            "colorbar": {
             "outlinewidth": 0,
             "ticks": ""
            },
            "colorscale": [
             [
              0,
              "#0d0887"
             ],
             [
              0.1111111111111111,
              "#46039f"
             ],
             [
              0.2222222222222222,
              "#7201a8"
             ],
             [
              0.3333333333333333,
              "#9c179e"
             ],
             [
              0.4444444444444444,
              "#bd3786"
             ],
             [
              0.5555555555555556,
              "#d8576b"
             ],
             [
              0.6666666666666666,
              "#ed7953"
             ],
             [
              0.7777777777777778,
              "#fb9f3a"
             ],
             [
              0.8888888888888888,
              "#fdca26"
             ],
             [
              1,
              "#f0f921"
             ]
            ],
            "type": "histogram2d"
           }
          ],
          "histogram2dcontour": [
           {
            "colorbar": {
             "outlinewidth": 0,
             "ticks": ""
            },
            "colorscale": [
             [
              0,
              "#0d0887"
             ],
             [
              0.1111111111111111,
              "#46039f"
             ],
             [
              0.2222222222222222,
              "#7201a8"
             ],
             [
              0.3333333333333333,
              "#9c179e"
             ],
             [
              0.4444444444444444,
              "#bd3786"
             ],
             [
              0.5555555555555556,
              "#d8576b"
             ],
             [
              0.6666666666666666,
              "#ed7953"
             ],
             [
              0.7777777777777778,
              "#fb9f3a"
             ],
             [
              0.8888888888888888,
              "#fdca26"
             ],
             [
              1,
              "#f0f921"
             ]
            ],
            "type": "histogram2dcontour"
           }
          ],
          "mesh3d": [
           {
            "colorbar": {
             "outlinewidth": 0,
             "ticks": ""
            },
            "type": "mesh3d"
           }
          ],
          "parcoords": [
           {
            "line": {
             "colorbar": {
              "outlinewidth": 0,
              "ticks": ""
             }
            },
            "type": "parcoords"
           }
          ],
          "pie": [
           {
            "automargin": true,
            "type": "pie"
           }
          ],
          "scatter": [
           {
            "fillpattern": {
             "fillmode": "overlay",
             "size": 10,
             "solidity": 0.2
            },
            "type": "scatter"
           }
          ],
          "scatter3d": [
           {
            "line": {
             "colorbar": {
              "outlinewidth": 0,
              "ticks": ""
             }
            },
            "marker": {
             "colorbar": {
              "outlinewidth": 0,
              "ticks": ""
             }
            },
            "type": "scatter3d"
           }
          ],
          "scattercarpet": [
           {
            "marker": {
             "colorbar": {
              "outlinewidth": 0,
              "ticks": ""
             }
            },
            "type": "scattercarpet"
           }
          ],
          "scattergeo": [
           {
            "marker": {
             "colorbar": {
              "outlinewidth": 0,
              "ticks": ""
             }
            },
            "type": "scattergeo"
           }
          ],
          "scattergl": [
           {
            "marker": {
             "colorbar": {
              "outlinewidth": 0,
              "ticks": ""
             }
            },
            "type": "scattergl"
           }
          ],
          "scattermapbox": [
           {
            "marker": {
             "colorbar": {
              "outlinewidth": 0,
              "ticks": ""
             }
            },
            "type": "scattermapbox"
           }
          ],
          "scatterpolar": [
           {
            "marker": {
             "colorbar": {
              "outlinewidth": 0,
              "ticks": ""
             }
            },
            "type": "scatterpolar"
           }
          ],
          "scatterpolargl": [
           {
            "marker": {
             "colorbar": {
              "outlinewidth": 0,
              "ticks": ""
             }
            },
            "type": "scatterpolargl"
           }
          ],
          "scatterternary": [
           {
            "marker": {
             "colorbar": {
              "outlinewidth": 0,
              "ticks": ""
             }
            },
            "type": "scatterternary"
           }
          ],
          "surface": [
           {
            "colorbar": {
             "outlinewidth": 0,
             "ticks": ""
            },
            "colorscale": [
             [
              0,
              "#0d0887"
             ],
             [
              0.1111111111111111,
              "#46039f"
             ],
             [
              0.2222222222222222,
              "#7201a8"
             ],
             [
              0.3333333333333333,
              "#9c179e"
             ],
             [
              0.4444444444444444,
              "#bd3786"
             ],
             [
              0.5555555555555556,
              "#d8576b"
             ],
             [
              0.6666666666666666,
              "#ed7953"
             ],
             [
              0.7777777777777778,
              "#fb9f3a"
             ],
             [
              0.8888888888888888,
              "#fdca26"
             ],
             [
              1,
              "#f0f921"
             ]
            ],
            "type": "surface"
           }
          ],
          "table": [
           {
            "cells": {
             "fill": {
              "color": "#EBF0F8"
             },
             "line": {
              "color": "white"
             }
            },
            "header": {
             "fill": {
              "color": "#C8D4E3"
             },
             "line": {
              "color": "white"
             }
            },
            "type": "table"
           }
          ]
         },
         "layout": {
          "annotationdefaults": {
           "arrowcolor": "#2a3f5f",
           "arrowhead": 0,
           "arrowwidth": 1
          },
          "autotypenumbers": "strict",
          "coloraxis": {
           "colorbar": {
            "outlinewidth": 0,
            "ticks": ""
           }
          },
          "colorscale": {
           "diverging": [
            [
             0,
             "#8e0152"
            ],
            [
             0.1,
             "#c51b7d"
            ],
            [
             0.2,
             "#de77ae"
            ],
            [
             0.3,
             "#f1b6da"
            ],
            [
             0.4,
             "#fde0ef"
            ],
            [
             0.5,
             "#f7f7f7"
            ],
            [
             0.6,
             "#e6f5d0"
            ],
            [
             0.7,
             "#b8e186"
            ],
            [
             0.8,
             "#7fbc41"
            ],
            [
             0.9,
             "#4d9221"
            ],
            [
             1,
             "#276419"
            ]
           ],
           "sequential": [
            [
             0,
             "#0d0887"
            ],
            [
             0.1111111111111111,
             "#46039f"
            ],
            [
             0.2222222222222222,
             "#7201a8"
            ],
            [
             0.3333333333333333,
             "#9c179e"
            ],
            [
             0.4444444444444444,
             "#bd3786"
            ],
            [
             0.5555555555555556,
             "#d8576b"
            ],
            [
             0.6666666666666666,
             "#ed7953"
            ],
            [
             0.7777777777777778,
             "#fb9f3a"
            ],
            [
             0.8888888888888888,
             "#fdca26"
            ],
            [
             1,
             "#f0f921"
            ]
           ],
           "sequentialminus": [
            [
             0,
             "#0d0887"
            ],
            [
             0.1111111111111111,
             "#46039f"
            ],
            [
             0.2222222222222222,
             "#7201a8"
            ],
            [
             0.3333333333333333,
             "#9c179e"
            ],
            [
             0.4444444444444444,
             "#bd3786"
            ],
            [
             0.5555555555555556,
             "#d8576b"
            ],
            [
             0.6666666666666666,
             "#ed7953"
            ],
            [
             0.7777777777777778,
             "#fb9f3a"
            ],
            [
             0.8888888888888888,
             "#fdca26"
            ],
            [
             1,
             "#f0f921"
            ]
           ]
          },
          "colorway": [
           "#636efa",
           "#EF553B",
           "#00cc96",
           "#ab63fa",
           "#FFA15A",
           "#19d3f3",
           "#FF6692",
           "#B6E880",
           "#FF97FF",
           "#FECB52"
          ],
          "font": {
           "color": "#2a3f5f"
          },
          "geo": {
           "bgcolor": "white",
           "lakecolor": "white",
           "landcolor": "white",
           "showlakes": true,
           "showland": true,
           "subunitcolor": "#C8D4E3"
          },
          "hoverlabel": {
           "align": "left"
          },
          "hovermode": "closest",
          "mapbox": {
           "style": "light"
          },
          "paper_bgcolor": "white",
          "plot_bgcolor": "white",
          "polar": {
           "angularaxis": {
            "gridcolor": "#EBF0F8",
            "linecolor": "#EBF0F8",
            "ticks": ""
           },
           "bgcolor": "white",
           "radialaxis": {
            "gridcolor": "#EBF0F8",
            "linecolor": "#EBF0F8",
            "ticks": ""
           }
          },
          "scene": {
           "xaxis": {
            "backgroundcolor": "white",
            "gridcolor": "#DFE8F3",
            "gridwidth": 2,
            "linecolor": "#EBF0F8",
            "showbackground": true,
            "ticks": "",
            "zerolinecolor": "#EBF0F8"
           },
           "yaxis": {
            "backgroundcolor": "white",
            "gridcolor": "#DFE8F3",
            "gridwidth": 2,
            "linecolor": "#EBF0F8",
            "showbackground": true,
            "ticks": "",
            "zerolinecolor": "#EBF0F8"
           },
           "zaxis": {
            "backgroundcolor": "white",
            "gridcolor": "#DFE8F3",
            "gridwidth": 2,
            "linecolor": "#EBF0F8",
            "showbackground": true,
            "ticks": "",
            "zerolinecolor": "#EBF0F8"
           }
          },
          "shapedefaults": {
           "line": {
            "color": "#2a3f5f"
           }
          },
          "ternary": {
           "aaxis": {
            "gridcolor": "#DFE8F3",
            "linecolor": "#A2B1C6",
            "ticks": ""
           },
           "baxis": {
            "gridcolor": "#DFE8F3",
            "linecolor": "#A2B1C6",
            "ticks": ""
           },
           "bgcolor": "white",
           "caxis": {
            "gridcolor": "#DFE8F3",
            "linecolor": "#A2B1C6",
            "ticks": ""
           }
          },
          "title": {
           "x": 0.05
          },
          "xaxis": {
           "automargin": true,
           "gridcolor": "#EBF0F8",
           "linecolor": "#EBF0F8",
           "ticks": "",
           "title": {
            "standoff": 15
           },
           "zerolinecolor": "#EBF0F8",
           "zerolinewidth": 2
          },
          "yaxis": {
           "automargin": true,
           "gridcolor": "#EBF0F8",
           "linecolor": "#EBF0F8",
           "ticks": "",
           "title": {
            "standoff": 15
           },
           "zerolinecolor": "#EBF0F8",
           "zerolinewidth": 2
          }
         }
        },
        "title": {
         "text": "Dynamics of the number of Tweets"
        },
        "width": 800,
        "xaxis": {
         "anchor": "y",
         "domain": [
          0,
          1
         ],
         "title": {
          "text": "Date"
         }
        },
        "yaxis": {
         "anchor": "x",
         "domain": [
          0,
          1
         ],
         "title": {
          "text": "Number of Tweets per day"
         }
        }
       }
      }
     },
     "metadata": {},
     "output_type": "display_data"
    }
   ],
   "source": [
    "jap = data.loc[data.lang == \"ja\",[\"date\",\"total\"]].groupby(\"date\").sum().reset_index()\n",
    "eng = data.loc[data.lang == \"en\",[\"date\",\"total\"]].groupby(\"date\").sum().reset_index()\n",
    "\n",
    "jap[\"Group\"] = \"Japanese\" \n",
    "eng['Group'] = \"English\"\n",
    "\n",
    "df = pd.concat([jap,eng],axis=0)\n",
    "\n",
    "fig = px.line(df, x=\"date\", y=\"total\", title='Dynamics of the number of Tweets',color=\"Group\",\n",
    "                labels=dict(date=\"Date\", total=\"Number of Tweets per day\"),template=\"plotly_white\",\n",
    "                 width=800, height=600)\n",
    "\n",
    "fig.show()"
   ]
  },
  {
   "cell_type": "code",
   "execution_count": null,
   "metadata": {},
   "outputs": [],
   "source": []
  }
 ],
 "metadata": {
  "kernelspec": {
   "display_name": "chatgpt",
   "language": "python",
   "name": "python3"
  },
  "language_info": {
   "codemirror_mode": {
    "name": "ipython",
    "version": 3
   },
   "file_extension": ".py",
   "mimetype": "text/x-python",
   "name": "python",
   "nbconvert_exporter": "python",
   "pygments_lexer": "ipython3",
   "version": "3.9.16"
  },
  "orig_nbformat": 4,
  "vscode": {
   "interpreter": {
    "hash": "c498fff0e646d7d7e47743c6b62b2b1749eb16b128d528401df01971235654c5"
   }
  }
 },
 "nbformat": 4,
 "nbformat_minor": 2
}
